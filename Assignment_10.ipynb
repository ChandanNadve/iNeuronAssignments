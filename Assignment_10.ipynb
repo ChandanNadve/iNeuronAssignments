{
  "cells": [
    {
      "attachments": {},
      "cell_type": "markdown",
      "metadata": {
        "id": "pDloLJVPqPdX"
      },
      "source": [
        "1. How do you distinguish between shutil.copy() and shutil.copytree()?"
      ]
    },
    {
      "cell_type": "code",
      "execution_count": null,
      "metadata": {
        "id": "w3XOipkYqW7j"
      },
      "outputs": [],
      "source": [
        "## Answer\n",
        "# shutil.copy() will copy single file\n",
        "# shutil.copytree() will copy the entire folder, subfolder and files with in it"
      ]
    },
    {
      "attachments": {},
      "cell_type": "markdown",
      "metadata": {
        "id": "LT5aipjCqW-n"
      },
      "source": [
        "2. What function is used to rename files??"
      ]
    },
    {
      "cell_type": "code",
      "execution_count": null,
      "metadata": {
        "id": "RedWAHWWqXBj"
      },
      "outputs": [],
      "source": [
        "## Answer\n",
        "#shutil.move() function will use to rename the file. Practically it will take original file and over write the file with new specified name\n",
        "import shutil\n",
        "shutil.move('file.txt', 'newfile.txt')\n",
        "\n",
        "import os\n",
        "os.rename('file.txt', 'newfile.txt')"
      ]
    },
    {
      "attachments": {},
      "cell_type": "markdown",
      "metadata": {
        "id": "lVWAWVGmqXEO"
      },
      "source": [
        "3. What is the difference between the delete functions in the send2trash and shutil modules?"
      ]
    },
    {
      "cell_type": "code",
      "execution_count": null,
      "metadata": {
        "id": "rVrcGtPOqXHG"
      },
      "outputs": [],
      "source": [
        "## Answer\n",
        "# 1. delete function in send2trash are reversible where all the deleted files/folders will be in the recycle bin\n",
        "# 2. delete function in shutil are irreversible where all the deleted folders will are removing permanently"
      ]
    },
    {
      "attachments": {},
      "cell_type": "markdown",
      "metadata": {
        "id": "hx1mtjh_qXJ2"
      },
      "source": [
        "4. ZipFile objects have a close() method just like File objects’ close() method. What ZipFile method is equivalent to File objects’ open() method?"
      ]
    },
    {
      "cell_type": "code",
      "execution_count": null,
      "metadata": {
        "id": "eFDnxhKyqXMu"
      },
      "outputs": [],
      "source": [
        "## Answer\n",
        "# ZipFile() method is equivalent to the open() method for file object"
      ]
    },
    {
      "attachments": {},
      "cell_type": "markdown",
      "metadata": {
        "id": "5wJc8qs0qXSo"
      },
      "source": [
        "5. Create a programme that searches a folder tree for files with a certain file extension (such as .pdf or .jpg). Copy these files from whatever location they are in to a new folder."
      ]
    },
    {
      "cell_type": "code",
      "execution_count": 2,
      "metadata": {
        "id": "IbuFtyysqgAj"
      },
      "outputs": [
        {
          "name": "stdout",
          "output_type": "stream",
          "text": [
            "Folder alredy Exists\n",
            "The List of moved files are  ['24052023 Indents.pdf', 'AV072023MAL.pdf', 'BankMuscatReceipt.pdf', 'Chandan Linear Regression FSDS Recorded Class.pdf', 'Data Science.pdf', 'Driving Guidelines.pdf', 'fsds-bootcamp-2.0.pdf', \"If you're Beginner, Here are 4 popular.pdf\", 'Infoway Technologies LLC (ERP System) (1).pdf', 'Infoway Technologies LLC (ERP System).pdf', \"Jagesh's Resume (7) (4) (1).pdf\", 'Offer Acceptance Letter Chandan.pdf', 'Pending Indents as on 23_05_2023.pdf', 'WhatsApp Image 2023-05-01 at 11.41.15.jpeg', 'WhatsApp Image 2023-06-12 at 17.09.49.jpeg']\n"
          ]
        }
      ],
      "source": [
        "#Answer\n",
        "import os,shutil\n",
        "files=os.listdir(os.getcwd())\n",
        "def move_files():\n",
        "  try:\n",
        "      os.mkdir('PDF and JPEG Files')\n",
        "  except:\n",
        "      print('Folder alredy Exists')\n",
        "  moved_files=[]\n",
        "  for file in files:\n",
        "      if ((file.endswith('.pdf')) or (file.endswith('.jpeg'))):\n",
        "          moved_files.append(file)\n",
        "          shutil.move(file,'.\\\\PDF and JPEG Files\\\\'+file)\n",
        "  print(\"The List of moved files are \",moved_files)\n",
        "move_files()"
      ]
    }
  ],
  "metadata": {
    "colab": {
      "provenance": []
    },
    "kernelspec": {
      "display_name": "Python 3",
      "name": "python3"
    },
    "language_info": {
      "codemirror_mode": {
        "name": "ipython",
        "version": 3
      },
      "file_extension": ".py",
      "mimetype": "text/x-python",
      "name": "python",
      "nbconvert_exporter": "python",
      "pygments_lexer": "ipython3",
      "version": "3.10.9"
    }
  },
  "nbformat": 4,
  "nbformat_minor": 0
}
