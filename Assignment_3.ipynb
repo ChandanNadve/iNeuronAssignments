{
 "cells": [
  {
   "cell_type": "markdown",
   "id": "3d0e46b6",
   "metadata": {},
   "source": [
    "### 1. Why are functions advantageous to have in your programs?\n",
    "\n",
    "### Answer :\n",
    "\n",
    "Reusability - Function will reduce rewriting of the code, that means reusability of code will support.\n",
    "\n",
    "Modular Coding - Function will helps to build modular coding.\n",
    "\n",
    "Easy to Maintain - For Example if we want to change some logic/if we need to correct some errors, \n",
    "if we used function its very eas\n"
   ]
  },
  {
   "cell_type": "markdown",
   "id": "10fb7511",
   "metadata": {},
   "source": [
    "### 2. When does the code in a function run: when it's specified or when it's called?\n",
    "\n",
    "### Answer :\n",
    "\n",
    "Function will run when its called."
   ]
  },
  {
   "cell_type": "markdown",
   "id": "eb750dc9",
   "metadata": {},
   "source": [
    "### 3. What statement creates a function?\n",
    "\n",
    "### Answer :\n",
    "\n",
    "We will use def key word to create the function suffix by functionname"
   ]
  },
  {
   "cell_type": "markdown",
   "id": "d82d6048",
   "metadata": {},
   "source": [
    "### 4. What is the difference between a function and a function call?\n",
    "\n",
    "### Answer :\n",
    "\n",
    "In the function we will write the definition of Function, and while creating function compiler will not run the logic. it will just store the script in its memory\n",
    "\n",
    "In Function Call we will pass the attributes. During function call actual function will run and it will return the value if there is any return statement is there."
   ]
  },
  {
   "cell_type": "markdown",
   "id": "2345086e",
   "metadata": {},
   "source": [
    "### 5. How many global scopes are there in a Python program? How many local scopes?\n",
    "\n",
    "### Answer :\n",
    "Global Scopes - This will not declare inside the function. This can access any where in the program.\n",
    "\n",
    "Local Scopes - This will be available within the function or method.This variables can not access outside the method.\n",
    "\n",
    "### Note - To decide the number oflocal and global variabale python program is not given"
   ]
  },
  {
   "cell_type": "markdown",
   "id": "91e6bdc0",
   "metadata": {},
   "source": [
    "### 6. What happens to variables in a local scope when the function call returns?\n",
    "\n",
    "### Answer :\n",
    "Varibles in the local scope will clear their memory space after return statement. \n",
    "that means local variables will not be available after return statement to access."
   ]
  },
  {
   "cell_type": "markdown",
   "id": "a128c546",
   "metadata": {},
   "source": [
    "### 7. What is the concept of a return value? Is it possible to have a return value in an expression?\n",
    "\n",
    "### Answer :\n",
    "\n",
    "Return value is the result of the function. If thetr is no any retuen value in a function it will return None.\n"
   ]
  },
  {
   "cell_type": "markdown",
   "id": "53eb153d",
   "metadata": {},
   "source": [
    "### 8. If a function does not have a return statement, what is the return value of a call to that function?\n",
    "\n",
    "### Answer :\n",
    "\n",
    "It will return None Type"
   ]
  },
  {
   "cell_type": "markdown",
   "id": "c96217f7",
   "metadata": {},
   "source": [
    "### 9. How do you make a function variable refer to the global variable?\n",
    "\n",
    "### Answer :\n",
    "\n",
    "We can simply call the global variable name inside the function, but if we want to explicitly modify the variable value then we need to use the global keyword;"
   ]
  },
  {
   "cell_type": "markdown",
   "id": "42b53f03",
   "metadata": {},
   "source": [
    "### 10. What is the data type of None?\n",
    "\n",
    "### Answer :\n",
    "\n",
    "If a function is missed the return statement then it will return None Type"
   ]
  },
  {
   "cell_type": "markdown",
   "id": "5fc2bfe0",
   "metadata": {},
   "source": [
    "### 11. What does the sentence import areallyourpetsnamederic do?\n",
    "\n",
    "### Answer :\n",
    "\n",
    "This sentence will import the module name called \"areallyourpetsnamederic\". This will make available of all behaviours inside the module to use in current script."
   ]
  },
  {
   "cell_type": "markdown",
   "id": "6ef4452f",
   "metadata": {},
   "source": [
    "### 12. If you had a bacon() feature in a spam module, what would you call it after importing spam?\n",
    "\n",
    "### Answer :\n",
    "\n",
    "import spam as sp\n",
    "sp.bacon()"
   ]
  },
  {
   "cell_type": "markdown",
   "id": "e3d39376",
   "metadata": {},
   "source": [
    "### 13. What can you do to save a programme from crashing if it encounters an error?\n",
    "\n",
    "### Answer :\n",
    "\n",
    "We can use Exception Handling for this"
   ]
  },
  {
   "cell_type": "markdown",
   "id": "17faf417",
   "metadata": {},
   "source": [
    "### 14. What is the purpose of the try clause? What is the purpose of the except clause?\n",
    "\n",
    "### Answer :\n",
    "\n",
    "In the try clause we will write the actual code as per our requirement. \n",
    "If there is no error in the logical error in try block python will execute the try block. \n",
    "\n",
    "If any error found in try block then except clause will get executed\n",
    "\n",
    "\n"
   ]
  }
 ],
 "metadata": {
  "kernelspec": {
   "display_name": "Python 3 (ipykernel)",
   "language": "python",
   "name": "python3"
  },
  "language_info": {
   "codemirror_mode": {
    "name": "ipython",
    "version": 3
   },
   "file_extension": ".py",
   "mimetype": "text/x-python",
   "name": "python",
   "nbconvert_exporter": "python",
   "pygments_lexer": "ipython3",
   "version": "3.9.12"
  }
 },
 "nbformat": 4,
 "nbformat_minor": 5
}
