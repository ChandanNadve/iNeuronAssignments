{
 "cells": [
  {
   "cell_type": "markdown",
   "metadata": {
    "id": "50ViHSX8tGhu"
   },
   "source": [
    "1. Create a list called years_list, starting with the year of your birth, and each year thereafter until the year of your fifth birthday. For example, if you were born in 1980. the list would be years_list = [1980, 1981, 1982, 1983, 1984, 1985]."
   ]
  },
  {
   "cell_type": "code",
   "execution_count": 5,
   "metadata": {
    "id": "7aJAZm6ztJsC"
   },
   "outputs": [
    {
     "name": "stdout",
     "output_type": "stream",
     "text": [
      "Please Enter your year of birth : 1992\n",
      "How many birthyday count you need?? : 5\n",
      "[1992, 1993, 1994, 1995, 1996, 1997]\n"
     ]
    }
   ],
   "source": [
    "## Answer\n",
    "def get_birthday_years(year_of_birth,birthday_count):\n",
    "    years_list=[]\n",
    "    for i in range(0,birthday_count+1):\n",
    "        years_list.append(year_of_birth+i)\n",
    "    return years_list\n",
    "\n",
    "try:\n",
    "    year_of_birth=int(input('Please Enter your year of birth : '))\n",
    "    birthday_count=int(input('How many birthyday count you need?? : '))\n",
    "except Exception as e:\n",
    "    print(e)\n",
    "print(get_birthday_years(year_of_birth,birthday_count))\n",
    "years_list=get_birthday_years(year_of_birth,birthday_count)"
   ]
  },
  {
   "cell_type": "markdown",
   "metadata": {
    "id": "iCEpbqwgtJvF"
   },
   "source": [
    "2. In which year in years_list was your third birthday? Remember, you were 0 years of age for your first year."
   ]
  },
  {
   "cell_type": "code",
   "execution_count": 6,
   "metadata": {
    "id": "BVgLJD1OtJyQ"
   },
   "outputs": [
    {
     "name": "stdout",
     "output_type": "stream",
     "text": [
      "My 3rd year birthday is on  1995\n"
     ]
    }
   ],
   "source": [
    "## Answer\n",
    "print(\"My 3rd year birthday is on \",years_list[3])"
   ]
  },
  {
   "cell_type": "markdown",
   "metadata": {
    "id": "lb60gkSPtJ1I"
   },
   "source": [
    "3. In the years list, which year were you the oldest?"
   ]
  },
  {
   "cell_type": "code",
   "execution_count": 7,
   "metadata": {
    "id": "AZhX98BstJ4I"
   },
   "outputs": [
    {
     "name": "stdout",
     "output_type": "stream",
     "text": [
      "My oldest year in the list is  1997\n"
     ]
    }
   ],
   "source": [
    "## Answer\n",
    "print(\"My oldest year in the list is \",years_list[-1])"
   ]
  },
  {
   "cell_type": "markdown",
   "metadata": {
    "id": "T6dfoiLktJ7A"
   },
   "source": [
    "4. Make a list called things with these three strings as elements: \"mozzarella\", \"cinderella\", \"salmonella\"."
   ]
  },
  {
   "cell_type": "code",
   "execution_count": 11,
   "metadata": {
    "id": "S-Hcaaq3tJ94"
   },
   "outputs": [
    {
     "name": "stdout",
     "output_type": "stream",
     "text": [
      "['mozzarella', 'cinderella', 'salmonella']\n"
     ]
    }
   ],
   "source": [
    "## Answer\n",
    "things=[\"mozzarella\", \"cinderella\", \"salmonella\"]\n",
    "print(things)"
   ]
  },
  {
   "cell_type": "markdown",
   "metadata": {
    "id": "9Fg-kM_1tKA1"
   },
   "source": [
    "5. Capitalize the element in things that refers to a person and then print the list. Did it change the element in the list?"
   ]
  },
  {
   "cell_type": "code",
   "execution_count": 13,
   "metadata": {
    "id": "8h6F_kBstKDm"
   },
   "outputs": [
    {
     "name": "stdout",
     "output_type": "stream",
     "text": [
      "CINDERELLA\n",
      "['mozzarella', 'cinderella', 'salmonella']\n"
     ]
    }
   ],
   "source": [
    "## Answer\n",
    "# In the list Cenderella refers to a person\n",
    "print(things[1].upper())\n",
    "print(things)\n",
    "#No it will not change the list"
   ]
  },
  {
   "cell_type": "markdown",
   "metadata": {
    "id": "Nd680AbftKGn"
   },
   "source": [
    "6. Make a surprise list with the elements \"Groucho,\" \"Chico,\" and \"Harpo.\""
   ]
  },
  {
   "cell_type": "code",
   "execution_count": 22,
   "metadata": {
    "id": "GX2eFi_1tKJQ"
   },
   "outputs": [],
   "source": [
    "## Answer\n",
    "surprise=[\"Groucho\", \"Chico\" , \"Harpo\"]"
   ]
  },
  {
   "cell_type": "markdown",
   "metadata": {
    "id": "sXLRC-ZNtKMI"
   },
   "source": [
    "7. Lowercase the last element of the surprise list, reverse it, and then capitalize it."
   ]
  },
  {
   "cell_type": "code",
   "execution_count": 25,
   "metadata": {
    "id": "hC6K0ZhGtgGK"
   },
   "outputs": [
    {
     "name": "stdout",
     "output_type": "stream",
     "text": [
      "Ohcuorg\n",
      "Ocihc\n",
      "Oprah\n",
      "New List is ['Ohcuorg', 'Ocihc', 'Oprah']\n"
     ]
    }
   ],
   "source": [
    "## Answer\n",
    "new_list=[]\n",
    "for i in range(0,len(surprise)):\n",
    "    print(surprise[i][::-1].capitalize())\n",
    "    new_list.append(surprise[i][::-1].capitalize())\n",
    "print('New List is',new_list)    "
   ]
  },
  {
   "cell_type": "markdown",
   "metadata": {
    "id": "vYPwArOvtgJC"
   },
   "source": [
    "8. Make an English-to-French dictionary called e2f and print it. Here are your starter words: dog is chien, cat is chat, and walrus is morse."
   ]
  },
  {
   "cell_type": "code",
   "execution_count": 27,
   "metadata": {
    "id": "O7k6muoetgMW"
   },
   "outputs": [
    {
     "name": "stdout",
     "output_type": "stream",
     "text": [
      "{'dog': 'chien', 'cat': 'chat', 'warlus': 'morse'}\n"
     ]
    }
   ],
   "source": [
    "## Answer\n",
    "e2f={'dog':'chien','cat':'chat','warlus':'morse'}\n",
    "print(e2f)"
   ]
  },
  {
   "cell_type": "markdown",
   "metadata": {
    "id": "2ILmhHjztgPT"
   },
   "source": [
    "9. Write the French word for walrus in your three-word dictionary e2f."
   ]
  },
  {
   "cell_type": "code",
   "execution_count": 29,
   "metadata": {
    "id": "NVo6l95StgSh"
   },
   "outputs": [
    {
     "name": "stdout",
     "output_type": "stream",
     "text": [
      "The french word for warlus is : morse\n"
     ]
    }
   ],
   "source": [
    "## Answer\n",
    "print('The french word for warlus is :',e2f['warlus'])"
   ]
  },
  {
   "cell_type": "markdown",
   "metadata": {
    "id": "6zQy9C3FtgVu"
   },
   "source": [
    "10. Make a French-to-English dictionary called f2e from e2f. Use the items method."
   ]
  },
  {
   "cell_type": "code",
   "execution_count": 42,
   "metadata": {
    "id": "nE7dAYVetmOy"
   },
   "outputs": [
    {
     "name": "stdout",
     "output_type": "stream",
     "text": [
      "{'chien': 'dog', 'chat': 'cat', 'morse': 'warlus'}\n"
     ]
    }
   ],
   "source": [
    "## Answer\n",
    "f2e={}\n",
    "temp=e2f.items()\n",
    "for i in temp:\n",
    "    f2e[i[1]]=i[0]\n",
    "print(f2e)"
   ]
  },
  {
   "cell_type": "markdown",
   "metadata": {
    "id": "Uy7HznPltmR5"
   },
   "source": [
    "11. Print the English version of the French word chien using f2e."
   ]
  },
  {
   "cell_type": "code",
   "execution_count": 43,
   "metadata": {
    "id": "Ms8tvbeEtmVA"
   },
   "outputs": [
    {
     "name": "stdout",
     "output_type": "stream",
     "text": [
      "Then English version for the 'chien' is  dog\n"
     ]
    }
   ],
   "source": [
    "## Answer\n",
    "print(\"Then English version for the 'chien' is \",f2e['chien'])"
   ]
  },
  {
   "cell_type": "markdown",
   "metadata": {
    "id": "E1A-j5bZtKPC"
   },
   "source": [
    "12. Make and print a set of English words from the keys in e2f."
   ]
  },
  {
   "cell_type": "code",
   "execution_count": 50,
   "metadata": {
    "id": "JYfDLscCtqLm"
   },
   "outputs": [
    {
     "name": "stdout",
     "output_type": "stream",
     "text": [
      "warlus\n",
      "dog\n",
      "cat\n"
     ]
    }
   ],
   "source": [
    "## Answer\n",
    "s1=set(e2f.keys())\n",
    "for i in s1:\n",
    "    print(i)"
   ]
  },
  {
   "cell_type": "markdown",
   "metadata": {
    "id": "MhQ_pfZTtqOq"
   },
   "source": [
    "13. Make a multilevel dictionary called life. Use these strings for the topmost keys: 'animals', 'plants', and 'other'. Make the 'animals' key refer to another dictionary with the keys 'cats', 'octopi', and 'emus'. Make the 'cats' key refer to a list of strings with the values 'Henri', 'Grumpy', and 'Lucy'. Make all the other keys refer to empty dictionaries."
   ]
  },
  {
   "cell_type": "code",
   "execution_count": 52,
   "metadata": {
    "id": "Pg6a5YGktqRq"
   },
   "outputs": [],
   "source": [
    "## Answer\n",
    "life={\n",
    "    'animals':{'cats':'Henri','octopi':'Grumpy','emus':'Lucy'},\n",
    "    'plants':{},\n",
    "    'others':{}\n",
    "}"
   ]
  },
  {
   "cell_type": "markdown",
   "metadata": {
    "id": "R2jD5FJJttV0"
   },
   "source": [
    "14. Print the top-level keys of life."
   ]
  },
  {
   "cell_type": "code",
   "execution_count": 53,
   "metadata": {
    "id": "Y1IuD_iltvQD"
   },
   "outputs": [
    {
     "name": "stdout",
     "output_type": "stream",
     "text": [
      "dict_keys(['animals', 'plants', 'others'])\n"
     ]
    }
   ],
   "source": [
    "## Answer\n",
    "print(life.keys())"
   ]
  },
  {
   "cell_type": "markdown",
   "metadata": {
    "id": "RWT8kz5ttvc4"
   },
   "source": [
    "15. Print the keys for life['animals']."
   ]
  },
  {
   "cell_type": "code",
   "execution_count": 54,
   "metadata": {
    "id": "Bu-VWayltxQH"
   },
   "outputs": [
    {
     "name": "stdout",
     "output_type": "stream",
     "text": [
      "dict_keys(['cats', 'octopi', 'emus'])\n"
     ]
    }
   ],
   "source": [
    "## Answer\n",
    "print(life['animals'].keys())"
   ]
  },
  {
   "cell_type": "markdown",
   "metadata": {
    "id": "98ljSmTRtxYT"
   },
   "source": [
    "16. Print the values for life['animals']['cats']"
   ]
  },
  {
   "cell_type": "code",
   "execution_count": null,
   "metadata": {
    "id": "mXxAYzZatxpe"
   },
   "outputs": [],
   "source": [
    "## Answer\n",
    "print(life['animals']['cats'])"
   ]
  }
 ],
 "metadata": {
  "colab": {
   "provenance": []
  },
  "kernelspec": {
   "display_name": "Python 3 (ipykernel)",
   "language": "python",
   "name": "python3"
  },
  "language_info": {
   "codemirror_mode": {
    "name": "ipython",
    "version": 3
   },
   "file_extension": ".py",
   "mimetype": "text/x-python",
   "name": "python",
   "nbconvert_exporter": "python",
   "pygments_lexer": "ipython3",
   "version": "3.10.9"
  }
 },
 "nbformat": 4,
 "nbformat_minor": 1
}
