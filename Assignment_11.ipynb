{
  "cells": [
    {
      "attachments": {},
      "cell_type": "markdown",
      "metadata": {
        "id": "3s2Qv7Owqoqy"
      },
      "source": [
        "1. Create an assert statement that throws an AssertionError if the variable spam is a negative integer"
      ]
    },
    {
      "cell_type": "code",
      "execution_count": 34,
      "metadata": {
        "colab": {
          "base_uri": "https://localhost:8080/"
        },
        "id": "XXsaE3Veqwhe",
        "outputId": "94899946-9c80-415d-bfa5-51b2a83e9f4a"
      },
      "outputs": [
        {
          "name": "stdout",
          "output_type": "stream",
          "text": [
            "Assertion Error!!!!!!\n"
          ]
        }
      ],
      "source": [
        "## Answer\n",
        "try:\n",
        "  spam= -10\n",
        "  assert spam>=0\n",
        "except AssertionError:\n",
        "  print(\"Assertion Error!!!!!!\")"
      ]
    },
    {
      "attachments": {},
      "cell_type": "markdown",
      "metadata": {
        "id": "FPf3lsLEqwks"
      },
      "source": [
        "2. Write an assert statement that triggers an AssertionError if the variables eggs and bacon contain strings that are the same as each other, even if their cases are different (that is, 'hello' and 'hello' are considered the same, and 'goodbye' and 'GOODbye' are also considered the same)."
      ]
    },
    {
      "cell_type": "code",
      "execution_count": 35,
      "metadata": {
        "colab": {
          "base_uri": "https://localhost:8080/"
        },
        "id": "jwyXAITAqwnp",
        "outputId": "02b3ee7b-a15b-4d8a-c427-0d8dd73fc8f4"
      },
      "outputs": [
        {
          "name": "stdout",
          "output_type": "stream",
          "text": [
            "Assertion Error!!!!!!\n"
          ]
        }
      ],
      "source": [
        "## Answer\n",
        "try:\n",
        "  eggs='hello'\n",
        "  bacon='Hello1'\n",
        "  assert eggs.lower()==bacon.lower()\n",
        "except AssertionError:\n",
        "  print(\"Assertion Error!!!!!!\")"
      ]
    },
    {
      "attachments": {},
      "cell_type": "markdown",
      "metadata": {
        "id": "EE0JQuUgqwqS"
      },
      "source": [
        "3. Create an assert statement that throws an AssertionError every time."
      ]
    },
    {
      "cell_type": "code",
      "execution_count": 36,
      "metadata": {
        "colab": {
          "base_uri": "https://localhost:8080/"
        },
        "id": "vwihosieqws6",
        "outputId": "ba19b7ca-b802-4a6d-cd94-afef2fcecd97"
      },
      "outputs": [
        {
          "name": "stdout",
          "output_type": "stream",
          "text": [
            "Assertion Error!!!!!!\n"
          ]
        }
      ],
      "source": [
        "## Answer\n",
        "try:\n",
        "  assert False\n",
        "except AssertionError:\n",
        "  print(\"Assertion Error!!!!!!\")"
      ]
    },
    {
      "attachments": {},
      "cell_type": "markdown",
      "metadata": {
        "id": "H5VWAfY8qwv9"
      },
      "source": [
        "4. What are the two lines that must be present in your software in order to call logging.debug()?"
      ]
    },
    {
      "cell_type": "code",
      "execution_count": 32,
      "metadata": {
        "id": "iUazOuXrqwyu"
      },
      "outputs": [],
      "source": [
        "## Answer\n",
        "import logging  #Line 1\n",
        "logging.basicConfig(level=logging.DEBUG,format='%(asctime)s - %(levelname)s - %(message)s') # Line 2\n",
        "logging.debug('Test Debug')"
      ]
    },
    {
      "attachments": {},
      "cell_type": "markdown",
      "metadata": {
        "id": "pr1IsfvCqw1g"
      },
      "source": [
        "5. What are the two lines that your program must have in order to have logging.debug() send a logging message to a file named programLog.txt?"
      ]
    },
    {
      "cell_type": "code",
      "execution_count": 25,
      "metadata": {
        "id": "bu4qJyttqw4d"
      },
      "outputs": [],
      "source": [
        "## Answer\n",
        "import logging\n",
        "\n",
        "logging.basicConfig(level=logging.DEBUG,format='%(asctime)s - %(levelname)s - %(message)s',\n",
        "                    datefmt='%Y-%m-%d %H:%M:%S',\n",
        "                    filename='app.log', #Line 1\n",
        "                    filemode='w') #Line 2\n",
        "logging.debug('Test Debug')"
      ]
    },
    {
      "attachments": {},
      "cell_type": "markdown",
      "metadata": {
        "id": "uAFf3poHqw7f"
      },
      "source": [
        "6. What are the five levels of logging?"
      ]
    },
    {
      "cell_type": "code",
      "execution_count": null,
      "metadata": {
        "id": "c1JsS6_Mqw-L"
      },
      "outputs": [],
      "source": [
        "## Answer\n",
        "# 1. DEBUG\n",
        "# 2. INFO\n",
        "# 3. WARNING\n",
        "# 4. ERORR\n",
        "# 5. CRITICAL"
      ]
    },
    {
      "attachments": {},
      "cell_type": "markdown",
      "metadata": {
        "id": "JWLWJfDlqxBO"
      },
      "source": [
        "7. What line of code would you add to your software to disable all logging messages?"
      ]
    },
    {
      "cell_type": "code",
      "execution_count": 31,
      "metadata": {
        "id": "qw6oC0IZqxEM"
      },
      "outputs": [],
      "source": [
        "## Answer\n",
        "# We can use logging.NOTSET\n",
        "import logging\n",
        "\n",
        "logging.basicConfig(level=logging.NOTSET,format='%(asctime)s - %(levelname)s - %(message)s',\n",
        "                    datefmt='%Y-%m-%d %H:%M:%S')\n",
        "logging.debug('Test Debug')\n",
        "\n",
        "#We can use alternatively logging.disable() also\n",
        "logging.disable()"
      ]
    },
    {
      "attachments": {},
      "cell_type": "markdown",
      "metadata": {
        "id": "jhaJjKKXq-qy"
      },
      "source": [
        "8. Why is using logging messages better than using print() to display the same message?"
      ]
    },
    {
      "cell_type": "code",
      "execution_count": null,
      "metadata": {
        "id": "Nafn4-xJq-uF"
      },
      "outputs": [],
      "source": [
        "## Answer\n",
        "# Because Whenever we are in production server we will not keep watch console,\n",
        "# so we need to store in the logger file with date and time.\n",
        "# And in the log file it will show in beautiful manner till whever our codes are executed perfectly and where the logic went wrong\n"
      ]
    },
    {
      "attachments": {},
      "cell_type": "markdown",
      "metadata": {
        "id": "FL-TW308q-xg"
      },
      "source": [
        "9. What are the differences between the Step Over, Step In, and Step Out buttons in the debugger?"
      ]
    },
    {
      "cell_type": "code",
      "execution_count": null,
      "metadata": {
        "id": "2q4xJ0SWrCWi"
      },
      "outputs": [],
      "source": [
        "## Answer\n",
        "# Step In - It Excecutes the next line if debugger found any function,\n",
        "#           debugger will go inside the function logic start execute line by line\n",
        "\n",
        "# Step Over - It Excecutes the next line if debugger found any function,\n",
        "#           debugger will not go line by line inside the function, it executes function in one shot.\n",
        "\n",
        "\n",
        "# Step Out - It Excecutes the complete function where the debugger is running with out stopping inside the function ,\n",
        "#            will come out of that function and debugger will pause"
      ]
    },
    {
      "attachments": {},
      "cell_type": "markdown",
      "metadata": {
        "id": "0f5arnLrrCZ4"
      },
      "source": [
        "10. After you click Continue, when will the debugger stop ?"
      ]
    },
    {
      "cell_type": "code",
      "execution_count": null,
      "metadata": {
        "id": "j8yhjmoXrEMo"
      },
      "outputs": [],
      "source": [
        "## Answer\n",
        "# (i).till it found next breakpoint or (ii).till the end of program or (iii).till it get next error\n",
        "\n",
        "# If program found any of the above debugger will stop"
      ]
    },
    {
      "attachments": {},
      "cell_type": "markdown",
      "metadata": {
        "id": "4Qt6jdPWrEqu"
      },
      "source": [
        "11. What is the concept of a breakpoint?"
      ]
    },
    {
      "cell_type": "code",
      "execution_count": null,
      "metadata": {
        "id": "N8GNU1EzrEt9"
      },
      "outputs": [],
      "source": [
        "## Answer\n",
        "\n",
        "# During time of debugging if its not required to execute line by line but we need to pause\n",
        "# at certain points we will use breakpoints with continue option"
      ]
    }
  ],
  "metadata": {
    "colab": {
      "provenance": []
    },
    "kernelspec": {
      "display_name": "Python 3",
      "name": "python3"
    },
    "language_info": {
      "name": "python"
    }
  },
  "nbformat": 4,
  "nbformat_minor": 0
}
