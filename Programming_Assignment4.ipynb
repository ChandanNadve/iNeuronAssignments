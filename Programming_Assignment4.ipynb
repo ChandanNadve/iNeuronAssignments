{
 "cells": [
  {
   "cell_type": "markdown",
   "metadata": {},
   "source": [
    "# Python Programming Assignment 4"
   ]
  },
  {
   "cell_type": "markdown",
   "metadata": {
    "id": "3qWfo2C6R_vM"
   },
   "source": [
    "1.\tWrite a Python Program to Find the Factorial of a Number?"
   ]
  },
  {
   "cell_type": "code",
   "execution_count": 4,
   "metadata": {
    "id": "wqhwqN0ESFDP"
   },
   "outputs": [
    {
     "name": "stdout",
     "output_type": "stream",
     "text": [
      "Please enter a valid integer:12\n",
      "479001600\n"
     ]
    }
   ],
   "source": [
    "## Answer\n",
    "def factorial(val:int):\n",
    "    if val==1:\n",
    "        return 1\n",
    "    else:\n",
    "        return val*factorial(val-1)\n",
    "\n",
    "n=int(input('Please enter a valid integer:'))\n",
    "print(factorial(n))"
   ]
  },
  {
   "cell_type": "markdown",
   "metadata": {
    "id": "BOBIuRQiSFGQ"
   },
   "source": [
    "2.\tWrite a Python Program to Display the multiplication Table?"
   ]
  },
  {
   "cell_type": "code",
   "execution_count": 14,
   "metadata": {
    "id": "549vTTA4SNhH"
   },
   "outputs": [
    {
     "name": "stdout",
     "output_type": "stream",
     "text": [
      "Please enter a valid integer:20\n",
      "20X1=20\n",
      "20X2=40\n",
      "20X3=60\n",
      "20X4=80\n",
      "20X5=100\n",
      "20X6=120\n",
      "20X7=140\n",
      "20X8=160\n",
      "20X9=180\n",
      "20X10=200\n",
      "\n"
     ]
    }
   ],
   "source": [
    "## Answer\n",
    "def mul_table(val:int):\n",
    "    table=\"\"\n",
    "    for i in range(1,11):\n",
    "        table= table + str(val)+'X'+str(i)+'='+str(val*i)+'\\n'\n",
    "    return table\n",
    "\n",
    "n=int(input('Please enter a valid integer:'))\n",
    "print(mul_table(n))"
   ]
  },
  {
   "cell_type": "markdown",
   "metadata": {
    "id": "-5WM6BAfSNkJ"
   },
   "source": [
    "3.\tWrite a Python Program to Print the Fibonacci sequence?"
   ]
  },
  {
   "cell_type": "code",
   "execution_count": 19,
   "metadata": {
    "id": "dlmRTIyISNnI"
   },
   "outputs": [
    {
     "name": "stdout",
     "output_type": "stream",
     "text": [
      "Enter a valid integer for finding the fib series:23\n",
      "[0, 1, 1, 2, 3, 5, 8, 13, 21, 34, 55, 89, 144, 233, 377, 610, 987, 1597, 2584, 4181, 6765, 10946, 17711]\n"
     ]
    }
   ],
   "source": [
    "## Answer\n",
    "def fibonacci(val:int):\n",
    "    \"\"\"\n",
    "    Returns the list of fibonacci serires\n",
    "    \"\"\"\n",
    "    if val==0:\n",
    "        return []\n",
    "    if val==1:\n",
    "        return [0]\n",
    "    if val==2:\n",
    "        return [0,1]\n",
    "    fib=[0,1]\n",
    "    for i in range(2,val):\n",
    "        new_fib=fib[i-1]+fib[i-2]\n",
    "        fib.append(new_fib)\n",
    "    return fib\n",
    "\n",
    "try:\n",
    "    val=int(input(\"Enter a valid integer for finding the fib series:\"))\n",
    "except Exception as e:\n",
    "    print(\"Invalid Integer! \")\n",
    "print(fibonacci(val))\n",
    "    "
   ]
  },
  {
   "cell_type": "markdown",
   "metadata": {
    "id": "A5714vDASFJV"
   },
   "source": [
    "4.\tWrite a Python Program to Check Armstrong Number?"
   ]
  },
  {
   "cell_type": "code",
   "execution_count": 28,
   "metadata": {
    "id": "1x9BBZhiSRjV"
   },
   "outputs": [
    {
     "name": "stdout",
     "output_type": "stream",
     "text": [
      "Enter a valid integer for finding the number is armstrong number or not:407\n",
      "The Number 407 is an armstrong number\n"
     ]
    }
   ],
   "source": [
    "## Answer\n",
    "def is_armstrong(val:int):\n",
    "    \"\"\"\n",
    "    This function returns i the number is armstrong number or not\n",
    "    \"\"\"\n",
    "    val_str=str(val)\n",
    "    val_len=len(val_str)\n",
    "    res=0\n",
    "    for i in val_str:\n",
    "        res+=int(i)**val_len\n",
    "    if val==res:\n",
    "        return True\n",
    "    else:\n",
    "        return False\n",
    "   \n",
    "try:\n",
    "    val=int(input(\"Enter a valid integer for finding the number is armstrong number or not:\"))\n",
    "except Exception as e:\n",
    "    print(\"Invalid Integer! \")\n",
    "\n",
    "if is_armstrong(val):\n",
    "    print(f\"The Number {val} is an armstrong number\")\n",
    "else:\n",
    "    print(f\"The number {val} is not an armstrong number\")\n",
    "    "
   ]
  },
  {
   "cell_type": "markdown",
   "metadata": {
    "id": "QDm9FYXsSRnn"
   },
   "source": [
    "5.\tWrite a Python Program to Find Armstrong Number in an Interval?"
   ]
  },
  {
   "cell_type": "code",
   "execution_count": 32,
   "metadata": {
    "id": "bi_wB3UrSVzr"
   },
   "outputs": [
    {
     "name": "stdout",
     "output_type": "stream",
     "text": [
      "Enter a valid integer From Range for finding the number is armstrong number or not:1\n",
      "Enter a valid integer To Range for finding the number is armstrong number or not:10000\n",
      "[1, 2, 3, 4, 5, 6, 7, 8, 9, 153, 370, 371, 407, 1634, 8208, 9474]\n"
     ]
    }
   ],
   "source": [
    "## Answer\n",
    "from typing import List\n",
    "def is_armstrong(val:int):\n",
    "    \"\"\"\n",
    "    This function returns i the number is armstrong number or not\n",
    "    \"\"\"\n",
    "    val_str=str(val)\n",
    "    val_len=len(val_str)\n",
    "    res=0\n",
    "    for i in val_str:\n",
    "        res+=int(i)**val_len\n",
    "    if val==res:\n",
    "        return True\n",
    "    else:\n",
    "        return False\n",
    "\n",
    "def armstong_list(from_range:int,to_range:int)->List[int]:\n",
    "    \"\"\"\n",
    "    This function returns armstrong number list between the range\n",
    "    \"\"\"\n",
    "    l=[]\n",
    "    for i in range(from_range,to_range+1):\n",
    "        if is_armstrong(i):\n",
    "            l.append(i)\n",
    "    return l   \n",
    "    \n",
    "try:\n",
    "    from_range=int(input(\"Enter a valid integer From Range for finding the number is armstrong number or not:\"))\n",
    "    to_range=int(input(\"Enter a valid integer To Range for finding the number is armstrong number or not:\"))\n",
    "except Exception as e:\n",
    "    print(\"Invalid Input! \",e)\n",
    "\n",
    "print(armstong_list(from_range,to_range))\n"
   ]
  },
  {
   "cell_type": "markdown",
   "metadata": {
    "id": "Be1PJP9dSV7f"
   },
   "source": [
    "6.\tWrite a Python Program to Find the Sum of Natural Numbers?"
   ]
  },
  {
   "cell_type": "code",
   "execution_count": 35,
   "metadata": {
    "id": "ZRubixDwSYPf"
   },
   "outputs": [
    {
     "name": "stdout",
     "output_type": "stream",
     "text": [
      "Please enter a valid integer:40\n",
      "820\n"
     ]
    }
   ],
   "source": [
    "## Answer\n",
    "def sum_of_natural(val:int):\n",
    "    \"\"\"\n",
    "    This function returns the sum of the natural numbers\n",
    "    \"\"\"\n",
    "    if val==1:\n",
    "        return 1\n",
    "    else:\n",
    "        res=val+sum_of_natural(val-1)\n",
    "    return res\n",
    "\n",
    "n=int(input('Please enter a valid integer:'))\n",
    "print(sum_of_natural(n))"
   ]
  }
 ],
 "metadata": {
  "colab": {
   "provenance": []
  },
  "kernelspec": {
   "display_name": "Python 3 (ipykernel)",
   "language": "python",
   "name": "python3"
  },
  "language_info": {
   "codemirror_mode": {
    "name": "ipython",
    "version": 3
   },
   "file_extension": ".py",
   "mimetype": "text/x-python",
   "name": "python",
   "nbconvert_exporter": "python",
   "pygments_lexer": "ipython3",
   "version": "3.10.9"
  }
 },
 "nbformat": 4,
 "nbformat_minor": 1
}
