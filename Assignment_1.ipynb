{
 "cells": [
  {
   "cell_type": "code",
   "execution_count": null,
   "id": "44971722",
   "metadata": {},
   "outputs": [],
   "source": [
    " 1. In the below elements which of them are values or an expression? eg:- values can be integer or string and expressions will be mathematical operators.\n",
    " * \n",
    " 'hello'\n",
    " -87.8\n",
    " - \n",
    " / \n",
    " +\n",
    " 6 \n",
    "\n",
    "Answer : \n",
    "Values :  'hello' ,  -87.8  ,  6 \n",
    "Expressions : + , - , * , /\n"
   ]
  },
  {
   "cell_type": "code",
   "execution_count": null,
   "id": "962be2d3",
   "metadata": {},
   "outputs": [],
   "source": [
    "2. What is the difference between string and variable?\n",
    "\n",
    "Answer : \n",
    "Strings are a type of data type which may contain any Alphanumeric/special character combination, which is enclosed within quotes.\n",
    "Variable is also known as place holder, which will hold any type of data type like string/boolean/numeric/float etc..\n"
   ]
  },
  {
   "cell_type": "code",
   "execution_count": null,
   "id": "b4e5a5c2",
   "metadata": {},
   "outputs": [],
   "source": [
    "3. Describe three different data types.\n",
    "\n",
    "Answer : \n",
    "Primitive Data Type - \n",
    "    int - int is numerical data structure without decimal number like 12\n",
    "    float - float is numerical data structure with decimal number like 12.34\n",
    "    string - String supports alphanumeric characters including special character als \n",
    "    boolean - Boolean supports True or False Values\n",
    "    \n",
    "Non Primitive Data Type\n",
    "    Lists - Its Mutatable collection of homogeneous or heterogeneuos data\n",
    "    Tuples - Its Immutatable collection of homogeneous or heterogeneuos data\n",
    "    Sets - Sets are un organized collection of unique values\n",
    "    Dictionary - Dictionary is a key value pair of data collection\n",
    "\n",
    "\n",
    "User Defined Data Type\n",
    "\n",
    "    Linked List\n",
    "    Queue\n",
    "    Stack\n",
    "    Tree\n",
    "    "
   ]
  },
  {
   "cell_type": "code",
   "execution_count": null,
   "id": "98090a6b",
   "metadata": {},
   "outputs": [],
   "source": [
    "4. What is an expression made up of? What do all expressions do?\n",
    "\n",
    "Answer:\n",
    "    \n",
    "Expression is made up of operators(+,-,*,/ etc...) and operands(values/variable).\n",
    "\n",
    "Based on the Combination Operator and Operands, Expression will generate result\n",
    "\n",
    "Example for Expression: 5*5 \n",
    "        \n"
   ]
  },
  {
   "cell_type": "code",
   "execution_count": null,
   "id": "5138c86b",
   "metadata": {},
   "outputs": [],
   "source": [
    "5. This assignment statements, like spam = 10. What is the difference between an expression and a statement?\n",
    "\n",
    "Answer :\n",
    "    \n",
    "    Statements are like Commands which will performat specific task like assigning,printing,taking input etc..\n",
    "    Example:    print('chandan')\n",
    "                input('Enter your variable')\n",
    "                \n",
    "    \n",
    "    Expressions contains Operators, Values and Variables which results a value\n",
    "    Example:    12*34\n",
    "                   \n"
   ]
  },
  {
   "cell_type": "code",
   "execution_count": null,
   "id": "067bc058",
   "metadata": {},
   "outputs": [],
   "source": [
    "6. After running the following code, what does the variable bacon contain?\n",
    "bacon = 22\n",
    "bacon + 1\n",
    "\n",
    "Answer :\n",
    "    22 for both\n"
   ]
  },
  {
   "cell_type": "code",
   "execution_count": null,
   "id": "ab1ac63e",
   "metadata": {},
   "outputs": [],
   "source": [
    "7. What should the values of the following two terms be?\n",
    "'spam' + 'spamspam'\n",
    "'spam' * 3\n",
    "\n",
    "Answer :\n",
    "\n",
    "'spamspamspam'"
   ]
  },
  {
   "cell_type": "code",
   "execution_count": null,
   "id": "e781a248",
   "metadata": {},
   "outputs": [],
   "source": [
    "8. Why is eggs a valid variable name while 100 is invalid?\n",
    "\n",
    "Answer : Always Variable Should start with Alphabetical character or _(Underscore)"
   ]
  },
  {
   "cell_type": "code",
   "execution_count": null,
   "id": "da49e174",
   "metadata": {},
   "outputs": [],
   "source": [
    "9. What three functions can be used to get the integer, floating-point number, or string version of a value?\n",
    "\n",
    "Answer : \n",
    "    integer - int()\n",
    "        example :   a='12'\n",
    "                    int(a)\n",
    "        \n",
    "    float - float()\n",
    "        example : b='12.34'\n",
    "                    int(b) \n",
    "            \n",
    "    string - str()\n",
    "        example : c=123\n",
    "                    str(c)\n",
    "    "
   ]
  },
  {
   "cell_type": "code",
   "execution_count": null,
   "id": "7dd37e40",
   "metadata": {},
   "outputs": [],
   "source": [
    "10. Why does this expression cause an error? How can you fix it?\n",
    "I have eaten ' + 99 + ' burritos.'\n",
    "\n",
    "Answer : We can concatenate the string values using + Operator\n",
    "\n",
    "Or we can sum up the values with intteger or floating point data type using + Operator \n"
   ]
  }
 ],
 "metadata": {
  "kernelspec": {
   "display_name": "Python 3 (ipykernel)",
   "language": "python",
   "name": "python3"
  },
  "language_info": {
   "codemirror_mode": {
    "name": "ipython",
    "version": 3
   },
   "file_extension": ".py",
   "mimetype": "text/x-python",
   "name": "python",
   "nbconvert_exporter": "python",
   "pygments_lexer": "ipython3",
   "version": "3.9.12"
  }
 },
 "nbformat": 4,
 "nbformat_minor": 5
}
