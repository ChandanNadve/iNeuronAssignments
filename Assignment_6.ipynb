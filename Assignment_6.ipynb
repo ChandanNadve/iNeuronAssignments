{
 "cells": [
  {
   "cell_type": "markdown",
   "id": "2bb3964b",
   "metadata": {},
   "source": [
    "# Python Assignment 6"
   ]
  },
  {
   "cell_type": "code",
   "execution_count": null,
   "id": "8b4dc415",
   "metadata": {},
   "outputs": [],
   "source": [
    "1. What are escape characters, and how do you use them?\n",
    "\n",
    "#ANSWER:-----------------------------------------------------------------\n",
    "\n",
    "The Escape characters we specially used in print statement, when we want to print special characters \n",
    "like Next line character, Tab character, Slash character etc..\n",
    "\n",
    "Usually for the escape characters we will begin with the \\ symbol"
   ]
  },
  {
   "cell_type": "code",
   "execution_count": 1,
   "id": "77da62d0",
   "metadata": {},
   "outputs": [
    {
     "name": "stdout",
     "output_type": "stream",
     "text": [
      "****Using Next Line Character****\n",
      "Chandan Prakash\n",
      "Madenahalli\n",
      "Gubbi(T)\n",
      "Tumkur(D)\n",
      "\n",
      "****Using Next Tab Character****\n",
      "Chandan Prakash\tMadenahalli\tGubbi(T)\n",
      "\n",
      "****Using Next Tab Character****\n",
      "Chandan Prakash\tMadenahalli\tGubbi(T)\n",
      "\n"
     ]
    }
   ],
   "source": [
    "#Example Using \\n\n",
    "print('****Using Next Line Character****')\n",
    "print('Chandan Prakash\\nMadenahalli\\nGubbi(T)\\nTumkur(D)\\n')\n",
    "print('****Using Next Tab Character****')\n",
    "print('Chandan Prakash\\tMadenahalli\\tGubbi(T)\\n')\n",
    "print('****Using Next Tab Character****')\n",
    "print('Chandan Prakash\\tMadenahalli\\tGubbi(T)\\n')"
   ]
  },
  {
   "cell_type": "code",
   "execution_count": null,
   "id": "8b247bd4",
   "metadata": {},
   "outputs": [],
   "source": [
    "2. What do the escape characters n and t stand for?\n",
    "\n",
    "#ANSWER:-----------------------------------------------------------------\n",
    "\n",
    "n stands for next line character\n",
    "t stands for tab character"
   ]
  },
  {
   "cell_type": "code",
   "execution_count": null,
   "id": "311e5e97",
   "metadata": {},
   "outputs": [],
   "source": [
    "3. What is the way to include backslash characters in a string?\n",
    "\n",
    "#ANSWER:-----------------------------------------------------------------\n",
    "We need to use the \\\\ for the backslash character"
   ]
  },
  {
   "cell_type": "code",
   "execution_count": 2,
   "id": "64873e3a",
   "metadata": {
    "scrolled": true
   },
   "outputs": [
    {
     "name": "stdout",
     "output_type": "stream",
     "text": [
      "c:\\Users\\Chandan\\Desktop\n"
     ]
    }
   ],
   "source": [
    "print('c:\\\\Users\\\\Chandan\\\\Desktop')"
   ]
  },
  {
   "cell_type": "code",
   "execution_count": null,
   "id": "f1ddc7c8",
   "metadata": {},
   "outputs": [],
   "source": [
    "4. The string \"Howl's Moving Castle\" is a correct value. \n",
    "Why isn't the single quote character in the word Howl's not escaped a problem?\n",
    "\n",
    "#ANSWER:-----------------------------------------------------------------\n",
    "Because here in the print we used double quotes for begining and ending of the string, \n",
    "And inside the string we have single quote.\n",
    "\n",
    "So using the heterogeneuos string for begining - ending of string, and inside the string is not an issue\n",
    "\n",
    "Correct Method\n",
    "print(\"Howl's Moving Castle\") \n",
    "\n",
    "Wrong method\n",
    "print('Howl's Moving Castle') \n",
    "\n",
    "Correct method\n",
    "print('Howl\\'s Moving Castle') "
   ]
  },
  {
   "cell_type": "code",
   "execution_count": null,
   "id": "98a9443b",
   "metadata": {},
   "outputs": [],
   "source": [
    "5. How do you write a string of newlines if you don't want to use the n character?\n",
    "\n",
    "#ANSWER:-----------------------------------------------------------------\n",
    "\n",
    "We can use the \"\"\" Text \"\"\" or ''' Text '''"
   ]
  },
  {
   "cell_type": "code",
   "execution_count": 3,
   "id": "363c079c",
   "metadata": {},
   "outputs": [
    {
     "name": "stdout",
     "output_type": "stream",
     "text": [
      "Chandan\n",
      "Nadve\n",
      "\n"
     ]
    }
   ],
   "source": [
    "print(\"\"\"Chandan\n",
    "Nadve\n",
    "\"\"\")"
   ]
  },
  {
   "cell_type": "code",
   "execution_count": null,
   "id": "23ce4082",
   "metadata": {},
   "outputs": [],
   "source": [
    "6. What are the values of the given expressions?\n",
    "'Hello, world!'[1]\n",
    "'Hello, world!'[0:5]\n",
    "'Hello, world!'[:5]\n",
    "'Hello, world!'[3:]\n",
    "\n",
    "#ANSWER:-----------------------------------------------------------------\n",
    "'Hello, world!'[1] -> 2nd Character(Index 1) \"e\" will print as index is starting from 0. The second Character is having index 1 \n",
    "'Hello, world!'[0:5] -> 1st Character(Index 0) \"Hello\" will print as index is starting from 0. The second Character is having index 1 \n",
    "'Hello, world!'[:5] ->It will print till 5th index from begining(exculding 5th index) - \"Hello\" \n",
    "'Hello, world!'[3:]->From 4th letter to till end of string it will print \"lo, world!\""
   ]
  },
  {
   "cell_type": "code",
   "execution_count": null,
   "id": "929e2960",
   "metadata": {},
   "outputs": [],
   "source": [
    "7. What are the values of the following expressions?\n",
    "'Hello'.upper()\n",
    "'Hello'.upper().isupper()\n",
    "'Hello'.upper().lower()\n",
    "\n",
    "#ANSWER:-----------------------------------------------------------------\n",
    "'Hello'.upper() => \"HELLO\"\n",
    "'Hello'.upper().isupper() => TRUE\n",
    "'Hello'.upper().lower()=> \"hello\""
   ]
  },
  {
   "cell_type": "code",
   "execution_count": null,
   "id": "06238d24",
   "metadata": {},
   "outputs": [],
   "source": [
    "8. What are the values of the following expressions?\n",
    "'Remember, remember, the fifth of July.'.split()\n",
    "'-'.join('There can only one.'.split())\n",
    "\n",
    "#ANSWER:-----------------------------------------------------------------\n",
    "'Remember, remember, the fifth of July.'.split() =>  ['Remember,', 'remember,', 'the', 'fifth', 'of', 'July.']\n",
    "'-'.join('There can only one.'.split()) => 'There-can-only-one.'\n"
   ]
  },
  {
   "cell_type": "code",
   "execution_count": null,
   "id": "ee00ac95",
   "metadata": {},
   "outputs": [],
   "source": [
    "9. What are the methods for right-justifying, left-justifying, and centering a string?\n",
    "\n",
    "#ANSWER:-----------------------------------------------------------------\n",
    "right-justifying  - ljust()\n",
    "left-justifying   - rjust()\n",
    "centering         -center"
   ]
  },
  {
   "cell_type": "code",
   "execution_count": 5,
   "id": "104c601b",
   "metadata": {},
   "outputs": [
    {
     "name": "stdout",
     "output_type": "stream",
     "text": [
      "chandan                                           \n",
      "                                           chandan\n",
      "                     chandan                      \n"
     ]
    }
   ],
   "source": [
    "n=str(\"chandan\")\n",
    "print(n.ljust(50))\n",
    "print(n.rjust(50))\n",
    "print(n.center(50))"
   ]
  },
  {
   "cell_type": "code",
   "execution_count": null,
   "id": "38868fa9",
   "metadata": {},
   "outputs": [],
   "source": [
    "10. What is the best way to remove whitespace characters from the start or end?\n",
    "\n",
    "#ANSWER:-----------------------------------------------------------------\n",
    "Using Strip Method\n",
    "\n",
    "n=str(\"   chandan  prakash  \")\n",
    "print(n.strip()) # For removing whitespace in begining and ending of the string\n",
    "print(n.lstrip()) # For removing the white space in the begining of the string \n",
    "print(n.rstrip()) # For removing the white space in the end of the string"
   ]
  }
 ],
 "metadata": {
  "kernelspec": {
   "display_name": "Python 3 (ipykernel)",
   "language": "python",
   "name": "python3"
  },
  "language_info": {
   "codemirror_mode": {
    "name": "ipython",
    "version": 3
   },
   "file_extension": ".py",
   "mimetype": "text/x-python",
   "name": "python",
   "nbconvert_exporter": "python",
   "pygments_lexer": "ipython3",
   "version": "3.10.9"
  }
 },
 "nbformat": 4,
 "nbformat_minor": 5
}
