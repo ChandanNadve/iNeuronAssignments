{
  "cells": [
    {
      "attachments": {},
      "cell_type": "markdown",
      "metadata": {},
      "source": [
        "# Assignment 8"
      ]
    },
    {
      "attachments": {},
      "cell_type": "markdown",
      "metadata": {
        "id": "3npIY5ShpiKQ"
      },
      "source": [
        "1. To what does a relative path refer?"
      ]
    },
    {
      "cell_type": "code",
      "execution_count": null,
      "metadata": {
        "id": "j5l565mfpw7s"
      },
      "outputs": [],
      "source": [
        "# Answer:\n",
        "# A realtive path is which will start from current working directory onwards"
      ]
    },
    {
      "attachments": {},
      "cell_type": "markdown",
      "metadata": {
        "id": "g_uJgsZApxEt"
      },
      "source": [
        "2. What does an absolute path start with your operating system?"
      ]
    },
    {
      "cell_type": "code",
      "execution_count": null,
      "metadata": {
        "id": "Ms-_VLaRpxH0"
      },
      "outputs": [],
      "source": [
        "# Answer\n",
        "Absolute path will start from root folder"
      ]
    },
    {
      "attachments": {},
      "cell_type": "markdown",
      "metadata": {
        "id": "D9BGJzWWpxK6"
      },
      "source": [
        "3. What do the functions os.getcwd() and os.chdir() do?"
      ]
    },
    {
      "cell_type": "code",
      "execution_count": 2,
      "metadata": {
        "colab": {
          "base_uri": "https://localhost:8080/",
          "height": 36
        },
        "id": "b7BNGpuIpxN5",
        "outputId": "2c06f908-479c-4277-8ba5-8ba9adadd49f"
      },
      "outputs": [
        {
          "data": {
            "application/vnd.google.colaboratory.intrinsic+json": {
              "type": "string"
            },
            "text/plain": [
              "'/content'"
            ]
          },
          "execution_count": 2,
          "metadata": {},
          "output_type": "execute_result"
        }
      ],
      "source": [
        "## Answer\n",
        "import os\n",
        "# getcwd() returns the current working directory, getcwd() full form is \"Current Working Directory\"\n",
        "os.getcwd()\n",
        "\n",
        "#chdir() changes the current working directory to specified path, chdir() full form is \"Change Directory\"\n",
        "os.chdir(r'C:\\Users\\chandan.prakash\\Downloads')"
      ]
    },
    {
      "attachments": {},
      "cell_type": "markdown",
      "metadata": {
        "id": "Yebgm0aXpxXw"
      },
      "source": [
        "4. What are the . and .. folders?"
      ]
    },
    {
      "cell_type": "code",
      "execution_count": null,
      "metadata": {
        "id": "nLQJtam1pxa0"
      },
      "outputs": [],
      "source": [
        "## Answer\n",
        "# .\\ folder is short hand for the root folder to current working directory\n",
        "# ..\\ folder is short hand for the root folder to parent folder"
      ]
    },
    {
      "attachments": {},
      "cell_type": "markdown",
      "metadata": {
        "id": "XwHNJzilpxdp"
      },
      "source": [
        "5. In C:\\bacon\\eggs\\spam.txt, which part is the dir name, and which part is the base name?"
      ]
    },
    {
      "cell_type": "code",
      "execution_count": null,
      "metadata": {
        "id": "MaapXAlUp4v7"
      },
      "outputs": [],
      "source": [
        "## Answer\n",
        "# Directory Name is - 'C:\\bacon\\eggs'\n",
        "# Base Name is - 'spam.txt'"
      ]
    },
    {
      "attachments": {},
      "cell_type": "markdown",
      "metadata": {
        "id": "l-tpI2P9p46_"
      },
      "source": [
        "6. What are the three “mode” arguments that can be passed to the open() function?"
      ]
    },
    {
      "cell_type": "code",
      "execution_count": null,
      "metadata": {
        "id": "ADqEHTbOp5Dr"
      },
      "outputs": [],
      "source": [
        "## Answer\n",
        "# Its not only 3 we have more modes of file openings are there\n",
        "\n",
        "# r - read mode\n",
        "# w - write mode, it will overwrite if file already exist\n",
        "# x - exclusive operation, it will fail if file is alread exist\n",
        "# a - append mode, it will append the new data to existing file\n",
        "# w+ - Write and Read operation"
      ]
    },
    {
      "attachments": {},
      "cell_type": "markdown",
      "metadata": {
        "id": "98kZNFVzpxga"
      },
      "source": [
        "7. What happens if an existing file is opened in write mode?"
      ]
    },
    {
      "cell_type": "code",
      "execution_count": null,
      "metadata": {
        "id": "2ZQMaYdpp9GT"
      },
      "outputs": [],
      "source": [
        "## Answer\n",
        "# It will overwrite the existing file"
      ]
    },
    {
      "attachments": {},
      "cell_type": "markdown",
      "metadata": {
        "id": "8JxVmE8dp9vZ"
      },
      "source": [
        "8. How do you tell the difference between read() and readlines()?"
      ]
    },
    {
      "cell_type": "code",
      "execution_count": null,
      "metadata": {
        "id": "yV7oOIlCp_av"
      },
      "outputs": [],
      "source": [
        "## Answer\n",
        "# read() will return complete text in form of string\n",
        "# readlines() will return a list where each line will be single element of list"
      ]
    },
    {
      "attachments": {},
      "cell_type": "markdown",
      "metadata": {
        "id": "OHegjiR1p_ia"
      },
      "source": [
        "9. What data structure does a shelf value resemble?"
      ]
    },
    {
      "cell_type": "code",
      "execution_count": null,
      "metadata": {
        "id": "gHcNOlciqBWU"
      },
      "outputs": [],
      "source": [
        "## Answer\n",
        "# Shelf is used to store variables binary shelf files.\n",
        "# Shelf resembles the dictionary data structure."
      ]
    }
  ],
  "metadata": {
    "colab": {
      "provenance": []
    },
    "kernelspec": {
      "display_name": "Python 3",
      "name": "python3"
    },
    "language_info": {
      "name": "python"
    }
  },
  "nbformat": 4,
  "nbformat_minor": 0
}
