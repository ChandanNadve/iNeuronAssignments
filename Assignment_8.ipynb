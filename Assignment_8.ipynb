{
  "cells": [
    {
      "attachments": {},
      "cell_type": "markdown",
      "metadata": {
        "id": "PwOrCeuAp3t9"
      },
      "source": [
        "# Assignment 8"
      ]
    },
    {
      "attachments": {},
      "cell_type": "markdown",
      "metadata": {
        "id": "4Qeak_Wyojw5"
      },
      "source": [
        "1. Is the Python Standard Library included with PyInputPlus?"
      ]
    },
    {
      "cell_type": "code",
      "execution_count": null,
      "metadata": {
        "id": "zReXNX4PpIHF"
      },
      "outputs": [],
      "source": [
        "## Answer\n",
        "# No PyInputPlus is not there in Python standard Library we need to import using in the command prompt\n",
        "pip install PyInputPlus"
      ]
    },
    {
      "attachments": {},
      "cell_type": "markdown",
      "metadata": {
        "id": "Md-kFqxcosn-"
      },
      "source": [
        "2. Why is PyInputPlus commonly imported with import pyinputplus as pypi?"
      ]
    },
    {
      "cell_type": "code",
      "execution_count": null,
      "metadata": {
        "id": "5WX2ZHozpJGA"
      },
      "outputs": [],
      "source": [
        "## Answer\n",
        "\n",
        "# Because wherever we are using the functions of PyInputPlus Library,\n",
        "# instead of mentioning Long name  like PyInputPlus.inputInt() we can use short name like  pypi.inputInt()\n",
        "\n"
      ]
    },
    {
      "attachments": {},
      "cell_type": "markdown",
      "metadata": {
        "id": "ows6BXONosxt"
      },
      "source": [
        "3. How do you distinguish between inputInt() and inputFloat()?"
      ]
    },
    {
      "cell_type": "code",
      "execution_count": null,
      "metadata": {
        "id": "gWaxkaT_pKlt"
      },
      "outputs": [],
      "source": [
        "## Answer\n",
        "\n",
        "## inputInt() - It will accept only the whole numbers as input. If you entered any floating number/string it will ask to reneter the number\n",
        "## inputInt() - It will accept only the whole and floating numbers as input\n",
        "import pyinputplus as pyip\n",
        "try:\n",
        "  resultint = pyip.inputInt()\n",
        "  print(f\"Perfect! You entered right Integer input {resultint}\")\n",
        "  resultfloat = pyip.inputFloat()\n",
        "  print(f\"Perfect! You entered right Float input {resultfloat}\")\n",
        "except Exception as e:\n",
        "  print(e)"
      ]
    },
    {
      "attachments": {},
      "cell_type": "markdown",
      "metadata": {
        "id": "UnLh5FOLos08"
      },
      "source": [
        "4. Using PyInputPlus, how do you ensure that the user enters a whole number between 0 and 99?"
      ]
    },
    {
      "cell_type": "code",
      "execution_count": 13,
      "metadata": {
        "colab": {
          "base_uri": "https://localhost:8080/"
        },
        "id": "efP0ybt-pJ0C",
        "outputId": "715d6215-9d8e-4e0f-802f-3982c3084480"
      },
      "outputs": [
        {
          "name": "stdout",
          "output_type": "stream",
          "text": [
            "12\n",
            "Perfect! You entered right input 12\n"
          ]
        }
      ],
      "source": [
        "## Answer\n",
        "import pyinputplus as pyip\n",
        "try:\n",
        "  result = pyip.inputInt(min=0, max=99)\n",
        "  print(f\"Perfect! You entered right input {result}\")\n",
        "except Exception as e:\n",
        "  print(e)"
      ]
    },
    {
      "attachments": {},
      "cell_type": "markdown",
      "metadata": {
        "id": "ze5kmQ3Ros37"
      },
      "source": [
        "5. What is transferred to the keyword arguments allowRegexes and blockRegexes?"
      ]
    },
    {
      "cell_type": "code",
      "execution_count": 34,
      "metadata": {
        "colab": {
          "base_uri": "https://localhost:8080/"
        },
        "id": "-RIgRl-IpTxe",
        "outputId": "5ec13707-13b2-4098-dff0-193e70300691"
      },
      "outputs": [
        {
          "name": "stdout",
          "output_type": "stream",
          "text": [
            "Enter 6 digit OTP = 123\n",
            "This response is invalid.\n",
            "Enter 6 digit OTP = 123321\n",
            "Perfect! You entered valid OTP 123321\n"
          ]
        }
      ],
      "source": [
        "## Answer\n",
        "## we need to pass the regular expressions pattern as argument to allowRegexes and blockRegexes\n",
        "\n",
        "## For Example if you want to allow only 6 digit numeric OTP then we will use code as like below\n",
        "\n",
        "import pyinputplus as pyip\n",
        "try:\n",
        "  result =pyip.inputInt(prompt='Enter 6 digit OTP = ', blockRegexes=[r'.*'],allowRegexes=[r'\\b(\\d{6})\\b'] )\n",
        "  print(f\"Perfect! You entered valid OTP {result}\")\n",
        "except Exception as e:\n",
        "  print(e)"
      ]
    },
    {
      "attachments": {},
      "cell_type": "markdown",
      "metadata": {
        "id": "-WiWmp_Lo71p"
      },
      "source": [
        "6. If a blank input is entered three times, what does inputStr(limit=3) do?"
      ]
    },
    {
      "cell_type": "code",
      "execution_count": null,
      "metadata": {
        "id": "PBt5RSCWpSLu"
      },
      "outputs": [],
      "source": [
        "## Answer\n",
        "# It will raise Validation Exception error as ValidationException: Blank values are not allowed.\n",
        "\n",
        "import pyinputplus as pyip\n",
        "import sys\n",
        "try:\n",
        "  result = pyip.inputStr(limit=3)\n",
        "  print(f\"Perfect! You entered right input {result}\")\n",
        "except:\n",
        "  print(\"ValidationException: Blank values are not allowed.\")"
      ]
    },
    {
      "attachments": {},
      "cell_type": "markdown",
      "metadata": {
        "colab": {
          "base_uri": "https://localhost:8080/"
        },
        "id": "Q9T0nKJCo9Hg",
        "outputId": "9959f641-35d4-4aec-f9e7-17487e4c97a8"
      },
      "source": [
        "7. If blank input is entered three times, what does inputStr(limit=3, default='hello') do?"
      ]
    },
    {
      "cell_type": "code",
      "execution_count": null,
      "metadata": {
        "id": "MW1SqwMzpVUC"
      },
      "outputs": [],
      "source": [
        "## Answer\n",
        "\n",
        "# It will give option to the user to enter the input 3 times, if 3 times user enterd wrong value byt default it will take \"hello\" as input\n",
        "\n",
        "import pyinputplus as pyip\n",
        "import sys\n",
        "try:\n",
        "  result = pyip.inputStr(limit=3, default='hello')\n",
        "  print(f\"Perfect! You entered right input {result}\")\n",
        "except:\n",
        "  print(\"ValidationException: Blank values are not allowed.\")"
      ]
    }
  ],
  "metadata": {
    "colab": {
      "provenance": []
    },
    "kernelspec": {
      "display_name": "Python 3",
      "name": "python3"
    },
    "language_info": {
      "name": "python"
    }
  },
  "nbformat": 4,
  "nbformat_minor": 0
}
