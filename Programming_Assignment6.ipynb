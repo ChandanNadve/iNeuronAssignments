{
  "cells": [
    {
      "cell_type": "markdown",
      "metadata": {
        "id": "9p2lfld5fzkT"
      },
      "source": [
        "1.\tWrite a Python Program to Display Fibonacci Sequence Using Recursion?"
      ]
    },
    {
      "cell_type": "code",
      "execution_count": 1,
      "metadata": {
        "id": "C02JthTtf1en"
      },
      "outputs": [
        {
          "name": "stdout",
          "output_type": "stream",
          "text": [
            "[0, 1, 1, 2, 3, 5, 8, 13, 21, 34, 55, 89]\n"
          ]
        }
      ],
      "source": [
        "##Answer\n",
        "def fibonacci(n):\n",
        "    \"\"\"This funciton is used to create the fibonacci of a number\"\"\"\n",
        "    if n<=1:\n",
        "        return n\n",
        "    else:\n",
        "        return ((fibonacci(n-1)+fibonacci(n-2)))\n",
        "    \n",
        "if __name__=='__main__':\n",
        "    n=int(input('Please enter how many number of fibonacci series you need to calculate'))\n",
        "    l=[]\n",
        "    for i in range(n):\n",
        "        l.append(fibonacci(i))\n",
        "    print(l)"
      ]
    },
    {
      "cell_type": "markdown",
      "metadata": {
        "id": "a6LKZLBTf1hh"
      },
      "source": [
        "2.\tWrite a Python Program to Find Factorial of Number Using Recursion?"
      ]
    },
    {
      "cell_type": "code",
      "execution_count": 5,
      "metadata": {
        "id": "4Kv2hF5af1kj"
      },
      "outputs": [
        {
          "name": "stdout",
          "output_type": "stream",
          "text": [
            "The factorial number of 7 is 5040\n"
          ]
        }
      ],
      "source": [
        "##Answer\n",
        "def fact(n):\n",
        "    if n==1:\n",
        "        return n\n",
        "    elif n>1:\n",
        "        return (n*fact(n-1))\n",
        "    else:\n",
        "        return 1\n",
        "    \n",
        "if __name__=='__main__':\n",
        "    n=int(input('Please enter number to calculate factorial of it'))\n",
        "    print(f'The factorial number of {n} is {fact(n)}')"
      ]
    },
    {
      "cell_type": "markdown",
      "metadata": {
        "id": "zIfAvDFBf1ql"
      },
      "source": [
        "3.\tWrite a Python Program to calculate your Body Mass Index?"
      ]
    },
    {
      "cell_type": "code",
      "execution_count": 14,
      "metadata": {
        "id": "hGlOgUHef1tm"
      },
      "outputs": [
        {
          "name": "stdout",
          "output_type": "stream",
          "text": [
            "18.376825152861773\n"
          ]
        }
      ],
      "source": [
        "##Answer\n",
        "def bmi_calc(height,weight):\n",
        "    \"\"\"This function is used to find the BMI Ratio\"\"\"\n",
        "    bmi=weight/(height**2)\n",
        "    return bmi\n",
        "\n",
        "if __name__==\"__main__\":\n",
        "    print(bmi_calc(1.73,55))"
      ]
    },
    {
      "cell_type": "markdown",
      "metadata": {
        "id": "wvcEQi00f1wv"
      },
      "source": [
        "4.\tWrite a Python Program to calculate the natural logarithm of any number?"
      ]
    },
    {
      "cell_type": "code",
      "execution_count": 7,
      "metadata": {
        "id": "6-onLsVLf1z4"
      },
      "outputs": [
        {
          "name": "stdout",
          "output_type": "stream",
          "text": [
            "The natural log of 23 is 3.1354942159291497\n"
          ]
        }
      ],
      "source": [
        "##Answer\n",
        "import math\n",
        "def natural_log(n):\n",
        "    return math.log(n)\n",
        "    \n",
        "if __name__=='__main__':\n",
        "    n=int(input('Please enter a number to calculate naturla log of it'))\n",
        "    print(f'The natural log of {n} is {natural_log(n)}')"
      ]
    },
    {
      "cell_type": "markdown",
      "metadata": {
        "id": "Ojx62xYSf12p"
      },
      "source": [
        "5.\tWrite a Python Program for cube sum of first n natural numbers?"
      ]
    },
    {
      "cell_type": "code",
      "execution_count": 9,
      "metadata": {
        "id": "CF0b7f1Of-dC"
      },
      "outputs": [
        {
          "name": "stdout",
          "output_type": "stream",
          "text": [
            "The cube sum of first n natural numbers till 12 is 6084\n"
          ]
        }
      ],
      "source": [
        "##Answer\n",
        "import math\n",
        "def cube_sum(n):\n",
        "    res=0\n",
        "    for i in range(1,n+1):\n",
        "        res+=(i**3)\n",
        "    return res\n",
        "\n",
        "if __name__=='__main__':\n",
        "    n=int(input('Please enter a number to cube sum of first n natural numbers of it'))\n",
        "    print(f'The cube sum of first n natural numbers till {n} is {cube_sum(n)}')"
      ]
    }
  ],
  "metadata": {
    "colab": {
      "provenance": []
    },
    "kernelspec": {
      "display_name": "Python 3",
      "name": "python3"
    },
    "language_info": {
      "codemirror_mode": {
        "name": "ipython",
        "version": 3
      },
      "file_extension": ".py",
      "mimetype": "text/x-python",
      "name": "python",
      "nbconvert_exporter": "python",
      "pygments_lexer": "ipython3",
      "version": "3.9.12"
    }
  },
  "nbformat": 4,
  "nbformat_minor": 0
}
