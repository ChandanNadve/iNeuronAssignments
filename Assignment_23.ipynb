{
  "cells": [
    {
      "cell_type": "code",
      "execution_count": null,
      "metadata": {
        "id": "EAyDmEobOjxv"
      },
      "outputs": [],
      "source": [
        "# Question\n",
        "\"\"\"\n",
        "1. What is the result of the code, and why?\n",
        ">>> def func(a, b=6, c=8):\n",
        "print(a, b, c)\n",
        ">>> func(1, 2)\n",
        "\"\"\""
      ]
    },
    {
      "cell_type": "code",
      "execution_count": 1,
      "metadata": {
        "id": "14X0FZ4ZOlnQ"
      },
      "outputs": [
        {
          "name": "stdout",
          "output_type": "stream",
          "text": [
            "1 2 8\n"
          ]
        }
      ],
      "source": [
        "## Answer\n",
        "\n",
        "# Explanation\n",
        "\"\"\"\n",
        "In this example we have a function with the three parameter a b c, \n",
        "\n",
        "In this for b and c the default value has been defined as a 6 and 8 respectively.\n",
        "\n",
        "If the user is passed the values for function during calling of function then function will take input parameters according to the user input. \n",
        "\n",
        "If user is not passed any parameter then it will take default values as parameter\n",
        "\n",
        "Here the value of a is not having any default value user should mandatory pass value of a. \n",
        "\n",
        "But for the value of b and c are the optional for the user\n",
        "\"\"\"\n",
        "\n",
        "def func(a, b=6, c=8):\n",
        "    print(a, b, c)\n",
        "func(1, 2)"
      ]
    },
    {
      "cell_type": "code",
      "execution_count": null,
      "metadata": {
        "id": "DWSY-dWgOlq1"
      },
      "outputs": [],
      "source": [
        "# Question\n",
        "\"\"\"\n",
        "2. What is the result of this code, and why?\n",
        ">>> def func(a, b, c=5):\n",
        "print(a, b, c)\n",
        ">>> func(1, c=3, b=2)\n",
        "\"\"\""
      ]
    },
    {
      "cell_type": "code",
      "execution_count": 2,
      "metadata": {
        "id": "NltloKKhOlt2"
      },
      "outputs": [
        {
          "name": "stdout",
          "output_type": "stream",
          "text": [
            "1 2 3\n"
          ]
        }
      ],
      "source": [
        "## Answer\n",
        "\n",
        "# Explanation\n",
        "\"\"\"\n",
        "While user is inputting the function parameter during function call, \n",
        "if parameter names are explicitly not defined then python will assign \n",
        "parameter values sequentially as per the definition of function\n",
        "\n",
        "But user is having an option to input the parameter by specifying \n",
        "the parameter name also, in this case parameter values will be assigned \n",
        "based on the parameter name.\n",
        "\n",
        "Here the first parameter name is not specified so the 1 is assigned for a,\n",
        "But second parameter explicitly assigne to c, so 3 will assign c and \n",
        "third parameter explicitly assigned to b, so 2 is assinged to b\n",
        "\"\"\"\n",
        "\n",
        "def func(a, b, c=5):\n",
        "    print(a, b, c)\n",
        "func(1, c=3, b=2)"
      ]
    },
    {
      "cell_type": "code",
      "execution_count": null,
      "metadata": {
        "id": "3pLkRjIcOlxs"
      },
      "outputs": [],
      "source": [
        "# Question\n",
        "\"\"\"\n",
        "3. How about this code: what is its result, and why?\n",
        ">>> def func(a, *pargs):\n",
        "print(a, pargs)\n",
        ">>> func(1, 2, 3)\n",
        "\"\"\""
      ]
    },
    {
      "cell_type": "code",
      "execution_count": 6,
      "metadata": {
        "id": "DAmQsa91OwGS"
      },
      "outputs": [
        {
          "name": "stdout",
          "output_type": "stream",
          "text": [
            "1 <class 'tuple'>\n"
          ]
        }
      ],
      "source": [
        "## Answer\n",
        "# Explanation\n",
        "\"\"\"\n",
        "In this example a parameter is mandatory, and its not having any default value \n",
        "\n",
        "The second parameter *pargs specifies we can pass any number of parameter and it is optional. \n",
        "\n",
        "*prefix is a special feature in the Python function to pass any number of parameters\n",
        "\n",
        "And this arguments will be considered under one tuple\n",
        "\n",
        "\"\"\"\n",
        "\n",
        "def func(a, *pargs):\n",
        "    print(a, pargs)\n",
        "func(1, 2, 3)"
      ]
    },
    {
      "cell_type": "code",
      "execution_count": null,
      "metadata": {
        "id": "mLTbii3oOwTe"
      },
      "outputs": [],
      "source": [
        "# Question\n",
        "\"\"\"\n",
        "4. What does this code print, and why?\n",
        ">>> def func(a, **kargs):\n",
        "print(a, kargs)\n",
        ">>> func(a=1, c=3, b=2)\n",
        "\"\"\""
      ]
    },
    {
      "cell_type": "code",
      "execution_count": 8,
      "metadata": {
        "id": "sicT-tpHO4f8"
      },
      "outputs": [
        {
          "name": "stdout",
          "output_type": "stream",
          "text": [
            "1 {'c': 3, 'b': 2}\n"
          ]
        }
      ],
      "source": [
        "## Answer\n",
        "# Explanation\n",
        "\"\"\"\n",
        "In this example a parameter is mandatory, and its not having any default value \n",
        "\n",
        "The second parameter **kargs specifies we can pass any number of parameter in form of keyvalue pair and it is optional. \n",
        "\n",
        "**prefix is a special feature in the Python function to pass any number of parameters in the key value pair\n",
        "\n",
        "And this arguments will be considered under one dictionary\n",
        "\"\"\"\n",
        "def func(a, **kargs):\n",
        "    print(a, kargs)\n",
        "func(a=1, c=3, b=2)"
      ]
    },
    {
      "cell_type": "code",
      "execution_count": null,
      "metadata": {
        "id": "JE_5aB9DO0Ge"
      },
      "outputs": [],
      "source": [
        "# Question\n",
        "\"\"\"\n",
        "5. What gets printed by this, and explain?\n",
        ">>> def func(a, b, c=8, d=5): print(a, b, c, d)\n",
        ">>> func(1, *(5, 6))\n",
        "\"\"\""
      ]
    },
    {
      "cell_type": "code",
      "execution_count": 9,
      "metadata": {
        "id": "-ZdsZ0aEO0tf"
      },
      "outputs": [
        {
          "name": "stdout",
          "output_type": "stream",
          "text": [
            "1 5 6 5\n"
          ]
        }
      ],
      "source": [
        "## Answer\n",
        "# Explanation\n",
        "\"\"\"\n",
        "In this example a and b parameter is mandatory, c and d is having default value 8 and 5\n",
        "\n",
        "here in during function calling * will unpack the tuple\n",
        "\n",
        "finally this function calling will change as func(1,5,6)\n",
        "so a,b,c values are passed as 1,5,6 but d value is not passed it will take default value 5\n",
        "\"\"\"\n",
        "def func(a, b, c=8, d=5): print(a, b, c, d)\n",
        "func(1, *(5, 6))"
      ]
    },
    {
      "cell_type": "code",
      "execution_count": null,
      "metadata": {
        "id": "MghtT-_jO6tB"
      },
      "outputs": [],
      "source": [
        "# Question\n",
        "\"\"\"\n",
        "6. what is the result of this, and explain?\n",
        ">>> def func(a, b, c): a = 2; b[0] = 'x'; c['a'] = 'y'\n",
        ">>> l=1; m=[1]; n={'a':0}\n",
        ">>> func(l, m, n)\n",
        ">>> l, m, n\n",
        "\"\"\""
      ]
    },
    {
      "cell_type": "code",
      "execution_count": 14,
      "metadata": {
        "id": "_u9DzCRzO7WX"
      },
      "outputs": [
        {
          "data": {
            "text/plain": [
              "(1, ['x'], {'a': 'y'})"
            ]
          },
          "execution_count": 14,
          "metadata": {},
          "output_type": "execute_result"
        }
      ],
      "source": [
        "## Answer\n",
        "\n",
        "# Explanation\n",
        "\"\"\"\n",
        "This functions shows how different collection paramenters can pass\n",
        "in the func value of a b and c is passed as simple integer, a list and dictionary\n",
        "\"\"\"\n",
        "\n",
        "def func(a, b, c): a = 2; b[0] = 'x'; c['a'] = 'y'\n",
        "l=1; m=[1]; n={'a':0}\n",
        "func(l, m, n)\n",
        "l, m, n"
      ]
    }
  ],
  "metadata": {
    "colab": {
      "provenance": []
    },
    "kernelspec": {
      "display_name": "Python 3",
      "name": "python3"
    },
    "language_info": {
      "codemirror_mode": {
        "name": "ipython",
        "version": 3
      },
      "file_extension": ".py",
      "mimetype": "text/x-python",
      "name": "python",
      "nbconvert_exporter": "python",
      "pygments_lexer": "ipython3",
      "version": "3.9.12"
    }
  },
  "nbformat": 4,
  "nbformat_minor": 0
}
