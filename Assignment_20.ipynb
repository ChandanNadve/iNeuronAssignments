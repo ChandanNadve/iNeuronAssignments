{
 "cells": [
  {
   "cell_type": "markdown",
   "metadata": {},
   "source": [
    "# Assignment 20"
   ]
  },
  {
   "cell_type": "markdown",
   "metadata": {
    "id": "kd14KuA9MWg_"
   },
   "source": [
    "1. Set the variable test1 to the string 'This is a test of the emergency text system,' and save test1 to a file named test.txt."
   ]
  },
  {
   "cell_type": "code",
   "execution_count": 16,
   "metadata": {
    "id": "8Cw5WIhCMfkF"
   },
   "outputs": [],
   "source": [
    "## Answer\n",
    "test1='This is a test of the emergency text system,'\n",
    "with open('test.txt',\"w+\") as o:\n",
    "    o.writelines(test1)"
   ]
  },
  {
   "cell_type": "markdown",
   "metadata": {
    "id": "UkA7EXC0MfyU"
   },
   "source": [
    "2. Read the contents of the file test.txt into the variable test2. Is there a difference between test 1 and test 2?"
   ]
  },
  {
   "cell_type": "code",
   "execution_count": 18,
   "metadata": {
    "id": "8nAd_qnDMf1Q"
   },
   "outputs": [
    {
     "name": "stdout",
     "output_type": "stream",
     "text": [
      "This is a test of the emergency text system,\n",
      "Both text are same\n"
     ]
    }
   ],
   "source": [
    "## Answer\n",
    "with open('test.txt',\"r\") as o:\n",
    "    test2=o.readline()\n",
    "print(test2)\n",
    "if test1==test2:\n",
    "    print(\"Both text are same\")\n",
    "else:\n",
    "    print(\"Both text are different\")"
   ]
  },
  {
   "cell_type": "markdown",
   "metadata": {
    "id": "FjjZfXlzMjYG"
   },
   "source": [
    "3. Create a CSV file called books.csv by using these lines:\n",
    "    \n",
    "    title,author,year\n",
    "\n",
    "    The Weirdstone of Brisingamen,Alan Garner,1960\n",
    "\n",
    "    Perdido Street Station,China Miéville,2000\n",
    "\n",
    "    Thud!,Terry Pratchett,2005\n",
    "\n",
    "    The Spellman Files,Lisa Lutz,2007\n",
    "\n",
    "    Small Gods,Terry Pratchett,1992\n"
   ]
  },
  {
   "cell_type": "code",
   "execution_count": 20,
   "metadata": {
    "id": "eIceAfCSMooO"
   },
   "outputs": [],
   "source": [
    "## Answer\n",
    "import csv\n",
    "csv_data=\"\"\"title,author,year\n",
    "The Weirdstone of Brisingamen,Alan Garner,1960\n",
    "Perdido Street Station,China Miéville,2000\n",
    "Thud!,Terry Pratchett,2005\n",
    "The Spellman Files,Lisa Lutz,2007\n",
    "Small Gods,Terry Pratchett,1992\"\"\"\n",
    "\n",
    "csv_list=[]\n",
    "for line in csv_data.split('\\n'):\n",
    "     csv_list.append(line.split(','))\n",
    "       \n",
    "with open('books.csv', \"w+\") as file:\n",
    "    writer = csv.writer(file)\n",
    "    writer.writerows(csv_list)"
   ]
  },
  {
   "cell_type": "markdown",
   "metadata": {
    "id": "yPCJtImqMpKw"
   },
   "source": [
    "4. Use the sqlite3 module to create a SQLite database called books.db, and a table called books with these fields: title (text), author (text), and year (integer)."
   ]
  },
  {
   "cell_type": "code",
   "execution_count": 23,
   "metadata": {
    "id": "n3CKmoLwMrUC"
   },
   "outputs": [
    {
     "data": {
      "text/plain": [
       "<sqlite3.Cursor at 0x1866df0b9c0>"
      ]
     },
     "execution_count": 23,
     "metadata": {},
     "output_type": "execute_result"
    }
   ],
   "source": [
    "## Answer\n",
    "import sqlite3\n",
    "db_connection=sqlite3.connect('books.db')\n",
    "cursor = db_connection.cursor()\n",
    "create_table_sql = '''\n",
    "CREATE TABLE IF NOT EXISTS books (\n",
    "    title TEXT,\n",
    "    author TEXT,\n",
    "    year INTEGER\n",
    ");\n",
    "'''\n",
    "cursor.execute(create_table_sql)"
   ]
  },
  {
   "cell_type": "code",
   "execution_count": 24,
   "metadata": {},
   "outputs": [
    {
     "data": {
      "text/plain": [
       "[('The Weirdstone of Brisingamen', 'Alan Garner', 1960),\n",
       " ('Perdido Street Station', 'China Miéville', 2000),\n",
       " ('Thud!', 'Terry Pratchett', 2005),\n",
       " ('The Spellman Files', 'Lisa Lutz', 2007),\n",
       " ('Small Gods', 'Terry Pratchett', 1992)]"
      ]
     },
     "execution_count": 24,
     "metadata": {},
     "output_type": "execute_result"
    }
   ],
   "source": [
    "cursor.execute(\"select * from books\")\n",
    "cursor.fetchall()"
   ]
  },
  {
   "cell_type": "markdown",
   "metadata": {
    "id": "zjNLgYEqMra-"
   },
   "source": [
    "5. Read books.csv and insert its data into the book table."
   ]
  },
  {
   "cell_type": "code",
   "execution_count": 26,
   "metadata": {},
   "outputs": [
    {
     "name": "stdout",
     "output_type": "stream",
     "text": [
      "[('The Weirdstone of Brisingamen', 'Alan Garner', 1960), ('Perdido Street Station', 'China Miéville', 2000), ('Thud!', 'Terry Pratchett', 2005), ('The Spellman Files', 'Lisa Lutz', 2007), ('Small Gods', 'Terry Pratchett', 1992)]\n"
     ]
    }
   ],
   "source": [
    "import csv\n",
    "import sqlite3\n",
    "db_connection=sqlite3.connect('books.db')\n",
    "cursor = db_connection.cursor()\n",
    "cursor.execute(\"delete from books\")\n",
    "with open('books.csv',\"r\") as csv_file:\n",
    "    csv_reader = csv.reader(csv_file)\n",
    "    next(csv_reader)\n",
    "    next(csv_reader)\n",
    "    for row in csv_reader:\n",
    "        next(csv_reader)\n",
    "        title, author, year = row\n",
    "        insert_sql = f'''\n",
    "        INSERT INTO books (title, author, year)\n",
    "        VALUES ('{title}', '{author}', '{year}');\n",
    "        '''\n",
    "        cursor.execute(insert_sql)\n",
    "cursor.execute(\"select * from books\")\n",
    "print(cursor.fetchall())\n",
    "db_connection.commit()\n",
    "db_connection.close()"
   ]
  },
  {
   "cell_type": "markdown",
   "metadata": {
    "id": "DM-Q-pKuMtyI"
   },
   "source": [
    "6. Select and print the title column from the book table in alphabetical order."
   ]
  },
  {
   "cell_type": "code",
   "execution_count": 27,
   "metadata": {
    "id": "TJ1rqy4bMwWW"
   },
   "outputs": [
    {
     "name": "stdout",
     "output_type": "stream",
     "text": [
      "Perdido Street Station\n",
      "Small Gods\n",
      "The Spellman Files\n",
      "The Weirdstone of Brisingamen\n",
      "Thud!\n"
     ]
    }
   ],
   "source": [
    "## Answer\n",
    "import sqlite3\n",
    "db_connection=sqlite3.connect('books.db')\n",
    "cursor = db_connection.cursor()\n",
    "cursor.execute(\"select title from books order by title\")\n",
    "res=cursor.fetchall()\n",
    "for i in res:\n",
    "    print(i[0])\n",
    "db_connection.commit()\n",
    "db_connection.close()"
   ]
  },
  {
   "cell_type": "markdown",
   "metadata": {
    "id": "U11pjSHaMwwi"
   },
   "source": [
    "7. From the book table, select and print all columns in the order of publication."
   ]
  },
  {
   "cell_type": "code",
   "execution_count": 29,
   "metadata": {
    "id": "eGSL8t0yMt5H"
   },
   "outputs": [
    {
     "name": "stdout",
     "output_type": "stream",
     "text": [
      "The book 'The Weirdstone of Brisingamen' which is written by the authoer 'Alan Garner' is published in - 1960\n",
      "The book 'Small Gods' which is written by the authoer 'Terry Pratchett' is published in - 1992\n",
      "The book 'Perdido Street Station' which is written by the authoer 'China Miéville' is published in - 2000\n",
      "The book 'Thud!' which is written by the authoer 'Terry Pratchett' is published in - 2005\n",
      "The book 'The Spellman Files' which is written by the authoer 'Lisa Lutz' is published in - 2007\n"
     ]
    }
   ],
   "source": [
    "## Answer\n",
    "import sqlite3\n",
    "db_connection=sqlite3.connect('books.db')\n",
    "cursor = db_connection.cursor()\n",
    "cursor.execute(\"select * from books order by year\")\n",
    "res=cursor.fetchall()\n",
    "for i in res:\n",
    "    print(f\"The book '{i[0]}' which is written by the authoer '{i[1]}' is published in - {i[2]}\")\n",
    "db_connection.commit()\n",
    "db_connection.close()"
   ]
  },
  {
   "cell_type": "markdown",
   "metadata": {
    "id": "a8zPVUGdMzp6"
   },
   "source": [
    "8. Use the sqlalchemy module to connect to the sqlite3 database books.db that you just made in exercise 6."
   ]
  },
  {
   "cell_type": "code",
   "execution_count": 30,
   "metadata": {
    "id": "hKVgmTwSMz0o"
   },
   "outputs": [
    {
     "name": "stdout",
     "output_type": "stream",
     "text": [
      "[('The Weirdstone of Brisingamen', 'Alan Garner', 1960), ('Perdido Street Station', 'China Miéville', 2000), ('Thud!', 'Terry Pratchett', 2005), ('The Spellman Files', 'Lisa Lutz', 2007), ('Small Gods', 'Terry Pratchett', 1992)]\n"
     ]
    }
   ],
   "source": [
    "## Answer\n",
    "import sqlalchemy\n",
    "import pandas as pd\n",
    "cnx = sqlite3.connect('books.db')\n",
    "cursor = cnx.cursor()\n",
    "cursor.execute(\"select * from books;\")\n",
    "print(cursor.fetchall())\n",
    "cnx.close()"
   ]
  },
  {
   "cell_type": "markdown",
   "metadata": {
    "id": "lXoBx3egM2fs"
   },
   "source": [
    "9. Install the Redis server and the Python redis library (pip install redis) on your computer. Create a Redis hash called test with the fields count (1) and name ('Fester Bestertester'). Print all the fields for test."
   ]
  },
  {
   "cell_type": "code",
   "execution_count": 12,
   "metadata": {
    "scrolled": true
   },
   "outputs": [
    {
     "name": "stdout",
     "output_type": "stream",
     "text": [
      "Requirement already satisfied: redis in c:\\programdata\\anaconda3\\lib\\site-packages (5.0.0)\n",
      "Requirement already satisfied: async-timeout>=4.0.2 in c:\\programdata\\anaconda3\\lib\\site-packages (from redis) (4.0.3)\n"
     ]
    },
    {
     "name": "stderr",
     "output_type": "stream",
     "text": [
      "WARNING: Ignoring invalid distribution -qlalchemy (c:\\programdata\\anaconda3\\lib\\site-packages)\n",
      "WARNING: Ignoring invalid distribution -edi (c:\\programdata\\anaconda3\\lib\\site-packages)\n",
      "WARNING: Ignoring invalid distribution -qlalchemy (c:\\programdata\\anaconda3\\lib\\site-packages)\n",
      "WARNING: Ignoring invalid distribution -edi (c:\\programdata\\anaconda3\\lib\\site-packages)\n",
      "WARNING: Ignoring invalid distribution -qlalchemy (c:\\programdata\\anaconda3\\lib\\site-packages)\n",
      "WARNING: Ignoring invalid distribution -edi (c:\\programdata\\anaconda3\\lib\\site-packages)\n",
      "WARNING: Ignoring invalid distribution -qlalchemy (c:\\programdata\\anaconda3\\lib\\site-packages)\n",
      "WARNING: Ignoring invalid distribution -edi (c:\\programdata\\anaconda3\\lib\\site-packages)\n",
      "WARNING: Ignoring invalid distribution -qlalchemy (c:\\programdata\\anaconda3\\lib\\site-packages)\n",
      "WARNING: Ignoring invalid distribution -edi (c:\\programdata\\anaconda3\\lib\\site-packages)\n",
      "WARNING: Ignoring invalid distribution -qlalchemy (c:\\programdata\\anaconda3\\lib\\site-packages)\n",
      "WARNING: Ignoring invalid distribution -edi (c:\\programdata\\anaconda3\\lib\\site-packages)\n"
     ]
    }
   ],
   "source": [
    "## Answer\n",
    "!pip install redis"
   ]
  },
  {
   "cell_type": "code",
   "execution_count": 31,
   "metadata": {
    "id": "oR8GZBhUM4jb"
   },
   "outputs": [
    {
     "data": {
      "text/plain": [
       "{'count': '1', 'name': 'Fester Bestertester'}"
      ]
     },
     "execution_count": 31,
     "metadata": {},
     "output_type": "execute_result"
    }
   ],
   "source": [
    "import redis\n",
    "r = redis.Redis(host='127.0.0.1', port=6379, decode_responses=True)\n",
    "r.delete('test')\n",
    "r.hset('test', mapping={'count': 1,'name': 'Fester Bestertester'})\n",
    "r.hgetall('test')"
   ]
  },
  {
   "cell_type": "markdown",
   "metadata": {
    "id": "ykMS6vAPM4sI"
   },
   "source": [
    "10. Increment the count field of test and print it."
   ]
  },
  {
   "cell_type": "code",
   "execution_count": 32,
   "metadata": {
    "id": "TYOaZ7IhM2nn"
   },
   "outputs": [
    {
     "data": {
      "text/plain": [
       "{'count': '2', 'name': 'Fester Bestertester'}"
      ]
     },
     "execution_count": 32,
     "metadata": {},
     "output_type": "execute_result"
    }
   ],
   "source": [
    "## Answer\n",
    "r.hincrby('test', 'count', 1)\n",
    "r.hgetall('test')"
   ]
  }
 ],
 "metadata": {
  "colab": {
   "provenance": []
  },
  "kernelspec": {
   "display_name": "Python 3 (ipykernel)",
   "language": "python",
   "name": "python3"
  },
  "language_info": {
   "codemirror_mode": {
    "name": "ipython",
    "version": 3
   },
   "file_extension": ".py",
   "mimetype": "text/x-python",
   "name": "python",
   "nbconvert_exporter": "python",
   "pygments_lexer": "ipython3",
   "version": "3.10.9"
  }
 },
 "nbformat": 4,
 "nbformat_minor": 1
}
