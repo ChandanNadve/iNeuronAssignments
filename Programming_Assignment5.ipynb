{
 "cells": [
  {
   "cell_type": "markdown",
   "metadata": {
    "id": "jIaRXqnLMHYm"
   },
   "source": [
    "# Python Programming Assignment 4"
   ]
  },
  {
   "cell_type": "markdown",
   "metadata": {
    "id": "cQ6C1o9LfTSq"
   },
   "source": [
    "1.\tWrite a Python Program to Find LCM?"
   ]
  },
  {
   "cell_type": "code",
   "execution_count": 6,
   "metadata": {
    "id": "8G0tcqk4fakm"
   },
   "outputs": [
    {
     "name": "stdout",
     "output_type": "stream",
     "text": [
      "Enter the value of n1 :12\n",
      "Enter the value of n2 :34\n",
      "LCM of 12 and 34 is  204\n"
     ]
    }
   ],
   "source": [
    "##Answer\n",
    "import math\n",
    "def lcm(n1,n2):\n",
    "    return (n1*n2)//math.gcd(n1,n2)\n",
    "\n",
    "n1=int(input(\"Enter the value of n1 :\"))\n",
    "n2=int(input(\"Enter the value of n2 :\"))\n",
    "print(f\"LCM of {n1} and {n2} is \",lcm(n1,n2))  "
   ]
  },
  {
   "cell_type": "markdown",
   "metadata": {
    "id": "vSCwLsjUfanT"
   },
   "source": [
    "2.\tWrite a Python Program to Find HCF?"
   ]
  },
  {
   "cell_type": "code",
   "execution_count": 9,
   "metadata": {
    "id": "biyrkeHLfaqm"
   },
   "outputs": [
    {
     "name": "stdout",
     "output_type": "stream",
     "text": [
      "Enter the value of n1 :454\n",
      "Enter the value of n2 :556\n",
      "HCF of 454 and 556 is  2\n"
     ]
    }
   ],
   "source": [
    "##Answer\n",
    "def hcf(n1,n2):\n",
    "    while n2!=0:\n",
    "        n1,n2=n2,n1%n2\n",
    "    return n1\n",
    "\n",
    "n1=int(input(\"Enter the value of n1 :\"))\n",
    "n2=int(input(\"Enter the value of n2 :\"))\n",
    "print(f\"HCF of {n1} and {n2} is \",hcf(n1,n2))  \n",
    "    "
   ]
  },
  {
   "cell_type": "markdown",
   "metadata": {
    "id": "KHxA8VPffatU"
   },
   "source": [
    "3.\tWrite a Python Program to Convert Decimal to Binary, Octal and Hexadecimal?"
   ]
  },
  {
   "cell_type": "code",
   "execution_count": 15,
   "metadata": {
    "id": "cjkivZrAfawJ"
   },
   "outputs": [
    {
     "name": "stdout",
     "output_type": "stream",
     "text": [
      "Enter the value of n :12312312432\n",
      "Binary format of 12312312432  1011011101110111101111101001110000\n",
      "Octal format of 12312312432  133567575160\n",
      "Hexadecimal format of 12312312432  2DDDEFA70\n"
     ]
    }
   ],
   "source": [
    "##Answer\n",
    "def dec_binary(n):\n",
    "    binary=\"\"\n",
    "    while n!=0:\n",
    "        n,t=n//2,n%2\n",
    "        binary=str(t)+binary\n",
    "    return binary\n",
    "\n",
    "def dec_octal(n):\n",
    "    octal=\"\"\n",
    "    while n!=0:\n",
    "        n,t=n//8,n%8\n",
    "        octal=str(t)+octal\n",
    "    return octal\n",
    "\n",
    "def dec_hexadecimal(n):\n",
    "    hexadecimal=\"\"\n",
    "    while n!=0:\n",
    "        n,t=n//16,n%16\n",
    "        if t>9:\n",
    "            if t==10:\n",
    "                t='A'\n",
    "            elif t==11:\n",
    "                t='B'\n",
    "            elif t==12:\n",
    "                t='C'\n",
    "            elif t==13:\n",
    "                t='D'\n",
    "            elif t==14:\n",
    "                t='E'\n",
    "            elif t==15:\n",
    "                t='F'    \n",
    "        hexadecimal=str(t)+hexadecimal\n",
    "    return hexadecimal\n",
    "\n",
    "n=int(input(\"Enter the value of n :\"))\n",
    "print(f\"Binary format of {n} \",dec_binary(n))  \n",
    "print(f\"Octal format of {n} \",dec_octal(n))\n",
    "print(f\"Hexadecimal format of {n} \",dec_hexadecimal(n))"
   ]
  },
  {
   "cell_type": "markdown",
   "metadata": {
    "id": "hjCTXHc_fazH"
   },
   "source": [
    "4.\tWrite a Python Program To Find ASCII value of a character?"
   ]
  },
  {
   "cell_type": "code",
   "execution_count": 18,
   "metadata": {
    "id": "_TzxRb4lfpBf"
   },
   "outputs": [
    {
     "name": "stdout",
     "output_type": "stream",
     "text": [
      "Enter a character: $\n",
      "ASCII value of $ is: 36\n"
     ]
    }
   ],
   "source": [
    "##Answer\n",
    "def ascii_value(character):  \n",
    "    return ord(character)\n",
    "char = input(\"Enter a character: \")\n",
    "\n",
    "print(\"ASCII value of\", char, \"is:\", ascii_value(char))"
   ]
  },
  {
   "cell_type": "markdown",
   "metadata": {
    "id": "B9WZSn0YfpKn"
   },
   "source": [
    "5.\tWrite a Python Program to Make a Simple Calculator with 4 basic mathematical operations?"
   ]
  },
  {
   "cell_type": "code",
   "execution_count": 20,
   "metadata": {
    "id": "IQBrKPFpfa2N"
   },
   "outputs": [
    {
     "name": "stdout",
     "output_type": "stream",
     "text": [
      "Enter the 1st Value : 12\n",
      "Enter the operator (+ or - or * or /) : +\n",
      "Enter the 2nd Value : 56\n",
      "12.0 + 56.0= 68.0\n"
     ]
    }
   ],
   "source": [
    "##Answer\n",
    "def maths_operation(value1,operator,value2):\n",
    "    if operator==\"+\":\n",
    "        return value1+value2\n",
    "    elif operator==\"-\":\n",
    "        return value1-value2\n",
    "    elif operator==\"*\":\n",
    "        return value1*value2\n",
    "    elif operator==\"/\":\n",
    "        try:\n",
    "            return value1/value2\n",
    "        except Exception as e:\n",
    "            return e\n",
    "    else:\n",
    "        return \"Invalid operator\"\n",
    "\n",
    "value1=float(input(\"Enter the 1st Value : \"))\n",
    "operator=input(\"Enter the operator (+ or - or * or /) : \")\n",
    "value2=float(input(\"Enter the 2nd Value : \"))\n",
    "print(f\"{value1} {operator} {value2}=\",maths_operation(value1,operator,value2))"
   ]
  }
 ],
 "metadata": {
  "colab": {
   "provenance": []
  },
  "kernelspec": {
   "display_name": "Python 3 (ipykernel)",
   "language": "python",
   "name": "python3"
  },
  "language_info": {
   "codemirror_mode": {
    "name": "ipython",
    "version": 3
   },
   "file_extension": ".py",
   "mimetype": "text/x-python",
   "name": "python",
   "nbconvert_exporter": "python",
   "pygments_lexer": "ipython3",
   "version": "3.10.9"
  }
 },
 "nbformat": 4,
 "nbformat_minor": 1
}
