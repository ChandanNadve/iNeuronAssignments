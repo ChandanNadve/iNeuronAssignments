{
  "cells": [
    {
      "cell_type": "code",
      "execution_count": null,
      "metadata": {
        "id": "B9pIhNx9lgPS"
      },
      "outputs": [],
      "source": [
        "\"\"\"\n",
        "Question1. Write a function that stutters a word as if someone is struggling to read it. The first two letters are repeated twice with an ellipsis ... and space after each, and then the word is pronounced with a question mark ?.\n",
        "Examples\n",
        "stutter(\"incredible\") ➞ \"in... in... incredible?\"\n",
        "\n",
        "stutter(\"enthusiastic\") ➞ \"en... en... enthusiastic?\"\n",
        "\n",
        "stutter(\"outstanding\") ➞ \"ou... ou... outstanding?\"\n",
        "\n",
        "Hint :- Assume all input is in lower case and at least two characters long.\n",
        "\"\"\""
      ]
    },
    {
      "cell_type": "code",
      "execution_count": 11,
      "metadata": {
        "id": "4Cq6W7EMljUJ"
      },
      "outputs": [
        {
          "name": "stdout",
          "output_type": "stream",
          "text": [
            "in... in... incredible?\n",
            "en... en... enthusiastic?\n",
            "ou... ou... outstanding?\n"
          ]
        }
      ],
      "source": [
        "##Answer\n",
        "def stutter(word:str)->str:\n",
        "    \"\"\"This function is used to find the strutter of a word\"\"\"\n",
        "    try:\n",
        "        stutter_word=(word[:2]+'.'*3+' ')*2+word+'?'\n",
        "    except Exception as e:\n",
        "        return e\n",
        "    return stutter_word\n",
        "\n",
        "if __name__==\"__main__\":\n",
        "    print(stutter('incredible'))\n",
        "    print(stutter('enthusiastic'))\n",
        "    print(stutter('outstanding'))"
      ]
    },
    {
      "cell_type": "code",
      "execution_count": null,
      "metadata": {
        "id": "XD6Gce8FljXI"
      },
      "outputs": [],
      "source": [
        "\"\"\"\n",
        "Question 2.Create a function that takes an angle in radians and returns the corresponding angle in degrees rounded to one decimal place.\n",
        "Examples\n",
        "radians_to_degrees(1) ➞ 57.3\n",
        "\n",
        "radians_to_degrees(20) ➞ 1145.9\n",
        "\n",
        "radians_to_degrees(50) ➞ 2864.8\n",
        "\"\"\""
      ]
    },
    {
      "cell_type": "code",
      "execution_count": 18,
      "metadata": {
        "id": "Ab90_lCiljao"
      },
      "outputs": [
        {
          "name": "stdout",
          "output_type": "stream",
          "text": [
            "For the radiance 1 degree is 57.27\n",
            "For the radiance 20 degree is 1145.45\n",
            "For the radiance 50 degree is 2863.64\n"
          ]
        }
      ],
      "source": [
        "##Answer\n",
        "import numpy as np\n",
        "def radians_to_degrees(rad:float)->float:\n",
        "    degrees=rad*180/(22/7)\n",
        "    return degrees\n",
        "if __name__==\"__main__\":\n",
        "    a,b,c=1,20,50\n",
        "    print(f\"For the radiance {a} degree is {np.round(radians_to_degrees(a),2)}\")\n",
        "    print(f\"For the radiance {b} degree is {np.round(radians_to_degrees(b),2)}\")\n",
        "    print(f\"For the radiance {c} degree is {np.round(radians_to_degrees(c),2)}\")"
      ]
    },
    {
      "cell_type": "code",
      "execution_count": null,
      "metadata": {
        "id": "jJJEkq7yljda"
      },
      "outputs": [],
      "source": [
        "\"\"\"\n",
        "Question 3. In this challenge, establish if a given integer num is a Curzon number. If 1 plus 2 elevated to num is exactly divisible by 1 plus 2 multiplied by num, then num is a Curzon number.\n",
        "Given a non-negative integer num, implement a function that returns True if num is a Curzon number, or False otherwise.\n",
        "Examples\n",
        "is_curzon(5) ➞ True\n",
        "# 2 ** 5 + 1 = 33\n",
        "# 2 * 5 + 1 = 11\n",
        "# 33 is a multiple of 11\n",
        "\n",
        "is_curzon(10) ➞ False\n",
        "# 2 ** 10 + 1 = 1025\n",
        "# 2 * 10 + 1 = 21\n",
        "# 1025 is not a multiple of 21\n",
        "\n",
        "is_curzon(14) ➞ True\n",
        "# 2 ** 14 + 1 = 16385\n",
        "# 2 * 14 + 1 = 29\n",
        "# 16385 is a multiple of 29\n",
        "\"\"\""
      ]
    },
    {
      "cell_type": "code",
      "execution_count": 14,
      "metadata": {
        "id": "9VKC_5h4ljgW"
      },
      "outputs": [
        {
          "name": "stdout",
          "output_type": "stream",
          "text": [
            "5 is curzon ->True\n",
            "10 is curzon ->False\n",
            "14 is curzon ->True\n"
          ]
        }
      ],
      "source": [
        "##Answer\n",
        "def is_curzon(n):\n",
        "    try:\n",
        "        a=(2**n)+1\n",
        "        b=(2*n)+1\n",
        "        if a%b==0:\n",
        "            return True\n",
        "        else:\n",
        "            return False\n",
        "    except Exception as e:\n",
        "        print('Exception occured ',e)\n",
        "\n",
        "if __name__=='__main__':\n",
        "    a,b,c=5,10,14\n",
        "    print(f\"{a} is curzon ->{is_curzon(a)}\")\n",
        "    print(f\"{b} is curzon ->{is_curzon(b)}\")\n",
        "    print(f\"{c} is curzon ->{is_curzon(c)}\")"
      ]
    },
    {
      "cell_type": "code",
      "execution_count": null,
      "metadata": {
        "id": "J8qjLYZ8lwqd"
      },
      "outputs": [],
      "source": [
        "\"\"\"\n",
        "Question 4.Given the side length x find the area of a hexagon.\n",
        " Note:image is there in question paper\n",
        "Examples\n",
        "area_of_hexagon(1) ➞ 2.6\n",
        "\n",
        "area_of_hexagon(2) ➞ 10.4\n",
        "\n",
        "area_of_hexagon(3) ➞ 23.4\n",
        "\"\"\""
      ]
    },
    {
      "cell_type": "code",
      "execution_count": 17,
      "metadata": {
        "id": "FkBEjcq8lzyl"
      },
      "outputs": [
        {
          "name": "stdout",
          "output_type": "stream",
          "text": [
            "The area of hexagon which is having legnth 1 is ->2.6\n",
            "The area of hexagon which is having legnth 2 is ->10.39\n",
            "The area of hexagon which is having legnth 3 is ->23.38\n"
          ]
        }
      ],
      "source": [
        "##Answer\n",
        "import numpy as np\n",
        "def area_of_hexagon(n):\n",
        "    try:\n",
        "        area=3*np.sqrt(3)/2*(n**2)\n",
        "        return area\n",
        "    except Exception as e:\n",
        "        print('Exception occured ',e)\n",
        "\n",
        "if __name__=='__main__':\n",
        "    a,b,c=1,2,3\n",
        "    print(f\"The area of hexagon which is having legnth {a} is ->{np.round(area_of_hexagon(a),2)}\")\n",
        "    print(f\"The area of hexagon which is having legnth {b} is ->{np.round(area_of_hexagon(b),2)}\")\n",
        "    print(f\"The area of hexagon which is having legnth {c} is ->{np.round(area_of_hexagon(c),2)}\")"
      ]
    },
    {
      "cell_type": "code",
      "execution_count": null,
      "metadata": {
        "id": "N9fwz2Selz7k"
      },
      "outputs": [],
      "source": [
        "\"\"\"\n",
        "Question 5. Create a function that returns a base-2 (binary) representation of a base-10 (decimal) string number. To convert is simple: ((2) means base-2 and (10) means base-10) 010101001(2) = 1 + 8 + 32 + 128.\n",
        "Going from right to left, the value of the most right bit is 1, now from that every bit to the left will be x2 the value, value of an 8 bit binary numbers are (256, 128, 64, 32, 16, 8, 4, 2, 1).\n",
        "Examples\n",
        "binary(1) ➞ \"1\"\n",
        "# 1*1 = 1\n",
        "\n",
        "binary(5) ➞ \"101\"\n",
        "# 1*1 + 1*4 = 5\n",
        "\n",
        "binary(10) ➞ \"1010\"\n",
        "# 1*2 + 1*8 = 10\n",
        "\"\"\"\n"
      ]
    },
    {
      "cell_type": "code",
      "execution_count": 31,
      "metadata": {
        "id": "Rns6Pc0Blwty"
      },
      "outputs": [
        {
          "name": "stdout",
          "output_type": "stream",
          "text": [
            "For binary 1 decimal number  is -> 1\n",
            "For binary 101 decimal number  is -> 5\n",
            "For binary 1010 decimal number  is -> 10\n"
          ]
        }
      ],
      "source": [
        "##Answer\n",
        "def binary(n:int)->int:\n",
        "    \"\"\"This function is used to find binary number to decimal\"\"\"\n",
        "    n_str=str(n)[::-1]\n",
        "    res=0\n",
        "    for i in range(len(n_str)):\n",
        "        res+=int(n_str[i])*(2**i)\n",
        "    return res\n",
        "\n",
        "if __name__=='__main__':\n",
        "    a,b,c=1,101,1010\n",
        "    print(f\"For binary {a} decimal number  is -> {binary(a)}\")\n",
        "    print(f\"For binary {b} decimal number  is -> {binary(b)}\")\n",
        "    print(f\"For binary {c} decimal number  is -> {binary(c)}\")"
      ]
    }
  ],
  "metadata": {
    "colab": {
      "provenance": []
    },
    "kernelspec": {
      "display_name": "Python 3",
      "name": "python3"
    },
    "language_info": {
      "codemirror_mode": {
        "name": "ipython",
        "version": 3
      },
      "file_extension": ".py",
      "mimetype": "text/x-python",
      "name": "python",
      "nbconvert_exporter": "python",
      "pygments_lexer": "ipython3",
      "version": "3.9.12"
    }
  },
  "nbformat": 4,
  "nbformat_minor": 0
}
