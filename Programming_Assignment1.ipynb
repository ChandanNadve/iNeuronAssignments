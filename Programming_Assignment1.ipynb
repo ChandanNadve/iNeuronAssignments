{
 "cells": [
  {
   "cell_type": "markdown",
   "id": "ad71fe0f",
   "metadata": {},
   "source": [
    "#### 1. Write a Python program to print \"Hello Python\"?"
   ]
  },
  {
   "cell_type": "code",
   "execution_count": 4,
   "id": "21e778e6",
   "metadata": {},
   "outputs": [
    {
     "name": "stdout",
     "output_type": "stream",
     "text": [
      "Hello World!\n"
     ]
    }
   ],
   "source": [
    "def printhello():\n",
    "    \"\"\"\n",
    "    This fucntion is used to say hello world\n",
    "    \"\"\"\n",
    "    print(\"Hello World!\")\n",
    "\n",
    "printhello()"
   ]
  },
  {
   "cell_type": "markdown",
   "id": "a70374bd",
   "metadata": {},
   "source": [
    "#### 2.Write a Python program to do arithmetical operations addition and division.?"
   ]
  },
  {
   "cell_type": "code",
   "execution_count": 15,
   "id": "f89fa2cc",
   "metadata": {},
   "outputs": [
    {
     "name": "stdout",
     "output_type": "stream",
     "text": [
      "3\n",
      "0.5\n",
      "('Error Occured ', ZeroDivisionError('division by zero'))\n"
     ]
    }
   ],
   "source": [
    "def addition(a,b):\n",
    "    \"\"\"\n",
    "    This fucntion is used to add 2 numbers\n",
    "    \"\"\"\n",
    "    res=a+b\n",
    "    return res\n",
    "\n",
    "def division(numerator,denominator):\n",
    "    \"\"\"\n",
    "    This function is used for division\n",
    "    \"\"\"\n",
    "    try:\n",
    "        res=numerator/denominator\n",
    "    except Exception as e:\n",
    "        res=(\"Error Occured \",e)\n",
    "    return res\n",
    "\n",
    "c=addition(1,2)\n",
    "print(c)\n",
    "\n",
    "c=division(1,2)\n",
    "print(c)\n",
    "\n",
    "c=division(2,0)\n",
    "print(c)\n"
   ]
  },
  {
   "cell_type": "markdown",
   "id": "3a36db4a",
   "metadata": {},
   "source": [
    "#### 3.Write a Python program to find the area of a triangle?"
   ]
  },
  {
   "cell_type": "code",
   "execution_count": 24,
   "id": "54a1ec10",
   "metadata": {},
   "outputs": [
    {
     "name": "stdout",
     "output_type": "stream",
     "text": [
      "2.8284271247461903\n"
     ]
    }
   ],
   "source": [
    "import math\n",
    "def area_of_traingle(a,b,c):\n",
    "    \"\"\"\n",
    "    This function is used to find area of triangle\n",
    "    \"\"\"\n",
    "    s = (a + b + c) / 2\n",
    "    try:\n",
    "        Area = math.sqrt(s * (s - a) * (s - b) * (s - c))\n",
    "    except Exception as e:\n",
    "        Area=(\"The inputs will not give valid triangle form\")    \n",
    "    return Area\n",
    "a=area_of_traingle(3,2,3)\n",
    "print(a)"
   ]
  },
  {
   "cell_type": "markdown",
   "id": "e9607a68",
   "metadata": {},
   "source": [
    "#### 4. Write a Python program to swap two variables?"
   ]
  },
  {
   "cell_type": "code",
   "execution_count": 25,
   "id": "83d6c8ab",
   "metadata": {},
   "outputs": [
    {
     "name": "stdout",
     "output_type": "stream",
     "text": [
      "Enter the Value of a :12\n",
      "Enter the Value of b:10\n",
      "Before swap value of a is  12  b is  10\n",
      "After swap value of a is  10  b is  12\n"
     ]
    }
   ],
   "source": [
    "a=input(\"Enter the Value of a :\")\n",
    "b=input(\"Enter the Value of b:\")\n",
    "print(\"Before swap value of a is \",a,\" b is \",b)\n",
    "a,b=b,a\n",
    "print(\"After swap value of a is \",a,\" b is \",b)"
   ]
  },
  {
   "cell_type": "markdown",
   "id": "cf2f365a",
   "metadata": {},
   "source": [
    "#### 5. Write a Python program to generate a random number?"
   ]
  },
  {
   "cell_type": "code",
   "execution_count": 46,
   "id": "edd6aeb6",
   "metadata": {},
   "outputs": [
    {
     "name": "stdout",
     "output_type": "stream",
     "text": [
      "Please enter how many random number you want to print: 12\n",
      "419\n",
      "830\n",
      "559\n",
      "941\n",
      "10\n",
      "385\n",
      "416\n",
      "785\n",
      "295\n",
      "873\n",
      "5\n",
      "736\n"
     ]
    }
   ],
   "source": [
    "import random as rn\n",
    "try:\n",
    "    n=int(input(\"Please enter how many random number you want to print: \"))\n",
    "    for i in range(0,n):\n",
    "        print(rn.randint(1,1000))\n",
    "except Exception as e:\n",
    "    print(\"ERROR:\",e)\n",
    "\n",
    "    "
   ]
  }
 ],
 "metadata": {
  "kernelspec": {
   "display_name": "Python 3 (ipykernel)",
   "language": "python",
   "name": "python3"
  },
  "language_info": {
   "codemirror_mode": {
    "name": "ipython",
    "version": 3
   },
   "file_extension": ".py",
   "mimetype": "text/x-python",
   "name": "python",
   "nbconvert_exporter": "python",
   "pygments_lexer": "ipython3",
   "version": "3.10.9"
  }
 },
 "nbformat": 4,
 "nbformat_minor": 5
}
