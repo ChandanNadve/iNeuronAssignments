{
 "cells": [
  {
   "cell_type": "markdown",
   "id": "3a164c3b",
   "metadata": {},
   "source": [
    "# Python Assignment 5"
   ]
  },
  {
   "cell_type": "code",
   "execution_count": null,
   "id": "01374e7a",
   "metadata": {},
   "outputs": [],
   "source": [
    "1. What does an empty dictionary's code look like?\n",
    "\n",
    "#ANSWER:-----------------------------------------------------------------\n",
    "a={}\n",
    "type(a)\n"
   ]
  },
  {
   "cell_type": "code",
   "execution_count": null,
   "id": "3d1d0d21",
   "metadata": {},
   "outputs": [],
   "source": [
    "2. What is the value of a dictionary value with the key 'foo' and the value 42?\n",
    "\n",
    "#ANSWER:-----------------------------------------------------------------\n",
    "a={'foo':42}"
   ]
  },
  {
   "cell_type": "code",
   "execution_count": null,
   "id": "4b03be1b",
   "metadata": {},
   "outputs": [],
   "source": [
    "3. What is the most significant distinction between a dictionary and a list?\n",
    "\n",
    "#ANSWER:-----------------------------------------------------------------\n",
    "1. Dictionaries are Unordered Collection of Elements \n",
    "   List are Ordered Collection of Elements \n",
    "2. Dictionaries are storing elements in key value pair\n",
    "   List by default index will be there which is begining from 0 to till length of list\n",
    "3. Dictionaries wont allow duplicate keys, but it will allow duplicate value\n",
    "   List will allow duplicate values\n",
    "4. Dictoinary will give error if we are searching for an non available key inside dictionary\n",
    "   List will not give any error if we are searching for an non available element inside list\n",
    "5. Dictionary we will use {} bracket to define\n",
    "   List we will use [] bracket to define\n",
    "6. The way of Accessing of Dicitionary element is dic_name['key_name']\n",
    "   The way of Accessing of List element is list_name[index_number]"
   ]
  },
  {
   "cell_type": "code",
   "execution_count": 12,
   "id": "447c9af3",
   "metadata": {
    "scrolled": true
   },
   "outputs": [
    {
     "name": "stdout",
     "output_type": "stream",
     "text": [
      "There is key error - 'foo'\n"
     ]
    }
   ],
   "source": [
    "4. What happens if you try to access spam['foo'] if spam is {'bar': 100}?"
   ]
  },
  {
   "cell_type": "code",
   "execution_count": 26,
   "id": "6dd59700",
   "metadata": {},
   "outputs": [
    {
     "name": "stdout",
     "output_type": "stream",
     "text": [
      "There is key error - 'foo'\n"
     ]
    }
   ],
   "source": [
    "#ANSWER:-----------------------------------------------------------------\n",
    "\n",
    "#This will throw key error as below\n",
    "spam={'bar':100}\n",
    "try:\n",
    "    print(spam['foo'])\n",
    "except Exception as e:\n",
    "    print('There is key error -',e)"
   ]
  },
  {
   "cell_type": "code",
   "execution_count": null,
   "id": "bb6a2003",
   "metadata": {},
   "outputs": [],
   "source": [
    "5. If a dictionary is stored in spam, what is the difference between the expressions 'cat' in spam and 'cat' in spam.keys()?\n",
    "\n",
    "#ANSWER:-----------------------------------------------------------------\n",
    "spam={'cat':100,1:'helllo'}\n",
    "\n",
    "\n",
    "print('cat' in spam)  \n",
    "This Checks cat key is \"present in dictionary\" or not?\n",
    "\n",
    "\n",
    "print('cat' in spam.keys())\n",
    "This Checks cat is \"present in list of keys belongs to dictionary\" or not?"
   ]
  },
  {
   "cell_type": "code",
   "execution_count": 27,
   "id": "f74f2d2e",
   "metadata": {},
   "outputs": [
    {
     "name": "stdout",
     "output_type": "stream",
     "text": [
      "True\n",
      "True\n"
     ]
    }
   ],
   "source": [
    "spam={'cat':100,1:'helllo'}\n",
    "print('cat' in spam)\n",
    "print('cat' in spam.keys())"
   ]
  },
  {
   "cell_type": "code",
   "execution_count": 34,
   "id": "6c6d050e",
   "metadata": {},
   "outputs": [],
   "source": [
    "6. If a dictionary is stored in spam, what is the difference between the expressions 'cat' in spam and 'cat' in spam.values()?\n",
    "\n",
    "#ANSWER:-----------------------------------------------------------------\n",
    "spam={'cat':100,1:'helllo'}\n",
    "\n",
    "\n",
    "print('cat' in spam)  \n",
    "This Checks cat key is \"present in dictionary\" or not?\n",
    "\n",
    "\n",
    "print('cat' in spam.values())\n",
    "This Checks cat is \"present in list of values belongs to dictionary\" or not?"
   ]
  },
  {
   "cell_type": "code",
   "execution_count": 42,
   "id": "6b43b309",
   "metadata": {
    "scrolled": true
   },
   "outputs": [
    {
     "name": "stdout",
     "output_type": "stream",
     "text": [
      "True\n",
      "True\n"
     ]
    }
   ],
   "source": [
    "spam={'cat':100,1:'cat'}\n",
    "print('cat' in spam)\n",
    "print('cat' in spam.values())"
   ]
  },
  {
   "cell_type": "code",
   "execution_count": null,
   "id": "2d23e742",
   "metadata": {},
   "outputs": [],
   "source": [
    "7. What is a shortcut for the following code?\n",
    "if 'color' not in spam:\n",
    "    spam['color'] = 'black'"
   ]
  },
  {
   "cell_type": "code",
   "execution_count": 40,
   "id": "a82b7e52",
   "metadata": {},
   "outputs": [
    {
     "name": "stdout",
     "output_type": "stream",
     "text": [
      "{'cat': 100, 1: 'helllo', 'color': 'black', 'color2': 'white'}\n"
     ]
    }
   ],
   "source": [
    "#ANSWER:-----------------------------------------------------------------\n",
    "Using Setdefault method\n",
    "\n",
    "spam.setdefault('color','black')\n",
    "print(spam)"
   ]
  },
  {
   "cell_type": "code",
   "execution_count": null,
   "id": "fccad211",
   "metadata": {},
   "outputs": [],
   "source": [
    "8. How do you \"pretty print\" dictionary values using which module and function?\n",
    "\n",
    "#ANSWER:-----------------------------------------------------------------\n",
    "\n",
    "we will use pprint module and pprint function"
   ]
  },
  {
   "cell_type": "code",
   "execution_count": 32,
   "id": "d0332441",
   "metadata": {},
   "outputs": [
    {
     "name": "stdout",
     "output_type": "stream",
     "text": [
      "{'Address': {'City': 'Gubbi', 'Pincode': '572216', 'Village': 'Madenahalli'},\n",
      " 'Age': 30,\n",
      " 'FirstName': 'Chandan',\n",
      " 'LastName': 'Prakash'}\n"
     ]
    }
   ],
   "source": [
    "import pprint\n",
    "\n",
    "a={'FirstName':'Chandan','LastName':'Prakash','Age':30,'Address':{'Village':'Madenahalli','City':'Gubbi','Pincode':'572216'}}\n",
    "pprint.pprint(a)"
   ]
  }
 ],
 "metadata": {
  "kernelspec": {
   "display_name": "Python 3 (ipykernel)",
   "language": "python",
   "name": "python3"
  },
  "language_info": {
   "codemirror_mode": {
    "name": "ipython",
    "version": 3
   },
   "file_extension": ".py",
   "mimetype": "text/x-python",
   "name": "python",
   "nbconvert_exporter": "python",
   "pygments_lexer": "ipython3",
   "version": "3.10.9"
  }
 },
 "nbformat": 4,
 "nbformat_minor": 5
}
