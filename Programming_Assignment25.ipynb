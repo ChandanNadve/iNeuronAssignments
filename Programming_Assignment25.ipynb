{
 "cells": [
  {
   "cell_type": "markdown",
   "id": "328f67a0",
   "metadata": {},
   "source": [
    "# Python Programming Assignment 25"
   ]
  },
  {
   "cell_type": "markdown",
   "id": "7944168a",
   "metadata": {},
   "source": [
    "#### Question1\n",
    "Create a function that takes three integer arguments (a, b, c) and returns the amount of integers which are of equal value.\n",
    "\n",
    "Examples\n",
    "\n",
    "equal(3, 4, 3) ➞ 2\n",
    "\n",
    "equal(1, 1, 1) ➞ 3\n",
    "\n",
    "equal(3, 4, 1) ➞ 0 \n",
    "\n",
    "Notes Your function must return 0, 2 or 3.\n"
   ]
  },
  {
   "cell_type": "code",
   "execution_count": 9,
   "id": "69497b19",
   "metadata": {},
   "outputs": [
    {
     "name": "stdout",
     "output_type": "stream",
     "text": [
      "2\n"
     ]
    }
   ],
   "source": [
    "def equal(a,b,c):\n",
    "    '''\n",
    "    This function takes three integer arguments (a, b, c) and returns the amount of integers which are of equal value.\n",
    "    '''\n",
    "    res=0\n",
    "    if a==b:\n",
    "        if b==c:\n",
    "            res=3\n",
    "        else:\n",
    "            res=2\n",
    "    elif b==c:\n",
    "        res=2\n",
    "    elif a==c:\n",
    "        res=2\n",
    "    return res\n",
    "\n",
    "print(equal(1,0,0))"
   ]
  },
  {
   "cell_type": "markdown",
   "id": "81b9df99",
   "metadata": {},
   "source": [
    "#### Question2\n",
    "\n",
    "Write a function that converts a dictionary into a list of keys-values tuples.\n",
    "\n",
    "Examples\n",
    "\n",
    "dict_to_list({\n",
    "  \"D\": 1,\n",
    "  \"B\": 2,\n",
    "  \"C\": 3\n",
    "}) ➞ [(\"B\", 2), (\"C\", 3), (\"D\", 1)]\n",
    "\n",
    "dict_to_list({\n",
    "  \"likes\": 2,\n",
    "  \"dislikes\": 3,\n",
    "  \"followers\": 10\n",
    "}) ➞ [(\"dislikes\", 3), (\"followers\", 10), (\"likes\", 2)]\n",
    "\n",
    "Notes\n",
    "\n",
    "Return the elements in the list in alphabetical order.\n"
   ]
  },
  {
   "cell_type": "code",
   "execution_count": 38,
   "id": "23e79d98",
   "metadata": {},
   "outputs": [
    {
     "data": {
      "text/plain": [
       "[('dislikes', 3), ('followers', 10), ('likes', 2)]"
      ]
     },
     "execution_count": 38,
     "metadata": {},
     "output_type": "execute_result"
    }
   ],
   "source": [
    "def dict_to_list(dictionary):\n",
    "    '''\n",
    "    This function is used to converts a dictionary into a list of keys-values tuples.\n",
    "    '''\n",
    "    keys=list(dictionary.keys())\n",
    "    values=list(dictionary.values())\n",
    "    dict_len=len(dictionary)\n",
    "    res=[(keys[i],values[i]) for i in range(0,dict_len)]\n",
    "    res.sort()\n",
    "    return res\n",
    "\n",
    "d1={\n",
    "  \"likes\": 2,\n",
    "  \"dislikes\": 3,\n",
    "  \"followers\": 10\n",
    "}\n",
    "dict_to_list(d1)"
   ]
  },
  {
   "cell_type": "markdown",
   "id": "62c0e926",
   "metadata": {},
   "source": [
    "## Question3\n",
    "Write a function that creates a dictionary with each (key, value) pair being the (lower case, upper case) versions of a letter, respectively.\n",
    "\n",
    "Examples\n",
    "\n",
    "mapping([\"p\", \"s\"]) ➞ { \"p\": \"P\", \"s\": \"S\" }\n",
    "\n",
    "mapping([\"a\", \"b\", \"c\"]) ➞ { \"a\": \"A\", \"b\": \"B\", \"c\": \"C\" }\n",
    "\n",
    "mapping([\"a\", \"v\", \"y\", \"z\"]) ➞ { \"a\": \"A\", \"v\": \"V\", \"y\": \"Y\", \"z\": \"Z\" }\n",
    "\n",
    "Notes\n",
    "\n",
    "All of the letters in the input list will always be lowercase.\n"
   ]
  },
  {
   "cell_type": "code",
   "execution_count": 37,
   "id": "0ddfdb50",
   "metadata": {
    "scrolled": true
   },
   "outputs": [
    {
     "data": {
      "text/plain": [
       "{'a': 'A', 'b': 'B', 'c': 'C', 'd': 'D'}"
      ]
     },
     "execution_count": 37,
     "metadata": {},
     "output_type": "execute_result"
    }
   ],
   "source": [
    "def mapping(list1):\n",
    "    '''\n",
    "    This function is used to creates a dictionary with each (key, value) \n",
    "    pair being the (lower case, upper case) versions of a letter, respectively.\n",
    "    '''\n",
    "    list1.sort()\n",
    "    d1={}\n",
    "    for i in list1:\n",
    "        d1[i.lower()]=i.upper()\n",
    "    return d1\n",
    "l=['a','b','c','d']\n",
    "mapping(l)\n",
    "    "
   ]
  },
  {
   "cell_type": "markdown",
   "id": "8964dcb2",
   "metadata": {},
   "source": [
    "#### Question4\n",
    "\n",
    "Write a function, that replaces all vowels in a string with a specified vowel.\n",
    "\n",
    "Examples\n",
    "\n",
    "vow_replace(\"apples and bananas\", \"u\") ➞ \"upplus und bununus\"\n",
    "\n",
    "vow_replace(\"cheese casserole\", \"o\") ➞ \"chooso cossorolo\"\n",
    "\n",
    "vow_replace(\"stuffed jalapeno poppers\", \"e\") ➞ \"steffed jelepene peppers\"\n",
    "\n",
    "Notes\n",
    "\n",
    "All words will be lowercase. Y is not considered a vowel.\n"
   ]
  },
  {
   "cell_type": "code",
   "execution_count": 44,
   "id": "181b1220",
   "metadata": {},
   "outputs": [
    {
     "data": {
      "text/plain": [
       "'Hullu thus us u tust plucu fur vuwul'"
      ]
     },
     "execution_count": 44,
     "metadata": {},
     "output_type": "execute_result"
    }
   ],
   "source": [
    "def vow_replace(str_value,replace_vowel):\n",
    "    '''\n",
    "    This replaces all vowels in a string with a specified vowel.\n",
    "    '''\n",
    "    vowels=['a','e','i','o','u']\n",
    "    str1=str_value\n",
    "    str1=str1.replace('a',replace_vowel).replace('e',replace_vowel).replace('i',replace_vowel).replace('o',replace_vowel).replace('u',replace_vowel)\n",
    "    return str1\n",
    "string=\"Hello this is a test place for vowel\"\n",
    "vow_replace(string,'u')"
   ]
  },
  {
   "cell_type": "markdown",
   "id": "898db9d0",
   "metadata": {},
   "source": [
    "#### Question5\n",
    "\n",
    "Create a function that takes a string as input and capitalizes a letter if its ASCII code is even and returns its lower case version if its ASCII code is odd.\n",
    "\n",
    "Examples\n",
    "\n",
    "ascii_capitalize(\"to be or not to be!\") ➞ \"To Be oR NoT To Be!\"\n",
    "\n",
    "ascii_capitalize(\"THE LITTLE MERMAID\") ➞ \"THe LiTTLe meRmaiD\"\n",
    "\n",
    "ascii_capitalize(\"Oh what a beautiful morning.\") ➞ \"oH wHaT a BeauTiFuL moRNiNg.\"\n"
   ]
  },
  {
   "cell_type": "code",
   "execution_count": 50,
   "id": "80dc9170",
   "metadata": {},
   "outputs": [
    {
     "data": {
      "text/plain": [
       "'HeLlO ThIs iS A TeSt pLaCe fOr vOwEl'"
      ]
     },
     "execution_count": 50,
     "metadata": {},
     "output_type": "execute_result"
    }
   ],
   "source": [
    "def ascii_capitalize(str_value):\n",
    "    '''\n",
    "    This function that takes a string as input and capitalizes a letter if its ASCII code is even \n",
    "    and returns its lower case version if its ASCII code is odd.\n",
    "    '''\n",
    "    str_value2=''\n",
    "    for i in range(0,len(str_value)):\n",
    "        if i%2==0:\n",
    "            str_value2=str_value2+str_value[i].upper()\n",
    "        else:\n",
    "            str_value2=str_value2+str_value[i].lower()\n",
    "    return str_value2\n",
    "string=\"Hello this is a test place for vowel\"\n",
    "ascii_capitalize(string)"
   ]
  }
 ],
 "metadata": {
  "kernelspec": {
   "display_name": "Python 3 (ipykernel)",
   "language": "python",
   "name": "python3"
  },
  "language_info": {
   "codemirror_mode": {
    "name": "ipython",
    "version": 3
   },
   "file_extension": ".py",
   "mimetype": "text/x-python",
   "name": "python",
   "nbconvert_exporter": "python",
   "pygments_lexer": "ipython3",
   "version": "3.10.9"
  }
 },
 "nbformat": 4,
 "nbformat_minor": 5
}
