{
 "cells": [
  {
   "cell_type": "code",
   "execution_count": null,
   "id": "a278bbb9",
   "metadata": {},
   "outputs": [],
   "source": [
    "# 1. What is the name of the feature responsible for generating Regex objects?\n",
    "# Answer : -\n",
    "In the \"re\" package compile() class is the responsible for genererating regex object"
   ]
  },
  {
   "cell_type": "code",
   "execution_count": null,
   "id": "f377ce2b",
   "metadata": {},
   "outputs": [],
   "source": [
    "# 2. Why do raw strings often appear in Regex objects?\n",
    "### Answer\n",
    "raw string often uses to avoid the escape characters\n",
    "For Example in the below example if i really want to print  \"\\t\" string i need to use additional escape character always, \n",
    "instead of that we can use raw string."
   ]
  },
  {
   "cell_type": "code",
   "execution_count": 10,
   "id": "fb34952f",
   "metadata": {},
   "outputs": [
    {
     "name": "stdout",
     "output_type": "stream",
     "text": [
      "\thello\n",
      "\\thello\n",
      "\\thello\n"
     ]
    }
   ],
   "source": [
    "print(\"\\thello\") #If i want to print '\\thello' i cant print\n",
    "print(\"\\\\thello\") #alternatively i need to use the escape character\n",
    "print(r\"\\thello\") #Instead of that i can use raw string Option"
   ]
  },
  {
   "cell_type": "code",
   "execution_count": null,
   "id": "af8d4403",
   "metadata": {},
   "outputs": [],
   "source": [
    "# 3. What is the return value of the search() method?\n",
    "### Answer\n",
    "It will return the matched object details if search found the successfully pattern, or else it will return the None"
   ]
  },
  {
   "cell_type": "code",
   "execution_count": null,
   "id": "d469839e",
   "metadata": {},
   "outputs": [],
   "source": [
    "# 4. From a Match item, how do you get the actual strings that match the pattern?\n",
    "### Answer\n",
    "Using the search and group method we can get the actual strings that matches the pattern. "
   ]
  },
  {
   "cell_type": "code",
   "execution_count": 22,
   "id": "ea9ff4fc",
   "metadata": {},
   "outputs": [
    {
     "name": "stdout",
     "output_type": "stream",
     "text": [
      "The movie is good!\n"
     ]
    }
   ],
   "source": [
    "import re\n",
    "\n",
    "str1 = \"Movie is good\"\n",
    "pattern = r'Movie is (good|bad)'\n",
    "match = re.search(pattern, str1)\n",
    "\n",
    "if match:\n",
    "    review = match.group(1)\n",
    "    if review == \"good\":\n",
    "        print(\"The movie is good!\")\n",
    "    elif review == \"bad\":\n",
    "        print(\"The movie is bad!\")\n",
    "else:\n",
    "    print(\"No review found.\")"
   ]
  },
  {
   "cell_type": "code",
   "execution_count": null,
   "id": "00674c3a",
   "metadata": {},
   "outputs": [],
   "source": [
    "# 5. In the regex which created from the r'(\\d\\d\\d)-(\\d\\d\\d-\\d\\d\\d\\d)', what does group zero cover? Group 2? Group 1?\n",
    "### Answer\n",
    "Group Zero cover entire pattern that is (\\d\\d\\d)-(\\d\\d\\d-\\d\\d\\d\\d)\n",
    "Group 2 Cover 2nd sub pattern that is  (\\d\\d\\d-\\d\\d\\d\\d)\n",
    "Group 1 Cover 1st Sub Pattern that is (\\d\\d\\d)\n",
    "Please refer the following example"
   ]
  },
  {
   "cell_type": "code",
   "execution_count": 23,
   "id": "eec20caf",
   "metadata": {},
   "outputs": [
    {
     "name": "stdout",
     "output_type": "stream",
     "text": [
      "Group 0: 123-456-7890\n",
      "Group 1: 123\n",
      "Group 2: 456-7890\n"
     ]
    }
   ],
   "source": [
    "import re\n",
    "\n",
    "pattern = r'(\\d\\d\\d)-(\\d\\d\\d-\\d\\d\\d\\d)'\n",
    "text = '123-456-7890'\n",
    "\n",
    "match = re.search(pattern, text)\n",
    "if match:\n",
    "    print(\"Group 0:\", match.group(0))\n",
    "    print(\"Group 1:\", match.group(1))\n",
    "    print(\"Group 2:\", match.group(2))"
   ]
  },
  {
   "cell_type": "code",
   "execution_count": null,
   "id": "6b44cdb5",
   "metadata": {},
   "outputs": [],
   "source": [
    "# 6. In standard expression syntax, parentheses and intervals have distinct meanings. \n",
    "# How can you tell a regex that you want it to fit real parentheses and periods?\n",
    "### Answer\n",
    " "
   ]
  },
  {
   "cell_type": "code",
   "execution_count": 12,
   "id": "21a35b0e",
   "metadata": {},
   "outputs": [
    {
     "name": "stdout",
     "output_type": "stream",
     "text": [
      "banana\n"
     ]
    }
   ],
   "source": [
    "# Parathases means we are using ( ), which normally used during grouping option to match number of occurance to a particular word\n",
    "\n",
    "import re\n",
    "pattern = r\"(apple|banana|orange)\"\n",
    "match = re.search(pattern, \"I like banana\")\n",
    "print(match.group(0)) \n",
    "\n",
    "import re\n",
    "# Parathases means we are using ( ), which normally used during grouping option to match number of\n",
    "# occurance to any character which matches pattern\n",
    "\n",
    "pattern = r\"\\d{3}-\\d{3}-\\d{4}\"\n",
    "match = re.search(pattern, \"Phone number: 123-456-7890\")\n",
    "print(match.group(0)) "
   ]
  },
  {
   "cell_type": "code",
   "execution_count": null,
   "id": "d0741505",
   "metadata": {},
   "outputs": [],
   "source": [
    "# 7. The findall() method returns a string list or a list of string tuples. What causes it to return one of the two options?\n",
    "### Answer"
   ]
  },
  {
   "cell_type": "code",
   "execution_count": 14,
   "id": "33abb35f",
   "metadata": {},
   "outputs": [
    {
     "name": "stdout",
     "output_type": "stream",
     "text": [
      "Returns Just the list of string - ['123', '456']\n",
      "Returns list of strings with tuples - [('123', 'abc'), ('456', 'def')]\n"
     ]
    }
   ],
   "source": [
    "# string list returns when findall() applied with out group feature\n",
    "\n",
    "import re\n",
    "pattern = r'\\d+'\n",
    "text = '123-abc, 456-def'\n",
    "matches = re.findall(pattern, text)\n",
    "print(\"Returns Just the list of string -\",matches)\n",
    "\n",
    "\n",
    "# list string of strings with tuples returns when   findall() applied with the group feature\n",
    "\n",
    "import re\n",
    "pattern = r'(\\d+)-(\\w+)'\n",
    "text = '123-abc, 456-def'\n",
    "matches = re.findall(pattern, text)\n",
    "print(\"Returns list of strings with tuples -\" ,matches)"
   ]
  },
  {
   "cell_type": "code",
   "execution_count": null,
   "id": "f76f1cbc",
   "metadata": {},
   "outputs": [],
   "source": [
    "# 8. In standard expressions, what does the | character mean?\n",
    "### Answer\n",
    "Its a \"OR\" character"
   ]
  },
  {
   "cell_type": "code",
   "execution_count": null,
   "id": "feac6606",
   "metadata": {},
   "outputs": [],
   "source": [
    "# 9. In regular expressions, what does the character stand for ?\n",
    "### Answer\n",
    "In pattern to match optional single character we uses ?"
   ]
  },
  {
   "cell_type": "code",
   "execution_count": null,
   "id": "2976df6c",
   "metadata": {},
   "outputs": [],
   "source": [
    "# 10.In regular expressions, what is the difference between the + and * characters?\n",
    "### Answer\n",
    "+ matches - One or more occurance\n",
    "* matches - Zero or more occurance"
   ]
  },
  {
   "cell_type": "code",
   "execution_count": null,
   "id": "5e60fa8a",
   "metadata": {},
   "outputs": [],
   "source": [
    "# 11. What is the difference between {4} and {4,5} in regular expression?\n",
    "### Answer\n",
    "{4} means strictly 4 characters\n",
    "{4,5} means 4 to 5 characters"
   ]
  },
  {
   "cell_type": "code",
   "execution_count": null,
   "id": "e02c1f7b",
   "metadata": {},
   "outputs": [],
   "source": [
    "# 12. What do you mean by the \\d, \\w, and \\s shorthand character classes signify in regular expressions?\n",
    "### Answer\n",
    "\n",
    "\\d matches any character which is digit . Pattern is [0-9]\n",
    "\\w matches any character which is alphanumeric and _(underscore) . Pattern is [a-zA-Z0-9_]\n",
    "\\s matches any whitespace character. Pattern is [\\t\\n\\f\\r\\p]"
   ]
  },
  {
   "cell_type": "code",
   "execution_count": null,
   "id": "9ce8e106",
   "metadata": {},
   "outputs": [],
   "source": [
    "# 13. What do means by \\D, \\W, and \\S shorthand character classes signify in regular expressions?\n",
    "### Answer\n",
    "\\D matches any character which is not digit . Pattern is [^0-9]\n",
    "\\w matches any character which is not alphanumeric and _(underscore) . Pattern is [^a-zA-Z0-9_]\n",
    "\\s matches any  character which is not whitespace. Pattern is [^\\t\\n\\f\\r\\p]"
   ]
  },
  {
   "cell_type": "code",
   "execution_count": null,
   "id": "0e1b7521",
   "metadata": {},
   "outputs": [],
   "source": [
    "# 14. What is the difference between .*? and .*?\n",
    "### Answer\n",
    "Seems there is wrong in the question .*? and .*? both are same here"
   ]
  },
  {
   "cell_type": "code",
   "execution_count": null,
   "id": "4fbed6e9",
   "metadata": {},
   "outputs": [],
   "source": [
    "# 15. What is the syntax for matching both numbers and lowercase letters with a character class?\n",
    "### Answer"
   ]
  },
  {
   "cell_type": "code",
   "execution_count": null,
   "id": "43bc3497",
   "metadata": {},
   "outputs": [],
   "source": [
    "re.search(pattern,text,re.IGNORECASE)"
   ]
  },
  {
   "cell_type": "code",
   "execution_count": null,
   "id": "6bc339c2",
   "metadata": {},
   "outputs": [],
   "source": [
    "# 16. What is the procedure for making a normal expression in regax case insensitive?\n",
    "### Answer\n",
    "We need to convert the text to lower case/upper case before string inputting into the pattern. \n",
    "In the pattern need to use the coverted case match."
   ]
  },
  {
   "cell_type": "code",
   "execution_count": null,
   "id": "519d8dab",
   "metadata": {},
   "outputs": [],
   "source": [
    "# 17. What does the . character normally match? What does it match if re.DOTALL is passed as 2nd argument in re.compile()?\n",
    "### Answer"
   ]
  },
  {
   "cell_type": "code",
   "execution_count": null,
   "id": "e8976cea",
   "metadata": {},
   "outputs": [],
   "source": [
    ". character matches any character except new line\n",
    "\n",
    "re.DOTALL is passed as 2nd argument in re.compile() - Matches any charcater including new line also"
   ]
  },
  {
   "cell_type": "code",
   "execution_count": null,
   "id": "e473df0e",
   "metadata": {},
   "outputs": [],
   "source": [
    "# 18. If numReg = re.compile(r'\\d+'), what will numRegex.sub('X', '11 drummers, 10 pipers, five rings, 4 hen') return?\n",
    "### Answer\n",
    "Pattern '\\d+' matches one more numerical characters \n",
    "in sub method, it will substitute the first parameter with the remaining parameter which matches the pattern\n",
    "\n",
    "So it will return : X drummers, X pipers, five rings, X hen"
   ]
  },
  {
   "cell_type": "code",
   "execution_count": 16,
   "id": "6f8ee22f",
   "metadata": {},
   "outputs": [
    {
     "name": "stdout",
     "output_type": "stream",
     "text": [
      "X drummers, X pipers, five rings, X hen\n"
     ]
    }
   ],
   "source": [
    "import re\n",
    "numReg = re.compile(r'\\d+')\n",
    "res=numReg.sub('X', '11 drummers, 10 pipers, five rings, 4 hen')\n",
    "print(res)"
   ]
  },
  {
   "cell_type": "code",
   "execution_count": null,
   "id": "3d4bbd31",
   "metadata": {},
   "outputs": [],
   "source": [
    "# 19. What does passing re.VERBOSE as the 2nd argument to re.compile() allow to do?\n",
    "### Answer"
   ]
  },
  {
   "cell_type": "code",
   "execution_count": null,
   "id": "e933427f",
   "metadata": {},
   "outputs": [],
   "source": [
    "re.VERBOSE allows users to write the pattern in multiple line; which will increase the readability"
   ]
  },
  {
   "cell_type": "code",
   "execution_count": null,
   "id": "fae62cd4",
   "metadata": {},
   "outputs": [],
   "source": [
    "20. How would you write a regex that match a number with comma for every three digits? It must\n",
    "match the given following:\n",
    "'42'\n",
    "'1,234'\n",
    "'6,368,745'\n",
    "\n",
    "but not the following:\n",
    "'12,34,567' (which has only two digits between the commas)\n",
    "'1234' (which lacks commas)\n",
    "### Answer"
   ]
  },
  {
   "cell_type": "code",
   "execution_count": 17,
   "id": "43f6eab1",
   "metadata": {},
   "outputs": [
    {
     "name": "stdout",
     "output_type": "stream",
     "text": [
      "Matched: 42\n",
      "Matched: 1,234\n",
      "Matched: 6,368,745\n",
      "Not matched: 12,34,567\n",
      "Not matched: 1234\n"
     ]
    }
   ],
   "source": [
    "import re\n",
    "pattern = r'^\\d{1,3}(,\\d{3})*$'\n",
    "text = ['42', '1,234', '6,368,745', '12,34,567', '1234']\n",
    "for i in text:\n",
    "    match = re.match(pattern, i)\n",
    "    if match:\n",
    "        print(f\"Matched: {i}\")\n",
    "    else:\n",
    "        print(f\"Not matched: {i}\")"
   ]
  },
  {
   "cell_type": "code",
   "execution_count": null,
   "id": "16f67a45",
   "metadata": {},
   "outputs": [],
   "source": [
    "21. How would you write a regex that matches the full name of someone whose last name is\n",
    "Watanabe? You can assume that the first name that comes before it will always be one word that\n",
    "begins with a capital letter. \n",
    "The regex must match the following:\n",
    "'Haruto Watanabe'\n",
    "'Alice Watanabe'\n",
    "'RoboCop Watanabe'\n",
    "but not the following:\n",
    "'haruto Watanabe' (where the first name is not capitalized)\n",
    "'Mr. Watanabe' (where the preceding word has a nonletter character)\n",
    "'Watanabe' (which has no first name)\n",
    "'Haruto watanabe' (where Watanabe is not capitalized)"
   ]
  },
  {
   "cell_type": "code",
   "execution_count": 11,
   "id": "e56ded96",
   "metadata": {},
   "outputs": [
    {
     "name": "stdout",
     "output_type": "stream",
     "text": [
      "Text is not Matching\n"
     ]
    }
   ],
   "source": [
    "import re\n",
    "pattern=r\"[A-Z][a-z]*( Watanabe)\"\n",
    "text='haruto Watanabe'\n",
    "match=re.search(pattern,text)\n",
    "if match:\n",
    "    print(\"Text is matching\")\n",
    "else:\n",
    "    print(\"Text is not Matching\")"
   ]
  },
  {
   "cell_type": "code",
   "execution_count": null,
   "id": "b86ae063",
   "metadata": {},
   "outputs": [],
   "source": [
    "22. How would you write a regex that matches a sentence where the first word is either Alice, Bob,\n",
    "or Carol; the second word is either eats, pets, or throws; the third word is apples, cats, or baseballs;\n",
    "and the sentence ends with a period? This regex should be case-insensitive. It must match the\n",
    "following:\n",
    "'Alice eats apples.'\n",
    "'Bob pets cats.'\n",
    "'Carol throws baseballs.'\n",
    "'Alice throws Apples.'\n",
    "'BOB EATS CATS.'\n",
    "but not the following:\n",
    "'RoboCop eats apples.'\n",
    "'ALICE THROWS FOOTBALLS.'\n",
    "'Carol eats 7 cats.'"
   ]
  },
  {
   "cell_type": "code",
   "execution_count": 24,
   "id": "2ae98793",
   "metadata": {},
   "outputs": [
    {
     "name": "stdout",
     "output_type": "stream",
     "text": [
      "Alice eats apples. : Matches with the pattern\n",
      "Bob pets cats. : Matches with the pattern\n",
      "Carol throws baseballs. : Matches with the pattern\n",
      "Alice throws Apples. : Matches with the pattern\n",
      "BOB EATS CATS. : Matches with the pattern\n",
      "RoboCop eats apples. : Not Matches with the pattern\n",
      "ALICE THROWS FOOTBALLS. : Not Matches with the pattern\n",
      "Carol eats 7 cats. : Not Matches with the pattern\n"
     ]
    }
   ],
   "source": [
    "import re   \n",
    "pattern=r'^(Alice|Bob|Carol)\\s+(eats|pets|throws)\\s+(apples|cats|baseballs)\\.$'\n",
    "\n",
    "string_lists=['Alice eats apples.',\n",
    "'Bob pets cats.',\n",
    "'Carol throws baseballs.',\n",
    "'Alice throws Apples.',\n",
    "'BOB EATS CATS.',\n",
    "'RoboCop eats apples.',\n",
    "'ALICE THROWS FOOTBALLS.',\n",
    "'Carol eats 7 cats.']\n",
    "\n",
    "for i in string_lists:\n",
    "    result=re.search(pattern,i,re.IGNORECASE)\n",
    "    if result:\n",
    "        print(i,\":\",\"Matches with the pattern\")\n",
    "    else:\n",
    "        print(i,\":\",\"Not Matches with the pattern\")"
   ]
  }
 ],
 "metadata": {
  "kernelspec": {
   "display_name": "Python 3 (ipykernel)",
   "language": "python",
   "name": "python3"
  },
  "language_info": {
   "codemirror_mode": {
    "name": "ipython",
    "version": 3
   },
   "file_extension": ".py",
   "mimetype": "text/x-python",
   "name": "python",
   "nbconvert_exporter": "python",
   "pygments_lexer": "ipython3",
   "version": "3.10.9"
  }
 },
 "nbformat": 4,
 "nbformat_minor": 5
}
