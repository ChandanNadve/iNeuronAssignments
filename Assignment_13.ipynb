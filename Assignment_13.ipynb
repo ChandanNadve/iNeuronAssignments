{
 "cells": [
  {
   "cell_type": "raw",
   "metadata": {
    "id": "NYGLmimXsAEE"
   },
   "source": [
    "1. What advantages do Excel spreadsheets have over CSV spreadsheets?"
   ]
  },
  {
   "cell_type": "raw",
   "metadata": {
    "id": "4YgL6BGJsAnG"
   },
   "source": [
    "## Answer\n",
    "CSV Files are not having the multiple sheet\n",
    "CSV Files are not having any format oprion like changing the font size or color\n",
    "CSV File is not having multiple sheet option\n",
    "CSV Files dont have any cell width and height option\n",
    "CSV files we cant make any beautification in any way\n",
    "CSV Files we can not add any charts/images\n",
    "All the data types are trated as string\n",
    "\n",
    "Finally we can conlude CSV files are just like a plain text which is stored in comma separated, but when we open this in excel it will show in cells"
   ]
  },
  {
   "cell_type": "raw",
   "metadata": {
    "id": "tkLc47R7sAqc"
   },
   "source": [
    "2.What do you pass to csv.reader() and csv.writer() to create reader and writer objects?"
   ]
  },
  {
   "cell_type": "raw",
   "metadata": {
    "colab": {
     "base_uri": "https://localhost:8080/"
    },
    "id": "YrsVVoUEsAtW",
    "outputId": "71025dca-65ec-4f92-a78b-137aca6f9d16"
   },
   "source": [
    "## Answer\n",
    "\n",
    "For the csv.reader() object we need to pass the opened file object in read \"r\" mode\n",
    "For the csv.reader() object we need to pass the opened file object in write \"w\" mode"
   ]
  },
  {
   "cell_type": "raw",
   "metadata": {
    "id": "op-V6NXAsAwq"
   },
   "source": [
    "3. What modes do File objects for reader and writer objects need to be opened in?"
   ]
  },
  {
   "cell_type": "raw",
   "metadata": {
    "id": "IpvYga5esAzv"
   },
   "source": [
    "## Answer\n",
    "file objects for reader need to open file \"r\" \n",
    "file objects for write need to open file \"w\" "
   ]
  },
  {
   "cell_type": "raw",
   "metadata": {
    "id": "5qGBLtTKsA26"
   },
   "source": [
    "4. What method takes a list argument and writes it to a CSV file?"
   ]
  },
  {
   "cell_type": "raw",
   "metadata": {
    "id": "U62ZUEOisA6I"
   },
   "source": [
    "## Answer\n",
    "csv.writer method takes a list argument and writes it to a CSV file"
   ]
  },
  {
   "cell_type": "raw",
   "metadata": {
    "id": "pd7zMXe-sA9e"
   },
   "source": [
    "5. What do the keyword arguments delimiter and line terminator do?"
   ]
  },
  {
   "cell_type": "raw",
   "metadata": {
    "id": "NGOHzy7QsBBY"
   },
   "source": [
    "## Answer\n",
    "delimeter='\\t' Delimiter separates the column data in  CSV File\n",
    "lineterminator='\\n\\n' Line terminator separates the row data in CSV File"
   ]
  },
  {
   "cell_type": "raw",
   "metadata": {
    "id": "wdMIdTftsBFM"
   },
   "source": [
    "6. What function takes a string of JSON data and returns a Python data structure?"
   ]
  },
  {
   "cell_type": "raw",
   "metadata": {
    "id": "qZE21Go_sBIr"
   },
   "source": [
    "## Answer\n",
    "json.loads method is used to takes a string of JSON data and returns a Python data structure"
   ]
  },
  {
   "cell_type": "raw",
   "metadata": {
    "id": "1-U7AWOdsBME"
   },
   "source": [
    "7. What function takes a Python data structure and returns a string of JSON data?"
   ]
  },
  {
   "cell_type": "raw",
   "metadata": {
    "id": "z4aNqumKsSp9"
   },
   "source": [
    "## Answer\n",
    "json.dumps method is used to takes a Python data structure and returns a string of JSON data"
   ]
  }
 ],
 "metadata": {
  "colab": {
   "provenance": []
  },
  "kernelspec": {
   "display_name": "Python 3 (ipykernel)",
   "language": "python",
   "name": "python3"
  },
  "language_info": {
   "codemirror_mode": {
    "name": "ipython",
    "version": 3
   },
   "file_extension": ".py",
   "mimetype": "text/x-python",
   "name": "python",
   "nbconvert_exporter": "python",
   "pygments_lexer": "ipython3",
   "version": "3.10.9"
  }
 },
 "nbformat": 4,
 "nbformat_minor": 1
}
