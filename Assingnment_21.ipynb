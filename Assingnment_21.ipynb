{
  "cells": [
    {
      "cell_type": "markdown",
      "metadata": {},
      "source": [
        "# Python Assignments - 21"
      ]
    },
    {
      "cell_type": "markdown",
      "metadata": {
        "id": "grkd7J7jNIpd"
      },
      "source": [
        "1. Add the current date to the text file today.txt as a string."
      ]
    },
    {
      "cell_type": "code",
      "execution_count": 7,
      "metadata": {
        "id": "J-CpEghCNTPU"
      },
      "outputs": [],
      "source": [
        "## Answer\n",
        "import os\n",
        "from datetime import date\n",
        "with open('today.txt','w') as f:\n",
        "    f.write(str(date.today()))"
      ]
    },
    {
      "cell_type": "markdown",
      "metadata": {
        "id": "My2W7RobNTR-"
      },
      "source": [
        "2. Read the text file today.txt into the string today_string"
      ]
    },
    {
      "cell_type": "code",
      "execution_count": 10,
      "metadata": {
        "id": "594bFWKCNTUk"
      },
      "outputs": [],
      "source": [
        "## Answer\n",
        "import os\n",
        "from datetime import date\n",
        "with open('today.txt','r') as f:\n",
        "    today_string=f.readline()"
      ]
    },
    {
      "cell_type": "markdown",
      "metadata": {
        "id": "pUYKU4aDNTXO"
      },
      "source": [
        "3. Parse the date from today_string."
      ]
    },
    {
      "cell_type": "code",
      "execution_count": 13,
      "metadata": {
        "id": "nJ6lnQthNTcp"
      },
      "outputs": [
        {
          "data": {
            "text/plain": [
              "datetime.datetime(2023, 11, 21, 0, 0)"
            ]
          },
          "execution_count": 13,
          "metadata": {},
          "output_type": "execute_result"
        }
      ],
      "source": [
        "## Answer\n",
        "import os\n",
        "from datetime import datetime\n",
        "with open('today.txt','r') as f:\n",
        "    today_string=f.readline()\n",
        "datetime.strptime(today_string,'%Y-%m-%d')"
      ]
    },
    {
      "cell_type": "markdown",
      "metadata": {
        "id": "6T1a9RF4NTfk"
      },
      "source": [
        "4. List the files in your current directory"
      ]
    },
    {
      "cell_type": "code",
      "execution_count": 15,
      "metadata": {
        "id": "20rlSoXFNazZ"
      },
      "outputs": [
        {
          "data": {
            "text/plain": [
              "['Assingnment_21.ipynb', 'today.txt']"
            ]
          },
          "execution_count": 15,
          "metadata": {},
          "output_type": "execute_result"
        }
      ],
      "source": [
        "## Answer\n",
        "import os\n",
        "os.listdir()"
      ]
    },
    {
      "cell_type": "markdown",
      "metadata": {
        "id": "HsgKiAy7Na2x"
      },
      "source": [
        "5. Create a list of all of the files in your parent directory (minimum five files should be available)."
      ]
    },
    {
      "cell_type": "code",
      "execution_count": 24,
      "metadata": {
        "id": "F_lsIkVwNa56"
      },
      "outputs": [
        {
          "data": {
            "text/plain": [
              "['QLIK SENSE',\n",
              " 'Power BI',\n",
              " 'Python',\n",
              " '~$POA - Tracker.xlsx',\n",
              " 'POA - Tracker.xlsx',\n",
              " 'StatisticsHandson',\n",
              " 'Python Practices',\n",
              " 'INueronPractices',\n",
              " 'Machine Learning',\n",
              " 'Chandan Resume Data Scientist.docx',\n",
              " 'FSDS_September.zip',\n",
              " 'FSDS_September',\n",
              " 'Linked in Notes',\n",
              " 'Docker',\n",
              " 'demopipeline',\n",
              " '.ipynb_checkpoints',\n",
              " 'sample-csv',\n",
              " 'sample-excel-master',\n",
              " 'archive (2).zip',\n",
              " 'archive (2)',\n",
              " 'electricity_dah_prices.csv',\n",
              " 'electricity_dah_prices.xlsx',\n",
              " 'Pandans Class 1.ipynb',\n",
              " 'Stats Day 4 Class Old Class.ipynb',\n",
              " 'AssignmentProject',\n",
              " 'KrishGemProject',\n",
              " 'DSProjects',\n",
              " 'GemStonePrice2',\n",
              " 'Chandan Notes',\n",
              " 'demopipeline4',\n",
              " 'GemStone3',\n",
              " 'GemStonePrice3',\n",
              " 'PythonPractice',\n",
              " 'Live Class From 22 to 43',\n",
              " 'Think_Like_a_Data_Scientist.pdf',\n",
              " '001_notes_Sep_18.pdf',\n",
              " '600 Machine Learning DL NLP CV projects.pdf',\n",
              " 'Applications of Data Structures.pdf',\n",
              " 'Data Analysis From Scratch With Python Beginner Guide using Python, Pandas, NumPy, Scikit-Learn, IPython, TensorFlow and Matplotlib by Peters Morgan (z-lib.org).pdf',\n",
              " 'Data Science from Scratch First Principles with Python (Joel Grus) (z-lib.org).pdf',\n",
              " 'Data Science resources by Harvard-1.pdf',\n",
              " 'DBMS notes.pdf',\n",
              " 'Liner Regression Algerian Forest Dataset.pdf',\n",
              " 'Python Basics A Self-Teaching Introduction by H. Bhasin (z-lib.org).pdf',\n",
              " 'Python Data Science Handbook.  Essential Tools for Working with Data by Jake VanderPlas (z-lib.org).pdf',\n",
              " 'Kaggle',\n",
              " 'PWSkillsFullStackDataScience',\n",
              " 'The-Grand-Complete-Data-Science-Materials-main.zip',\n",
              " 'The-Grand-Complete-Data-Science-Materials-main',\n",
              " 'INeuronAssignmentComplete']"
            ]
          },
          "execution_count": 24,
          "metadata": {},
          "output_type": "execute_result"
        }
      ],
      "source": [
        "## Answer\n",
        "os.listdir('d:\\\\DataScience')"
      ]
    },
    {
      "cell_type": "markdown",
      "metadata": {
        "id": "xSH8b89LNTjO"
      },
      "source": [
        "6. Use multiprocessing to create three separate processes. Make each one wait a random number of seconds between one and five, print the current time, and then exit."
      ]
    },
    {
      "cell_type": "code",
      "execution_count": 10,
      "metadata": {},
      "outputs": [
        {
          "name": "stdout",
          "output_type": "stream",
          "text": [
            "Total Execution time = 0.2469465732574463\n"
          ]
        }
      ],
      "source": [
        "import multiprocessing as mp\n",
        "import random\n",
        "import time\n",
        "\n",
        "def process_1():\n",
        "    time.sleep(random.randint(1,5))\n",
        "    print(f\"process_1 executed at time {time.time()})\")\n",
        "\n",
        "def process_2():\n",
        "    time.sleep(random.randint(1,5))\n",
        "    print(f\"process_2 executed at time {time.time()})\")\n",
        "\n",
        "def process_3():\n",
        "    time.sleep(random.randint(1,5))\n",
        "    print(f\"process_3 executed at time {time.time()})\")\n",
        "\n",
        "if __name__=='__main__':\n",
        "    p1=mp.Process(target=process_1,args=())\n",
        "    p2=mp.Process(target=process_2,args=())\n",
        "    p3=mp.Process(target=process_3,args=())\n",
        "\n",
        "    start_time=time.time()\n",
        "    p1.start()\n",
        "    p2.start()\n",
        "    p3.start()\n",
        "\n",
        "    p1.join()\n",
        "    p2.join()\n",
        "    p3.join()\n",
        "    end_time=time.time()\n",
        "\n",
        "    print(f'Total Execution time = {end_time - start_time}')\n"
      ]
    },
    {
      "cell_type": "markdown",
      "metadata": {
        "id": "OTyFbc9cNdpH"
      },
      "source": [
        "7. Create a date object of your day of birth."
      ]
    },
    {
      "cell_type": "code",
      "execution_count": 17,
      "metadata": {
        "id": "3_ni37uPNh6n"
      },
      "outputs": [],
      "source": [
        "## Answer\n",
        "from datetime import date\n",
        "\n",
        "class DateOfBirth:\n",
        "    def __init__(self,dob):\n",
        "        self.dob=dob\n",
        "\n",
        "chandan_dob=DateOfBirth(date(1992,9,15))"
      ]
    },
    {
      "cell_type": "markdown",
      "metadata": {
        "id": "4JC4MwBCNh9y"
      },
      "source": [
        "8. What day of the week was your day of birth?"
      ]
    },
    {
      "cell_type": "code",
      "execution_count": 24,
      "metadata": {
        "id": "S97d-cqDNkOt"
      },
      "outputs": [
        {
          "name": "stdout",
          "output_type": "stream",
          "text": [
            "Tuesday\n"
          ]
        }
      ],
      "source": [
        "## Answer\n",
        "print(chandan_dob.dob.strftime(\"%A\"))"
      ]
    },
    {
      "cell_type": "markdown",
      "metadata": {
        "id": "ucJRZQc0NkXj"
      },
      "source": [
        "9. When will you be (or when were you) 10,000 days old?"
      ]
    },
    {
      "cell_type": "code",
      "execution_count": 33,
      "metadata": {
        "id": "G22pIfDENkk_"
      },
      "outputs": [
        {
          "name": "stdout",
          "output_type": "stream",
          "text": [
            "I will be 10000 days old on 01/02/2020\n"
          ]
        }
      ],
      "source": [
        "## Answer\n",
        "from datetime import datetime, timedelta\n",
        "daysold_10000=chandan_dob.dob+timedelta(days=10000)\n",
        "print(f\"I will be 10000 days old on {daysold_10000.strftime('%d/%m/%Y')}\")"
      ]
    }
  ],
  "metadata": {
    "colab": {
      "provenance": []
    },
    "kernelspec": {
      "display_name": "Python 3",
      "name": "python3"
    },
    "language_info": {
      "codemirror_mode": {
        "name": "ipython",
        "version": 3
      },
      "file_extension": ".py",
      "mimetype": "text/x-python",
      "name": "python",
      "nbconvert_exporter": "python",
      "pygments_lexer": "ipython3",
      "version": "3.9.12"
    }
  },
  "nbformat": 4,
  "nbformat_minor": 0
}
