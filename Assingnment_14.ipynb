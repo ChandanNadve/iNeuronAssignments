{
 "cells": [
  {
   "cell_type": "markdown",
   "metadata": {},
   "source": [
    "# Assignment 14"
   ]
  },
  {
   "cell_type": "markdown",
   "metadata": {
    "id": "wMlH5yXDsZrN"
   },
   "source": [
    "1. What does RGBA stand for?"
   ]
  },
  {
   "cell_type": "code",
   "execution_count": null,
   "metadata": {
    "id": "GIonhRqvsaQV"
   },
   "outputs": [],
   "source": [
    "## Answer\n",
    "RGBA - Red Green Blue Alpha(Opacity)"
   ]
  },
  {
   "cell_type": "markdown",
   "metadata": {
    "id": "Bo7kmbaNsaSI"
   },
   "source": [
    "2. From the Pillow module, how do you get the RGBA value of any images?"
   ]
  },
  {
   "cell_type": "code",
   "execution_count": 10,
   "metadata": {
    "id": "UEmcVSyBsaU_"
   },
   "outputs": [
    {
     "name": "stdout",
     "output_type": "stream",
     "text": [
      "(94, 170, 245)\n"
     ]
    }
   ],
   "source": [
    "## Answer\n",
    "# Using  getpixel() function in pillow module we can ger RGBA Value of any image, but we need to mention the X,Y Value\n",
    "# to which we need the RGBA Value\n",
    "\n",
    "from PIL import Image\n",
    "Image1=Image.open('Road.png')\n",
    "print(Image1.getpixel((12,0)))\n"
   ]
  },
  {
   "cell_type": "markdown",
   "metadata": {
    "id": "8LoKsUlisaX2"
   },
   "source": [
    "3. What is a box tuple, and how does it work?"
   ]
  },
  {
   "cell_type": "code",
   "execution_count": 16,
   "metadata": {
    "id": "PycFXHzdsaa8"
   },
   "outputs": [],
   "source": [
    "## Answer\n",
    "\n",
    "'''\n",
    "Box Tuple is a tupler represents a selective part of image which contains excatly 4 element\n",
    "(0,0,0,0) this coordinate represents the (left,top,right,bottom)\n",
    "\n",
    "Box Tuple can be pass as an argument to the various function for working in the part of an image\n",
    "\n",
    "For Example to crop an image or fill a color ot selected part of image\n",
    "\n",
    "\n",
    "'''\n",
    "\n",
    "from PIL import Image\n",
    "Image1=Image.open('Road.png')\n",
    "Image2 = Image1.crop((200, 450, 600, 650))\n",
    "Image2.save('imagecrop.png')\n"
   ]
  },
  {
   "cell_type": "markdown",
   "metadata": {
    "id": "XTGKLpzPsagk"
   },
   "source": [
    "4. Use your image and load in notebook then, How can you find out the width and height of an Image object?"
   ]
  },
  {
   "cell_type": "code",
   "execution_count": 17,
   "metadata": {
    "id": "aRAdmeCXsajm"
   },
   "outputs": [
    {
     "name": "stdout",
     "output_type": "stream",
     "text": [
      "the width of image is 4000 and the height of image is 3000\n"
     ]
    }
   ],
   "source": [
    "## Answer\n",
    "# We need to use the size \n",
    "from PIL import Image\n",
    "Image1=Image.open('Road.png')\n",
    "Wd,Ht=Image1.size\n",
    "print(f\"the width of image is {Wd} and the height of image is {Ht}\")"
   ]
  },
  {
   "cell_type": "markdown",
   "metadata": {
    "id": "NABJ6O22sanS"
   },
   "source": [
    "5. What method would you call to get Image object for a 100×100 image, excluding the lower-left quarter of it?"
   ]
  },
  {
   "cell_type": "code",
   "execution_count": 19,
   "metadata": {
    "id": "T4WokpDWsaqj"
   },
   "outputs": [],
   "source": [
    "## Answer\n",
    "# We use the resize method\n",
    "from PIL import Image\n",
    "Image1=Image.open('Road.png')\n",
    "Wd,Ht=Image1.size\n",
    "newImage=Image1.resize((int(Wd / 2), int(Ht / 2)))\n",
    "newImage.save('QuarterImage.png')"
   ]
  },
  {
   "cell_type": "markdown",
   "metadata": {
    "id": "xdR0dCAdsat0"
   },
   "source": [
    "6. After making changes to an Image object, how could you save it as an image file?"
   ]
  },
  {
   "cell_type": "code",
   "execution_count": null,
   "metadata": {
    "id": "aykV3-pQsaw6"
   },
   "outputs": [],
   "source": [
    "## Answer\n",
    "# We are using save method in the same above answer last line shows how we save the image file after \n",
    "\n",
    "from PIL import Image\n",
    "Image1=Image.open('Road.png')\n",
    "Wd,Ht=Image1.size\n",
    "newImage=Image1.resize((int(Wd / 2), int(Ht / 2)))\n",
    "newImage.save('QuarterImage.png')  #[ImageObject].save() method will use to save "
   ]
  },
  {
   "cell_type": "markdown",
   "metadata": {
    "id": "BLPPuSZusa0R"
   },
   "source": [
    "7. What module contains Pillow’s shape-drawing code?"
   ]
  },
  {
   "cell_type": "code",
   "execution_count": null,
   "metadata": {
    "id": "Xad6mujosa3K"
   },
   "outputs": [],
   "source": [
    "## Answer\n",
    "# ImageDraw module containse shape drawing codes"
   ]
  },
  {
   "cell_type": "markdown",
   "metadata": {
    "id": "Cs3so0ivsa6h"
   },
   "source": [
    "8. Image objects do not have drawing methods. What kind of object does? How do you get this kind of object?"
   ]
  },
  {
   "cell_type": "code",
   "execution_count": 25,
   "metadata": {
    "id": "V6wwTotjsyrQ"
   },
   "outputs": [],
   "source": [
    "## Answer\n",
    "# Using ImageDraw method we need to get the different objects\n",
    "# The different kind of objects we can get is\n",
    "from PIL import Image, ImageDraw\n",
    "im = Image.new('RGBA', (1000, 1000), 'white')\n",
    "draw = ImageDraw.Draw(im)\n",
    "draw.line([(0, 0), (190, 0), (190, 190), (0, 190), (0, 0)], fill='black')\n",
    "draw.rectangle((200, 300, 600, 600), fill='blue')\n",
    "draw.ellipse((120, 30, 160, 60), fill='red')\n",
    "draw.polygon(((570, 870), (790, 620), (940, 850), (1200, 900), (1030, 1130)),  fill='brown')\n",
    "for i in range(100, 200, 10):\n",
    "        draw.line([(i, 0), (2000, i - 1000)], fill='green')\n",
    "im.save('drawing.png')"
   ]
  }
 ],
 "metadata": {
  "colab": {
   "provenance": []
  },
  "kernelspec": {
   "display_name": "Python 3 (ipykernel)",
   "language": "python",
   "name": "python3"
  },
  "language_info": {
   "codemirror_mode": {
    "name": "ipython",
    "version": 3
   },
   "file_extension": ".py",
   "mimetype": "text/x-python",
   "name": "python",
   "nbconvert_exporter": "python",
   "pygments_lexer": "ipython3",
   "version": "3.10.9"
  }
 },
 "nbformat": 4,
 "nbformat_minor": 1
}
