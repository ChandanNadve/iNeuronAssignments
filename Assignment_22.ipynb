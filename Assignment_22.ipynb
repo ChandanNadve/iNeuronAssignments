{
  "cells": [
    {
      "cell_type": "code",
      "execution_count": 1,
      "metadata": {
        "id": "U7ALjPBWOBMN"
      },
      "outputs": [
        {
          "data": {
            "text/plain": [
              "\"\\n1. What is the result of the code, and explain?\\n>>> X = 'iNeuron'\\n>>> def func():\\nprint(X)\\n>>> func()\\n\""
            ]
          },
          "execution_count": 1,
          "metadata": {},
          "output_type": "execute_result"
        }
      ],
      "source": [
        "# Question\n",
        "\"\"\"\n",
        "1. What is the result of the code, and explain?\n",
        ">>> X = 'iNeuron'\n",
        ">>> def func():\n",
        "print(X)\n",
        ">>> func()\n",
        "\"\"\""
      ]
    },
    {
      "cell_type": "code",
      "execution_count": 8,
      "metadata": {
        "colab": {
          "base_uri": "https://localhost:8080/"
        },
        "id": "9FQ6ytmNODUu",
        "outputId": "b4b6259a-8a73-4770-d055-3188a250202d"
      },
      "outputs": [
        {
          "name": "stdout",
          "output_type": "stream",
          "text": [
            "iNeuron\n"
          ]
        }
      ],
      "source": [
        "## Answer\n",
        "\n",
        "# Explanation\n",
        "\"\"\"\n",
        "The Output will show as iNeuron \n",
        "Here we have defined an X Variable with the value as 'iNeuron'\n",
        "def will create a function with the name of func\n",
        "inside this def func we have printed value of X\n",
        "in the last we have called func function which prints value of X\n",
        "\n",
        "--> Very Important thing here is X is global variable which is outside the function\n",
        "\"\"\"\n",
        "\n",
        "X = 'iNeuron'   # Defined the global variable\n",
        "def func(): # Created a function called func\n",
        "  print(X) #prints the value of X\n",
        "func() # this calls the function which prints the globak variable"
      ]
    },
    {
      "cell_type": "code",
      "execution_count": null,
      "metadata": {
        "id": "gAzjpJvnODXj"
      },
      "outputs": [],
      "source": [
        "# Question\n",
        "\"\"\"\n",
        "2. What is the result of the code, and explain?\n",
        ">>> X = 'iNeuron'\n",
        ">>> def func():\n",
        "X = 'NI!'\n",
        ">>> func()\n",
        ">>> print(X)\n",
        "\"\"\""
      ]
    },
    {
      "cell_type": "code",
      "execution_count": 7,
      "metadata": {
        "id": "D5spipIRODaW"
      },
      "outputs": [
        {
          "name": "stdout",
          "output_type": "stream",
          "text": [
            "iNeuron\n"
          ]
        }
      ],
      "source": [
        "## Answer\n",
        "\n",
        "# Explanation\n",
        "\"\"\"\n",
        "The Output will show as iNeuron \n",
        "Here we have defined an X Variable with the value as 'iNeuron'  --> Global Variable\n",
        "def will create a function with the name of func\n",
        "inside this def func we have created X Variable with the value as 'NI!' -->Local Variable (Scope of the vairable with in function)\n",
        "in the last we have called func function which assigns value of X as 'NI!'\n",
        "\n",
        "--> In this Code fnuction is modifying the value of X within the function Scope it wont affect the global variable\n",
        "\"\"\"\n",
        "\n",
        "\n",
        "X = 'iNeuron'  # Defined the global variable\n",
        "def func(): # Created a function called func\n",
        "    X = 'NI!' # Create a Local variable X\n",
        "func() # this calls the function which creates local variable  X with the value 'NI'\n",
        "print(X) # but X='NI!' just create a local variable with in function not affected the global variable"
      ]
    },
    {
      "cell_type": "code",
      "execution_count": null,
      "metadata": {
        "id": "rgXmBhqdODdJ"
      },
      "outputs": [],
      "source": [
        "# Question\n",
        "\"\"\"\n",
        "3. What does this code print, and why?\n",
        ">>> X = 'iNeuron'\n",
        ">>> def func():\n",
        "X = 'NI'\n",
        "print(X)\n",
        ">>> func()\n",
        ">>> print(X)\n",
        "\"\"\"\n"
      ]
    },
    {
      "cell_type": "code",
      "execution_count": 9,
      "metadata": {
        "id": "vXyyxKFTONSt"
      },
      "outputs": [
        {
          "name": "stdout",
          "output_type": "stream",
          "text": [
            "NI\n",
            "iNeuron\n"
          ]
        }
      ],
      "source": [
        "## Answer\n",
        "\n",
        "# Explanation\n",
        "\"\"\"\n",
        "Here the print function inside the func prints the local variable \n",
        "and the print which is there in the lst prints the global variable\n",
        "\"\"\"\n",
        "\n",
        "X = 'iNeuron'  # Defined the global variable\n",
        "def func(): # Created a function called func\n",
        "    X = 'NI' # Create a Local variable X\n",
        "    print(X) # This Line prints the local variable\n",
        "func() # Calling the functio  which rints the local variable\n",
        "print(X) # This function prints the global variable\n"
      ]
    },
    {
      "cell_type": "code",
      "execution_count": null,
      "metadata": {
        "id": "QL7UO4MFONVg"
      },
      "outputs": [],
      "source": [
        "# Question\n",
        "\"\"\"\n",
        "4. What output does this code produce? Why?\n",
        ">>> X = 'iNeuron'\n",
        ">>> def func():\n",
        "global X\n",
        "X = 'NI'\n",
        ">>> func()\n",
        ">>> print(X)\n",
        "\"\"\""
      ]
    },
    {
      "cell_type": "code",
      "execution_count": 10,
      "metadata": {
        "id": "5XOFuuR6OP90"
      },
      "outputs": [
        {
          "name": "stdout",
          "output_type": "stream",
          "text": [
            "NI\n",
            "NI\n"
          ]
        }
      ],
      "source": [
        "## Answer\n",
        "\n",
        "# Explanation\n",
        "\"\"\"\n",
        "Here the print function inside the func calls the global variable \n",
        "and the function the global variable value got changed because of global keyword\n",
        "\"\"\"\n",
        "\n",
        "X = 'iNeuron'  # Defined the global variable\n",
        "def func(): # Created a function called func\n",
        "    global X # This calls the global variable X\n",
        "    X = 'NI' # Create a Local variable X\n",
        "    print(X) # This Line prints the local variable\n",
        "func() # Calling the functio  which rints the local variable\n",
        "print(X) # This function prints the global variable"
      ]
    },
    {
      "cell_type": "code",
      "execution_count": null,
      "metadata": {
        "id": "OdJ88bbkOQv8"
      },
      "outputs": [],
      "source": [
        "# Question\n",
        "\"\"\"\n",
        "5. What about this code—what’s the output, and why?\n",
        ">>> X = 'iNeuron'\n",
        ">>> def func():\n",
        "X = 'NI'\n",
        "def nested():\n",
        "print(X)\n",
        "nested()\n",
        ">>> func()\n",
        ">>> X\n",
        "\"\"\""
      ]
    },
    {
      "cell_type": "code",
      "execution_count": 11,
      "metadata": {
        "id": "EvcrXxeUONYe"
      },
      "outputs": [
        {
          "name": "stdout",
          "output_type": "stream",
          "text": [
            "NI\n",
            "NI\n",
            "iNeuron\n"
          ]
        }
      ],
      "source": [
        "## Answer\n",
        "\n",
        "# Explanation\n",
        "\"\"\"\n",
        "Here the print function inside the  neseted function calls the X value of 'NI\n",
        "As nested function is in the func function, the X local variable of func act as a non local variable to the nested \n",
        "\"\"\"\n",
        "\n",
        "X = 'iNeuron'  # Defined the global variable\n",
        "def func(): # Created a function called func\n",
        "    X = 'NI' # Create a Local variable X\n",
        "    def nested(): # This is a nested function\n",
        "        print(X) # This line refers the Non Local Variable\n",
        "    nested() # This line calls nested function\n",
        "    print(X) # This Line prints the local variable\n",
        "func() # Calling the functio  which rints the local variable\n",
        "print(X) # This function prints the global variable"
      ]
    },
    {
      "cell_type": "code",
      "execution_count": null,
      "metadata": {
        "id": "1kYr1q9FOUNe"
      },
      "outputs": [],
      "source": [
        "# Question\n",
        "\"\"\"\n",
        "6. How about this code: what is its output in Python 3, and explain?\n",
        ">>> def func():\n",
        "X = 'NI'\n",
        "def nested():\n",
        "nonlocal X\n",
        "X = 'Spam'\n",
        "nested()\n",
        "print(X)\n",
        ">>> func()\n",
        "\"\"\""
      ]
    },
    {
      "cell_type": "code",
      "execution_count": 12,
      "metadata": {
        "id": "ilPiUvO1OUTi"
      },
      "outputs": [
        {
          "name": "stdout",
          "output_type": "stream",
          "text": [
            "Spam\n"
          ]
        }
      ],
      "source": [
        "## Answer\n",
        "\n",
        "# Explanation\n",
        "\"\"\"\n",
        "Here the non local X inside the nested calls the X variable  fron the func function\n",
        "because of non local keyword it updates the value of X which belongs to the func function\n",
        "\"\"\"\n",
        "\n",
        "def func(): # Created a function called func\n",
        "    X = 'NI' # Create a  Non Local variable X\n",
        "    def nested(): #  Creates the nested function inside the func\n",
        "        nonlocal X # Callse he X Variable which is outside of the nested and belongs to func\n",
        "        X = 'Spam'\n",
        "    nested() # calls \n",
        "    print(X) # This Line prints the local variable\n",
        "func() # Calling the function  which prints the non local variable of nested and local variable of func"
      ]
    }
  ],
  "metadata": {
    "colab": {
      "provenance": []
    },
    "kernelspec": {
      "display_name": "Python 3",
      "name": "python3"
    },
    "language_info": {
      "codemirror_mode": {
        "name": "ipython",
        "version": 3
      },
      "file_extension": ".py",
      "mimetype": "text/x-python",
      "name": "python",
      "nbconvert_exporter": "python",
      "pygments_lexer": "ipython3",
      "version": "3.9.12"
    }
  },
  "nbformat": 4,
  "nbformat_minor": 0
}
