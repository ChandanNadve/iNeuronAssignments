{
 "cells": [
  {
   "cell_type": "markdown",
   "id": "8f88a3ca",
   "metadata": {},
   "source": [
    "#### 1. What exactly is []?\n",
    "##### Answer:\n",
    "\n",
    "[] Denotes an empty list"
   ]
  },
  {
   "cell_type": "markdown",
   "id": "6a598e38",
   "metadata": {},
   "source": [
    "#### 2. In a list of values stored in a variable called spam, how would you assign the value 'hello' as the third value? (Assume [2, 4, 6, 8, 10] are in spam.)\n",
    "##### Answer:\n"
   ]
  },
  {
   "cell_type": "code",
   "execution_count": 4,
   "id": "d21439d1",
   "metadata": {},
   "outputs": [],
   "source": [
    "l=[1,2,3,4,5]\n",
    "l.insert(3,\"hello\")"
   ]
  },
  {
   "cell_type": "markdown",
   "id": "6cca483c",
   "metadata": {},
   "source": [
    "## Let's pretend the spam includes the list ['a', 'b', 'c', 'd'] for the next three queries."
   ]
  },
  {
   "cell_type": "markdown",
   "id": "69d9e905",
   "metadata": {},
   "source": [
    "#### 3. What is the value of spam[int(int('3' * 2) / 11)]?\n",
    "\n",
    "##### Answer:\n",
    "\n",
    "Substitution\n",
    "\n",
    "spam[int(int('3' * 2) / 11)]\n",
    "\n",
    "spam[int(int('33') / 11)]\n",
    "\n",
    "spam[int(33 / 11)]\n",
    "\n",
    "spam[int(3)]\n",
    "\n",
    "spam[3] = 'd'"
   ]
  },
  {
   "cell_type": "code",
   "execution_count": 7,
   "id": "0e296a63",
   "metadata": {},
   "outputs": [
    {
     "data": {
      "text/plain": [
       "'d'"
      ]
     },
     "execution_count": 7,
     "metadata": {},
     "output_type": "execute_result"
    }
   ],
   "source": [
    "spam=['a','b','c','d']\n",
    "spam[int(int('3' * 2) / 11)]"
   ]
  },
  {
   "cell_type": "markdown",
   "id": "9bd81fab",
   "metadata": {},
   "source": [
    "#### 4. What is the value of spam[-1]?\n",
    "\n",
    "##### Answer:\n",
    "\n",
    "This will print the last value i.e 'd'"
   ]
  },
  {
   "cell_type": "code",
   "execution_count": 18,
   "id": "6687608d",
   "metadata": {},
   "outputs": [
    {
     "data": {
      "text/plain": [
       "'d'"
      ]
     },
     "execution_count": 18,
     "metadata": {},
     "output_type": "execute_result"
    }
   ],
   "source": [
    "spam=['a','b','c','d']\n",
    "spam[-1]"
   ]
  },
  {
   "cell_type": "markdown",
   "id": "96c93af2",
   "metadata": {},
   "source": [
    "#### 5. What is the value of spam[:2]?\n",
    "\n",
    "\n",
    "##### Answer:\n",
    "\n",
    "This will print the first 2 values of list ['a','b']"
   ]
  },
  {
   "cell_type": "code",
   "execution_count": 19,
   "id": "641db69d",
   "metadata": {},
   "outputs": [
    {
     "data": {
      "text/plain": [
       "['a', 'b']"
      ]
     },
     "execution_count": 19,
     "metadata": {},
     "output_type": "execute_result"
    }
   ],
   "source": [
    "spam=['a','b','c','d']\n",
    "spam[:2]"
   ]
  },
  {
   "cell_type": "markdown",
   "id": "6ebec2b4",
   "metadata": {},
   "source": [
    "#### Let's pretend bacon has the list [3.14, 'cat,' 11, 'cat,' True] for the next three questions.\n",
    "#### 6. What is the value of bacon.index('cat')?\n",
    "\n",
    "##### Answer:"
   ]
  },
  {
   "cell_type": "code",
   "execution_count": 32,
   "id": "1ee3beba",
   "metadata": {},
   "outputs": [
    {
     "data": {
      "text/plain": [
       "1"
      ]
     },
     "execution_count": 32,
     "metadata": {},
     "output_type": "execute_result"
    }
   ],
   "source": [
    "bacon=[3.14, 'cat', 11, 'cat', True]\n",
    "bacon.index('cat')"
   ]
  },
  {
   "cell_type": "markdown",
   "id": "3462a865",
   "metadata": {},
   "source": [
    "#### 7. How does bacon.append(99) change the look of the list value in bacon?\n",
    "\n",
    "\n",
    "##### Answer:\n"
   ]
  },
  {
   "cell_type": "code",
   "execution_count": 34,
   "id": "fa7d83fc",
   "metadata": {},
   "outputs": [
    {
     "name": "stdout",
     "output_type": "stream",
     "text": [
      "[3.14, 'cat', 11, 'cat', True, 99]\n"
     ]
    }
   ],
   "source": [
    "bacon=[3.14, 'cat', 11, 'cat', True]\n",
    "bacon.append(99)\n",
    "print(bacon)"
   ]
  },
  {
   "cell_type": "markdown",
   "id": "04bf850e",
   "metadata": {},
   "source": [
    "#### 8. How does bacon.remove('cat') change the look of the list in bacon?"
   ]
  },
  {
   "cell_type": "code",
   "execution_count": 36,
   "id": "89b68f87",
   "metadata": {},
   "outputs": [
    {
     "name": "stdout",
     "output_type": "stream",
     "text": [
      "[3.14, 11, 'cat', True]\n"
     ]
    }
   ],
   "source": [
    "bacon=[3.14, 'cat', 11, 'cat', True]\n",
    "bacon.remove('cat')\n",
    "print(bacon)"
   ]
  },
  {
   "cell_type": "markdown",
   "id": "04bddfe4",
   "metadata": {},
   "source": [
    "#### 9. What are the list concatenation and list replication operators?\n",
    "\n",
    "##### Answer:\n",
    "\n",
    "* '+' Operator is list concatenation operator                                         \n",
    "\n",
    "* '*' Operator is considered as replication operator"
   ]
  },
  {
   "cell_type": "code",
   "execution_count": 26,
   "id": "c5865360",
   "metadata": {},
   "outputs": [
    {
     "name": "stdout",
     "output_type": "stream",
     "text": [
      "List Concatenation result is [1, 2, 3, 4, 5, 6, 7, 8]\n"
     ]
    }
   ],
   "source": [
    "l1=[1,2,3,4]\n",
    "l2=[5,6,7,8]\n",
    "l3=l1+l2\n",
    "print(f\"List Concatenation result is {l3}\")"
   ]
  },
  {
   "cell_type": "code",
   "execution_count": 28,
   "id": "b8837861",
   "metadata": {},
   "outputs": [
    {
     "name": "stdout",
     "output_type": "stream",
     "text": [
      "List replication result is [1, 2, 3, 4, 1, 2, 3, 4, 1, 2, 3, 4]\n"
     ]
    }
   ],
   "source": [
    "l1=[1,2,3,4]\n",
    "e2=3\n",
    "l3=l1*e2\n",
    "print(f\"List replication result is {l3}\")"
   ]
  },
  {
   "cell_type": "markdown",
   "id": "3c8bb6f4",
   "metadata": {},
   "source": [
    "#### 10. What is difference between the list methods append() and insert()?\n",
    "\n",
    "\n",
    "##### Answer:"
   ]
  },
  {
   "cell_type": "code",
   "execution_count": 25,
   "id": "39834a0a",
   "metadata": {},
   "outputs": [
    {
     "name": "stdout",
     "output_type": "stream",
     "text": [
      "The Append list added the element/collection in last index [1, 2, 3, 4, [5, 6]]\n",
      "The Insert list added the element/collection in specified index [1, [5, 6], 2, 3, 4]\n"
     ]
    }
   ],
   "source": [
    "# Append will add the element to the last index. Insert will add the element to the specified index\n",
    "\n",
    "#Example:\n",
    "l=[1,2,3,4]\n",
    "l.append([5,6])\n",
    "print(f\"The Append list added the element/collection in last index {l}\")\n",
    "\n",
    "#Example:\n",
    "l=[1,2,3,4]\n",
    "l.insert(1,[5,6])\n",
    "print(f\"The Insert list added the element/collection in specified index {l}\")\n"
   ]
  },
  {
   "cell_type": "markdown",
   "id": "6f20d24c",
   "metadata": {},
   "source": [
    "#### 11. What are the two methods for removing items from a list?\n",
    "\n",
    "\n",
    "##### Answer:\n",
    "\n",
    "##### remove() and pop() are 2 methods for removing items from a list."
   ]
  },
  {
   "cell_type": "code",
   "execution_count": 40,
   "id": "b67286be",
   "metadata": {},
   "outputs": [],
   "source": [
    "l=[1,2,3,4,5,6]\n"
   ]
  },
  {
   "cell_type": "code",
   "execution_count": 41,
   "id": "0ca959bb",
   "metadata": {},
   "outputs": [
    {
     "data": {
      "text/plain": [
       "6"
      ]
     },
     "execution_count": 41,
     "metadata": {},
     "output_type": "execute_result"
    }
   ],
   "source": [
    "l.pop()"
   ]
  },
  {
   "cell_type": "code",
   "execution_count": 42,
   "id": "be89cc99",
   "metadata": {},
   "outputs": [],
   "source": [
    "l.remove(3)"
   ]
  },
  {
   "cell_type": "code",
   "execution_count": 43,
   "id": "752d8989",
   "metadata": {},
   "outputs": [
    {
     "data": {
      "text/plain": [
       "[1, 2, 4, 5]"
      ]
     },
     "execution_count": 43,
     "metadata": {},
     "output_type": "execute_result"
    }
   ],
   "source": [
    "l"
   ]
  },
  {
   "cell_type": "markdown",
   "id": "ec3370cd",
   "metadata": {},
   "source": [
    "#### 12. Describe how list values and string values are identical.\n",
    "\n",
    "\n",
    "##### Answer:"
   ]
  },
  {
   "cell_type": "markdown",
   "id": "1344ce2c",
   "metadata": {},
   "source": [
    "* Lists and Strings both are iterables\n",
    "* Lists and Strings can do traversal operation\n",
    "* Lists and Strings are mutable"
   ]
  },
  {
   "cell_type": "markdown",
   "id": "bcde4b23",
   "metadata": {},
   "source": [
    "#### 13. What's the difference between tuples and lists?\n",
    "\n",
    "##### Answer:"
   ]
  },
  {
   "cell_type": "markdown",
   "id": "8318d66e",
   "metadata": {},
   "source": [
    "Tuples\n",
    "* Tuples are Immutable\n",
    "* Tuples are defined by Round paranthesis ()\n",
    "* Tuples are Fast compared to list\n",
    "\n",
    "\n",
    "Lists\n",
    "* Lists are Mutable\n",
    "* Lists are defined by square paranthesis []\n",
    "* Lists are Fast compared to Tuples\n"
   ]
  },
  {
   "cell_type": "markdown",
   "id": "820e8ff7",
   "metadata": {},
   "source": [
    "#### 14. How do you type a tuple value that only contains the integer 42?\n",
    "\n",
    "\n",
    "##### Answer:"
   ]
  },
  {
   "cell_type": "code",
   "execution_count": 17,
   "id": "26504999",
   "metadata": {},
   "outputs": [
    {
     "name": "stdout",
     "output_type": "stream",
     "text": [
      "<class 'tuple'>\n",
      "(42,)\n",
      "<class 'tuple'>\n",
      "(42,)\n"
     ]
    }
   ],
   "source": [
    "t=(42,)\n",
    "print(type(t))\n",
    "print(t)\n",
    "\n",
    "# Alternative Approach\n",
    "t=tuple([42])\n",
    "print(type(t))\n",
    "print(t)"
   ]
  },
  {
   "cell_type": "markdown",
   "id": "6211a94b",
   "metadata": {},
   "source": [
    "#### 15. How do you get a list value's tuple form? How do you get a tuple values list form?\n",
    "\n",
    "##### Answer:"
   ]
  },
  {
   "cell_type": "code",
   "execution_count": 39,
   "id": "30acade7",
   "metadata": {},
   "outputs": [
    {
     "name": "stdout",
     "output_type": "stream",
     "text": [
      "The lis [1, 2, 3, 4] is converted as  tuple (1, 2, 3, 4)\n"
     ]
    }
   ],
   "source": [
    "# we can use type casting operation\n",
    "\n",
    "#converting a list to tuple\n",
    "l=[1,2,3,4]\n",
    "t=tuple(l)\n",
    "print(f\"The lis {l} is converted as tuple {t}\")"
   ]
  },
  {
   "cell_type": "markdown",
   "id": "3fb9c8b3",
   "metadata": {},
   "source": [
    "#### 16. Variables that \"contain\" list values are not necessarily lists themselves. Instead, what do they contain?\n",
    "\n",
    "##### Answer:"
   ]
  },
  {
   "cell_type": "code",
   "execution_count": null,
   "id": "f8d33c3a",
   "metadata": {},
   "outputs": [],
   "source": [
    "# List can contain integers, floats, string, lists, tuples, dictionary, Complex\n",
    "l=[1,2.2,False,2+3j,\"\"]"
   ]
  },
  {
   "cell_type": "markdown",
   "id": "794e9b57",
   "metadata": {},
   "source": [
    "#### 17. How do you distinguish between copy.copy() and copy.deepcopy()?"
   ]
  },
  {
   "cell_type": "markdown",
   "id": "a03815f1",
   "metadata": {},
   "source": [
    "##### Answer:\n",
    "\n",
    "# Shallow Copy"
   ]
  },
  {
   "cell_type": "code",
   "execution_count": 64,
   "id": "0ce1398d",
   "metadata": {},
   "outputs": [],
   "source": [
    "# Shallow Copy; creates new object and will refer the same elements of objects\n",
    "\n",
    "import copy\n",
    "#Shallow Copy\n",
    "l=[[1,2,3],[4,5,6],[7,8,9]]\n",
    "l1=copy.copy(l)"
   ]
  },
  {
   "cell_type": "code",
   "execution_count": 65,
   "id": "bee582ce",
   "metadata": {
    "scrolled": true
   },
   "outputs": [
    {
     "name": "stdout",
     "output_type": "stream",
     "text": [
      "[[1, 2, 3], [4, 5, 6], [7, 8, 9]]\n",
      "[[1, 2, 3], [4, 5, 6], [7, 8, 9]]\n",
      "[[1, 2, 3], [4, 5, 6], [7, 8, 9]]\n",
      "[['a', 'b', 'c'], [4, 5, 6], [7, 8, 9]]\n"
     ]
    }
   ],
   "source": [
    "print(l)\n",
    "print(l1)\n",
    "l1[0]=['a','b','c']\n",
    "print(l)\n",
    "print(l1)"
   ]
  },
  {
   "cell_type": "code",
   "execution_count": 67,
   "id": "85af3e8b",
   "metadata": {},
   "outputs": [
    {
     "name": "stdout",
     "output_type": "stream",
     "text": [
      "[[1, 2, 3], [4, 5, 6], [7, 8, 9]]\n",
      "[[1, 2, 3], [4, 5, 6], [7, 8, 9]]\n",
      "[['a', 2, 3], [4, 5, 6], [7, 8, 9]]\n",
      "[['a', 2, 3], [4, 5, 6], [7, 8, 9]]\n"
     ]
    }
   ],
   "source": [
    "l=[[1,2,3],[4,5,6],[7,8,9]]\n",
    "l1=copy.copy(l)\n",
    "\n",
    "print(l)\n",
    "print(l1)\n",
    "l1[0][0]='a'\n",
    "print(l)\n",
    "print(l1)"
   ]
  },
  {
   "cell_type": "markdown",
   "id": "0c1aed77",
   "metadata": {},
   "source": [
    "# Deep Copy"
   ]
  },
  {
   "cell_type": "code",
   "execution_count": 68,
   "id": "4576e495",
   "metadata": {},
   "outputs": [],
   "source": [
    "# Deep Copy; creates new object and will create new elements as well\n",
    "import copy\n",
    "#Deep Copy\n",
    "l=[[1,2,3],[4,5,6],[7,8,9]]\n",
    "l2=copy.deepcopy(l)"
   ]
  },
  {
   "cell_type": "code",
   "execution_count": 69,
   "id": "677b8dae",
   "metadata": {},
   "outputs": [
    {
     "name": "stdout",
     "output_type": "stream",
     "text": [
      "[[1, 2, 3], [4, 5, 6], [7, 8, 9]]\n",
      "[['a', 2, 3], [4, 5, 6], [7, 8, 9]]\n",
      "[[1, 2, 3], [4, 5, 6], [7, 8, 9]]\n",
      "[['a', 'b', 'c'], [4, 5, 6], [7, 8, 9]]\n"
     ]
    }
   ],
   "source": [
    "print(l)\n",
    "print(l1)\n",
    "l1[0]=['a','b','c']\n",
    "print(l)\n",
    "print(l1)"
   ]
  },
  {
   "cell_type": "code",
   "execution_count": 71,
   "id": "21e8d430",
   "metadata": {},
   "outputs": [
    {
     "name": "stdout",
     "output_type": "stream",
     "text": [
      "[[1, 2, 3], [4, 5, 6], [7, 8, 9]]\n",
      "[[1, 2, 3], [4, 5, 6], [7, 8, 9]]\n",
      "[[1, 2, 3], [4, 5, 6], [7, 8, 9]]\n",
      "[['a', 2, 3], [4, 5, 6], [7, 8, 9]]\n"
     ]
    }
   ],
   "source": [
    "l=[[1,2,3],[4,5,6],[7,8,9]]\n",
    "l1=copy.deepcopy(l)\n",
    "\n",
    "print(l)\n",
    "print(l1)\n",
    "l1[0][0]='a'\n",
    "print(l)\n",
    "print(l1)"
   ]
  }
 ],
 "metadata": {
  "kernelspec": {
   "display_name": "Python 3 (ipykernel)",
   "language": "python",
   "name": "python3"
  },
  "language_info": {
   "codemirror_mode": {
    "name": "ipython",
    "version": 3
   },
   "file_extension": ".py",
   "mimetype": "text/x-python",
   "name": "python",
   "nbconvert_exporter": "python",
   "pygments_lexer": "ipython3",
   "version": "3.9.12"
  }
 },
 "nbformat": 4,
 "nbformat_minor": 5
}
