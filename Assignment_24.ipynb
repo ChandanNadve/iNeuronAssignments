{
  "cells": [
    {
      "cell_type": "markdown",
      "metadata": {
        "id": "5VZu2_iSPJA2"
      },
      "source": [
        "Q1. What is the relationship between def statements and lambda expressions ?"
      ]
    },
    {
      "cell_type": "markdown",
      "metadata": {
        "id": "UPSzsE9ePLiT"
      },
      "source": [
        "Answer:\n",
        "\n",
        "def is a keyword used to define a named function\n",
        "lambda is a keyword to define a anonymous function\n",
        "\n",
        "Finallly this bot lambda and def is used to create a function"
      ]
    },
    {
      "cell_type": "markdown",
      "metadata": {
        "id": "z1TIRfZ3PLlO"
      },
      "source": [
        "Q2. What is the benefit of lambda?"
      ]
    },
    {
      "cell_type": "markdown",
      "metadata": {
        "id": "TNfjK8nOPLn0"
      },
      "source": [
        "Answer:\n",
        "\n",
        "1. Whenever we required to very small function its useful to create in less syntax\n",
        "2. No need to specify return keyword also\n",
        "3. Can write in one line"
      ]
    },
    {
      "cell_type": "markdown",
      "metadata": {
        "id": "oNQFliIkPLqs"
      },
      "source": [
        "Q3. Compare and contrast map, filter, and reduce."
      ]
    },
    {
      "cell_type": "markdown",
      "metadata": {
        "id": "jDHVdFHTPUZB"
      },
      "source": [
        "Answer:\n",
        "map,filter and reduce are can apply a function to the iterators. \n",
        "\n",
        "1. Map -> Map applies to the function result to all the elements of an iterator\n",
        "2. Filter -> Filter return back the only elements which satisfy function criteria to all the elements of an iterator\n",
        "3. Reduce -> Generates the cumulative result of function from left to right over an iterator"
      ]
    },
    {
      "cell_type": "markdown",
      "metadata": {
        "id": "1w9ZxzDQPUb2"
      },
      "source": [
        "Q4. What are function annotations, and how are they used?"
      ]
    },
    {
      "cell_type": "markdown",
      "metadata": {
        "id": "n5dNASKKPWkM"
      },
      "source": [
        "Answer:\n",
        "\n",
        "Annotations are mainly used for the user reference and documentation purpose related to the input parameter and return Value\n",
        "\n",
        "it ussually refers the data type of the input paramter/arguments and data type of the return value\n",
        "\n",
        "following is an example of the usage of the annotation\n",
        "\n",
        "def greet(name: str, age: int) -> str:\n",
        "\n",
        "1. name : str - this says for the name user can input the string paramter\n",
        "2. age : int - this says for the age user can input the integer paramter\n",
        "3. -> str: - this says the return value of the fuction is string\n",
        "\n"
      ]
    },
    {
      "cell_type": "markdown",
      "metadata": {
        "id": "CT1QzjrwPWwS"
      },
      "source": [
        "Q5. What are recursive functions, and how are they used?"
      ]
    },
    {
      "cell_type": "markdown",
      "metadata": {
        "id": "gCBwmkzHPZAF"
      },
      "source": [
        "Answer:\n",
        "\n",
        "Recursive function means same function can call itself with in the function\n",
        "\n",
        "When ever writing function we always need to define the 2 things\n",
        "1. Base Case -> When the function should exit of recursion\n",
        "2. Recursive Case -> When the function should call recursively\n",
        "\n",
        "If this 2 cases are not defined properly it will lead to the inifinite loop\n",
        "\n",
        "Check the below Example"
      ]
    },
    {
      "cell_type": "code",
      "execution_count": 5,
      "metadata": {},
      "outputs": [
        {
          "name": "stdout",
          "output_type": "stream",
          "text": [
            "295232799039604140847618609643520000000\n"
          ]
        }
      ],
      "source": [
        "def n_factorial(n):\n",
        "    # Base case\n",
        "    if n == 0 or n == 1:\n",
        "        return 1\n",
        "    # Recursive case\n",
        "    else:\n",
        "        return n * n_factorial(n - 1)\n",
        "\n",
        "result = n_factorial(34)\n",
        "print(result)"
      ]
    },
    {
      "cell_type": "markdown",
      "metadata": {
        "id": "r474S3U9PZJJ"
      },
      "source": [
        "Q6. What are some general design guidelines for coding functions?"
      ]
    },
    {
      "cell_type": "markdown",
      "metadata": {
        "id": "5oHju9p6Pb8K"
      },
      "source": [
        "Answer:\n",
        "\n",
        "1. Using the Annotations - which explanis the data type of input and output parameter\n",
        "2. Using the doc string - Clearly Explaining the purpose of function\n",
        "3. Using the Exception handling - Use the try and except block where ever its required\n",
        "4. Mention the comments wherever its required to explain code"
      ]
    },
    {
      "cell_type": "markdown",
      "metadata": {
        "id": "AkyHz7DgPcD2"
      },
      "source": [
        "Q7. Name three or more ways that functions can communicate results to a caller."
      ]
    },
    {
      "cell_type": "markdown",
      "metadata": {
        "id": "7OFUz5IyPUez"
      },
      "source": [
        "Answer:\n",
        "1. Function can return value when its called\n",
        "2. Function can update the global variables\n",
        "3. Function can execute set of tasks which repeatedly need to do"
      ]
    }
  ],
  "metadata": {
    "colab": {
      "provenance": []
    },
    "kernelspec": {
      "display_name": "Python 3",
      "name": "python3"
    },
    "language_info": {
      "codemirror_mode": {
        "name": "ipython",
        "version": 3
      },
      "file_extension": ".py",
      "mimetype": "text/x-python",
      "name": "python",
      "nbconvert_exporter": "python",
      "pygments_lexer": "ipython3",
      "version": "3.9.12"
    }
  },
  "nbformat": 4,
  "nbformat_minor": 0
}
