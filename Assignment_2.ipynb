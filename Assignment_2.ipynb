{
 "cells": [
  {
   "cell_type": "code",
   "execution_count": null,
   "id": "256880bb",
   "metadata": {},
   "outputs": [],
   "source": [
    "1.What are the two values of the Boolean data type? How do you write them?\n",
    "\n",
    "#ANSWER:-----------------------------------------------------------------\n",
    "the 2 values of boolean types are 1 and 0\n",
    "1=true\n",
    "0=false"
   ]
  },
  {
   "cell_type": "code",
   "execution_count": null,
   "id": "0c6babfb",
   "metadata": {},
   "outputs": [],
   "source": [
    "2. What are the three different types of Boolean operators?\n",
    "\n",
    "#ANSWER:-----------------------------------------------------------------\n",
    "Following are the \n",
    "AND\n",
    "OR\n",
    "NOT"
   ]
  },
  {
   "cell_type": "code",
   "execution_count": null,
   "id": "da01cd51",
   "metadata": {},
   "outputs": [],
   "source": [
    "3. Make a list of each Boolean operators truth tables \n",
    "(i.e. every possible combination of Boolean values for the operator and what it evaluate ).\n",
    "\n",
    "#ANSWER:-----------------------------------------------------------------\n",
    "true and true\n",
    "true or false\n",
    "false or true\n",
    "true or true"
   ]
  },
  {
   "cell_type": "code",
   "execution_count": null,
   "id": "59f6f6a6",
   "metadata": {},
   "outputs": [],
   "source": [
    "4. What are the values of the following expressions?\n",
    "(5 > 4) and (3 == 5)\n",
    "not (5 > 4)\n",
    "(5 > 4) or (3 == 5)\n",
    "not ((5 > 4) or (3 == 5))\n",
    "(True and True) and (True == False)\n",
    "(not False) or (not True)\n",
    "\n",
    "#ANSWER:-----------------------------------------------------------------\n",
    "(5 > 4) and (3 == 5)-------------------------------> False\n",
    "not (5 > 4)----------------------------------------> False\n",
    "(5 > 4) or (3 == 5)--------------------------------> True\n",
    "not ((5 > 4) or (3 == 5))--------------------------> False\n",
    "(True and True) and (True == False)----------------> False\n",
    "(not False) or (not True)--------------------------> True"
   ]
  },
  {
   "cell_type": "code",
   "execution_count": null,
   "id": "9f3dfb9f",
   "metadata": {},
   "outputs": [],
   "source": [
    "5. What are the six comparison operators?\n",
    "#ANSWER:-----------------------------------------------------------------\n",
    ">\n",
    "<\n",
    "==\n",
    "!=\n",
    "<=\n",
    ">="
   ]
  },
  {
   "cell_type": "code",
   "execution_count": null,
   "id": "cc1f00c1",
   "metadata": {},
   "outputs": [],
   "source": [
    "6. How do you tell the difference between the equal to and assignment operators?\n",
    "Describe a condition and when you would use one.\n",
    "\n",
    "#ANSWER:-----------------------------------------------------------------\n",
    "Assignment Operator:\n",
    "1.Assignment Operator is used store RHS value to LHS variable\n",
    "2.Assignment Operator will use single equal to \"=\"\n",
    "3.Use Cases- Whenever if we neeed to store a variable/data/expression result a variable.\n",
    "    Eg : a=10     ---> Value Assignment\n",
    "         a=b+c   ---> Expression Assignment\n",
    "         l1=l[1:10]   ---> Other type of assignments like storing a list to another list\n",
    "\n",
    "Equal Operator\n",
    "1.Equal Operator is used to check, is LHS value/variable matches(equal to) with RHS value/variable, \n",
    "if it matches(equal to) it will return True, else it will return false\n",
    "2.Equal Operator will use double equal to \"==\"\n",
    "3.Use Cases- Majorly we will use Equal Operator in Control flow statements and in loops\n",
    "    Eg : if(a==b):\n",
    "         while(a==b):\n"
   ]
  },
  {
   "cell_type": "code",
   "execution_count": null,
   "id": "49ff4c00",
   "metadata": {},
   "outputs": [],
   "source": [
    "7. Identify the three blocks in this code:\n",
    "spam = 0\n",
    "if spam == 10:\n",
    "print('eggs')\n",
    "if spam > 5:\n",
    "print('bacon')\n",
    "else:\n",
    "print('ham')\n",
    "print('spam')\n",
    "print('spam')\n",
    "\n",
    "#ANSWER:----------------------------------------------------------------- \n",
    "spam = 0\n",
    "if spam == 10:\n",
    "    print('eggs')  # Block 1\n",
    "if spam > 5:\n",
    "    print('bacon')  #Block 2\n",
    "else:\n",
    "    print('ham')    #Block 3\n",
    "    print('spam')\n",
    "    print('spam')"
   ]
  },
  {
   "cell_type": "code",
   "execution_count": null,
   "id": "2d8c9fa0",
   "metadata": {},
   "outputs": [],
   "source": [
    "8. Write code that prints Hello if 1 is stored in spam, \n",
    "prints Howdy if 2 is stored in spam, and prints Greetings! if anything else is stored in spam.\n",
    "\n",
    "#ANSWER:----------------------------------------------------------------- \n",
    "spam=input(\"Enter the spam value : \")\n",
    "if spam==1:\n",
    "    print(\"spam\")\n",
    "elif spam==2:\n",
    "    print(\"Howdy\")\n",
    "else:\n",
    "    print(\"Greetings\")\n"
   ]
  },
  {
   "cell_type": "code",
   "execution_count": null,
   "id": "f6562751",
   "metadata": {},
   "outputs": [],
   "source": [
    "9.If your programme is stuck in an endless loop, what keys you’ll press?\n",
    "\n",
    "#ANSWER:----------------------------------------------------------------- \n",
    "We will press 2 times \"i\" "
   ]
  },
  {
   "cell_type": "code",
   "execution_count": null,
   "id": "f30d24bf",
   "metadata": {},
   "outputs": [],
   "source": [
    "10. How can you tell the difference between break and continue?\n",
    "\n",
    "#ANSWER:----------------------------------------------------------------- \n",
    "break - inside a loop if system encounters break then it will come out of loop.\n",
    "\n",
    "Example:\n",
    "l=[1,2,3,4,6,7,4,2] \n",
    "i=0\n",
    "while i<len(l):\n",
    "    if(i>=4):\n",
    "        break\n",
    "    print(l[i])\n",
    "    i+=1\n",
    "    \n",
    "the above program will run from index 0 to 3 once the index reaches 4 it will come out of loop\n",
    "\n",
    "continue - inside a loop if system encounters continue then it will not \n",
    "execute the program part which is there after continue statemtement,\n",
    "it will go back to the loops next iteration(starting point of loop).\n",
    "\n",
    "Example:\n",
    "l=[1,2,3,4,6,7,4,2] \n",
    "i=0\n",
    "while i<len(l):\n",
    "    if(i>=4):\n",
    "        continue\n",
    "    print(l[i])\n",
    "    i+=1\n",
    "the above program will run from index 0 to 3 once the index reaches 4 it will not go to the print and increment statement.\n",
    "It will go back to the loop start point, as the i value is not increasing,it will run infinite time."
   ]
  },
  {
   "cell_type": "code",
   "execution_count": null,
   "id": "0de5fb08",
   "metadata": {},
   "outputs": [],
   "source": [
    "11. In a for loop, what is the difference between range(10), range(0, 10), and range(0, 10, 1)?\n",
    "\n",
    "#ANSWER:-----------------------------------------------------------------\n",
    "the result wise all 3 will give same out put\n",
    "range(10)  --> this will consider by \"default\" start_index=0,\"defined\" end_index=10,\"default\" jump_value=1\n",
    "range(0,10)  --> this will consider by \"defined\" start_index=0,\"defined\" end_index=10,\"default\" jump_value=1\n",
    "range(0,10,1)  --> this will consider by \"defined\" start_index=0,\"defined\" end_index=10,\"defined\" jump_value=1"
   ]
  },
  {
   "cell_type": "code",
   "execution_count": null,
   "id": "c5e52901",
   "metadata": {},
   "outputs": [],
   "source": [
    "12. Write a short program that prints the numbers 1 to 10 using a for loop. \n",
    "Then write an equivalent program that prints the numbers 1 to 10 using a while loop.\n",
    "\n",
    "#ANSWER:-----------------------------------------------------------------\n",
    "---FOR LOOP\n",
    "for i in range(10):\n",
    "    print(i+1)\n",
    "    \n",
    "---WHILE LOOP\n",
    "i=1\n",
    "while i<=10:\n",
    "    print(i)\n",
    "    i+=1"
   ]
  },
  {
   "cell_type": "code",
   "execution_count": null,
   "id": "67de53ff",
   "metadata": {},
   "outputs": [],
   "source": [
    "13. If you had a function named bacon() inside a module named spam, how would you call it after importing spam?\n",
    "\n",
    "#ANSWER:-----------------------------------------------------------------\n",
    "import spam as sp\n",
    "sp.bacon()\n"
   ]
  }
 ],
 "metadata": {
  "kernelspec": {
   "display_name": "Python 3 (ipykernel)",
   "language": "python",
   "name": "python3"
  },
  "language_info": {
   "codemirror_mode": {
    "name": "ipython",
    "version": 3
   },
   "file_extension": ".py",
   "mimetype": "text/x-python",
   "name": "python",
   "nbconvert_exporter": "python",
   "pygments_lexer": "ipython3",
   "version": "3.9.12"
  }
 },
 "nbformat": 4,
 "nbformat_minor": 5
}
