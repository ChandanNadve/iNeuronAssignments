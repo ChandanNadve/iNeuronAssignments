{
 "cells": [
  {
   "cell_type": "markdown",
   "metadata": {},
   "source": [
    "# Python Programming Assignment 2"
   ]
  },
  {
   "cell_type": "markdown",
   "metadata": {
    "id": "MBijouv0RBrY"
   },
   "source": [
    "1.\tWrite a Python program to convert kilometers to miles?"
   ]
  },
  {
   "cell_type": "code",
   "execution_count": 8,
   "metadata": {
    "id": "_ReSSvriRJR1"
   },
   "outputs": [
    {
     "name": "stdout",
     "output_type": "stream",
     "text": [
      "Please enter the kilometers : 34.56\n",
      "The 34.56 Kms equivalent to 55.6187904 Miles\n"
     ]
    }
   ],
   "source": [
    "## Answer\n",
    "kms=float(input(\"Please enter the kilometers : \"))\n",
    "miles = 1.60934*kms\n",
    "print(f\"The {kms} Kms equivalent to {miles} Miles\")"
   ]
  },
  {
   "cell_type": "markdown",
   "metadata": {
    "id": "3IehdXXmRJU5"
   },
   "source": [
    "2.\tWrite a Python program to convert Celsius to Fahrenheit?"
   ]
  },
  {
   "cell_type": "code",
   "execution_count": 11,
   "metadata": {
    "id": "lnzJvq-GROCn"
   },
   "outputs": [
    {
     "name": "stdout",
     "output_type": "stream",
     "text": [
      "Please enter the Celsius : 100\n",
      "The 100.0 Celsius equivalent to 212.0 Fahrenheit\n"
     ]
    }
   ],
   "source": [
    "## Answer\n",
    "Celsius=float(input(\"Please enter the Celsius : \"))\n",
    "Fahrenheit = (Celsius*9/5)+32\n",
    "print(f\"The {Celsius} Celsius equivalent to {Fahrenheit} Fahrenheit\")"
   ]
  },
  {
   "cell_type": "markdown",
   "metadata": {
    "id": "MNQSRl0fROFn"
   },
   "source": [
    "3.\tWrite a Python program to display calendar?"
   ]
  },
  {
   "cell_type": "code",
   "execution_count": 87,
   "metadata": {
    "id": "rHmnUG3SROIf",
    "scrolled": true
   },
   "outputs": [
    {
     "name": "stdout",
     "output_type": "stream",
     "text": [
      "Enter the Month in MMM format Example like JAN, FEB , MAR , APR etc ..: FEB\n",
      "Enter the Month in YYYY format Example like 2023 : 2023\n",
      "    SUN    MON    TUE    WED    THU    FRI    SAT\n",
      "                             1     2     3     4\n",
      "     5     6     7     8     9    10    11    12\n",
      "    13    14    15    16    17    18    19    20\n",
      "    21    22    23    24    25    26    27    28\n",
      "\n"
     ]
    }
   ],
   "source": [
    "## Answer\n",
    "import calendar\n",
    "from datetime import datetime\n",
    "Month_Dict=month_dict = {\n",
    "    \"JAN\": 1,\n",
    "    \"FEB\": 2,\n",
    "    \"MAR\": 3,\n",
    "    \"APR\": 4,\n",
    "    \"MAY\": 5,\n",
    "    \"JUN\": 6,\n",
    "    \"JUL\": 7,\n",
    "    \"AUG\": 8,\n",
    "    \"SEP\": 9,\n",
    "    \"OCT\": 10,\n",
    "    \"NOV\": 11,\n",
    "    \"DEC\": 12\n",
    "}\n",
    "Month=input(\"Enter the Month in MMM format Example like JAN, FEB , MAR , APR etc ..: \")\n",
    "Year=int(input(\"Enter the Month in YYYY format Example like 2023 : \"))\n",
    "input_dt=datetime(Year,Month_Dict[Month],1)\n",
    "days_count = calendar.monthrange(input_dt.year, input_dt.month)\n",
    "weeks_list=['SUN','MON','TUE','WED','THU','FRI','SAT']\n",
    "calendar_print=\"\"\n",
    "for i in weeks_list:\n",
    "    calendar_print=calendar_print+\"    \"+i\n",
    "calendar_print=calendar_print+\"\\n\"\n",
    "pos=2+days_count[0]\n",
    "total_days=1\n",
    "calendar_print=calendar_print+(\"      \"*pos)\n",
    "for i in range(0,days_count[1]): \n",
    "    if pos<7:\n",
    "        if len(str(total_days))==2:\n",
    "            calendar_print=calendar_print+\"    \"+str(total_days)\n",
    "        else:\n",
    "            calendar_print=calendar_print+\"     \"+str(total_days)\n",
    "        total_days+=1\n",
    "        pos+=1\n",
    "    else:\n",
    "        if len(str(total_days))==2:\n",
    "            calendar_print=calendar_print+\"    \"+str(total_days)\n",
    "        else:\n",
    "            calendar_print=calendar_print+\"     \"+str(total_days)\n",
    "        calendar_print=calendar_print+\"\\n\"\n",
    "        total_days+=1\n",
    "        pos=0\n",
    "        \n",
    "            \n",
    "#for i in range(7):\n",
    "#    calendar_print=calendar_print+\n",
    "print(calendar_print)\n",
    "    "
   ]
  },
  {
   "cell_type": "code",
   "execution_count": 50,
   "metadata": {},
   "outputs": [
    {
     "name": "stdout",
     "output_type": "stream",
     "text": [
      "   SUN   MON   TUE   WED   THU   FRI   SAT\n",
      "   1   2   3\n"
     ]
    }
   ],
   "source": [
    "print(calendar_print)"
   ]
  },
  {
   "cell_type": "markdown",
   "metadata": {
    "id": "KMzZ-KumROLn"
   },
   "source": [
    "4.\tWrite a Python program to solve quadratic equation?"
   ]
  },
  {
   "cell_type": "code",
   "execution_count": 4,
   "metadata": {
    "id": "zRWJh1_CRTXF"
   },
   "outputs": [
    {
     "name": "stdout",
     "output_type": "stream",
     "text": [
      "a : 1\n",
      "b : 5\n",
      "c : 6\n",
      "The solution for quadratic equation 1x^2 + 5x + c solution is (-2+0j) or (-3+0j) \n"
     ]
    }
   ],
   "source": [
    "## Answer\n",
    "# The quadratic equation formula is ax^2+bx+c=0\n",
    "# To find x value the formula is \n",
    "import cmath\n",
    "a=int(input(\"a : \"))\n",
    "b=int(input(\"b : \"))\n",
    "c=int(input(\"c : \"))\n",
    "soln1= (-b + cmath.sqrt((b*b)-(4*a*c)))/(2*a)\n",
    "soln2= (-b - cmath.sqrt((b*b)-(4*a*c)))/(2*a)\n",
    "print(f\"The solution for quadratic equation {a}x^2 + {b}x + c solution is {soln1} or {soln2} \")\n"
   ]
  },
  {
   "cell_type": "markdown",
   "metadata": {
    "id": "J0ttvLL6RQtr"
   },
   "source": [
    "5.\tWrite a Python program to swap two variables without temp variable?"
   ]
  },
  {
   "cell_type": "code",
   "execution_count": 1,
   "metadata": {
    "id": "Scel-HujRQ3K"
   },
   "outputs": [
    {
     "name": "stdout",
     "output_type": "stream",
     "text": [
      "Enter the value of varaible 1 : 10\n",
      "Enter the value of varaible 2 : 20\n",
      "Before swap The Variable 1 is 10 and Variable 2 is 20\n",
      "After swap The Variable 1 is 20 and Variable 2 is 10\n"
     ]
    }
   ],
   "source": [
    "## Answer\n",
    "var1=input(\"Enter the value of varaible 1 : \")\n",
    "var2=input(\"Enter the value of varaible 2 : \")\n",
    "print(f\"Before swap The Variable 1 is {var1} and Variable 2 is {var2}\")\n",
    "var1,var2=var2,var1\n",
    "print(f\"After swap The Variable 1 is {var1} and Variable 2 is {var2}\")"
   ]
  }
 ],
 "metadata": {
  "colab": {
   "provenance": []
  },
  "kernelspec": {
   "display_name": "Python 3 (ipykernel)",
   "language": "python",
   "name": "python3"
  },
  "language_info": {
   "codemirror_mode": {
    "name": "ipython",
    "version": 3
   },
   "file_extension": ".py",
   "mimetype": "text/x-python",
   "name": "python",
   "nbconvert_exporter": "python",
   "pygments_lexer": "ipython3",
   "version": "3.10.9"
  }
 },
 "nbformat": 4,
 "nbformat_minor": 1
}
