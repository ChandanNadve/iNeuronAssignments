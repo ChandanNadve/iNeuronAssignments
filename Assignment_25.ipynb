{
  "cells": [
    {
      "cell_type": "markdown",
      "metadata": {
        "id": "Ir6xyl3CPqDV"
      },
      "source": [
        "Q1. What is the difference between enclosing a list comprehension in square brackets and parentheses?"
      ]
    },
    {
      "cell_type": "markdown",
      "metadata": {
        "id": "bMgM1mwSPrtR"
      },
      "source": [
        "Answer:\n",
        "\n",
        "List Comprehension with square bracket returns list\n",
        "\n",
        "List Comprehension with paraentheses returns generator"
      ]
    },
    {
      "cell_type": "code",
      "execution_count": 3,
      "metadata": {},
      "outputs": [
        {
          "name": "stdout",
          "output_type": "stream",
          "text": [
            "<class 'list'>\n",
            "<class 'generator'>\n"
          ]
        }
      ],
      "source": [
        "l=[i for i in range(0,10)]\n",
        "t=(i for i in range(0,10))\n",
        "print(type(l))\n",
        "print(type(t))"
      ]
    },
    {
      "cell_type": "markdown",
      "metadata": {
        "id": "qFLkqNh0Pryq"
      },
      "source": [
        "Q2. What is the relationship between generators and iterators?"
      ]
    },
    {
      "cell_type": "markdown",
      "metadata": {
        "id": "42kKuPpWPxew"
      },
      "source": [
        "Answer:\n",
        "\n",
        "Iterators stores the collections, during runtime it will call the elements from the stored collection one by one\n",
        "\n",
        "Generater stores the logic of collection, during runtime it will generate the  one by one element"
      ]
    },
    {
      "cell_type": "markdown",
      "metadata": {
        "id": "wK3ItEeiPxlf"
      },
      "source": [
        "Q3. What are the signs that a function is a generator function?"
      ]
    },
    {
      "cell_type": "markdown",
      "metadata": {
        "id": "FQbcWLUCPzlI"
      },
      "source": [
        "Answer:\n",
        "\n",
        "1. generator function used the yield function instead of return\n",
        "\n",
        "2. when you checked the type of function it will be type of class generator\n"
      ]
    },
    {
      "cell_type": "markdown",
      "metadata": {
        "id": "xsnZkDBUPzsI"
      },
      "source": [
        "Q4. What is the purpose of a yield statement?"
      ]
    },
    {
      "cell_type": "markdown",
      "metadata": {
        "id": "3saELO8xPzvK"
      },
      "source": [
        "Answer:\n",
        "\n",
        "Yield function is used to define a generator function"
      ]
    },
    {
      "cell_type": "markdown",
      "metadata": {
        "id": "d7-JL-ItP2UE"
      },
      "source": [
        "Q5. What is the relationship between map calls and list comprehensions? Make a comparison and contrast between the two."
      ]
    },
    {
      "cell_type": "markdown",
      "metadata": {
        "id": "DHxReue5Pr1p"
      },
      "source": [
        "Answer:\n",
        "\n",
        "Both List Comprehension and map used for the list/data transformation\n",
        "* map returns the iterator of an function where as list returns a lit\n",
        "* map is more memory efficient compare to the list comprehension as map is implemented based on C\n",
        "* list comprehension having compact and high readability syntax compare to the map \n",
        "* map is more flexible for the writing logic and while accepting the number of inputs\n"
      ]
    },
    {
      "cell_type": "markdown",
      "metadata": {},
      "source": [
        "Example of Map"
      ]
    },
    {
      "cell_type": "code",
      "execution_count": 13,
      "metadata": {},
      "outputs": [
        {
          "name": "stdout",
          "output_type": "stream",
          "text": [
            "<map object at 0x0000028E710EA8E0>\n",
            "1\n",
            "4\n",
            "9\n",
            "16\n",
            "25\n"
          ]
        }
      ],
      "source": [
        "numbers = [1, 2, 3, 4, 5]\n",
        "squared = map(lambda x: x**2, numbers)\n",
        "print(squared)\n",
        "for i in squared:\n",
        "    print(i)"
      ]
    },
    {
      "cell_type": "markdown",
      "metadata": {},
      "source": [
        "Example of List comprehension"
      ]
    },
    {
      "cell_type": "code",
      "execution_count": 15,
      "metadata": {},
      "outputs": [
        {
          "name": "stdout",
          "output_type": "stream",
          "text": [
            "[1, 4, 9, 16, 25]\n",
            "1\n",
            "4\n",
            "9\n",
            "16\n",
            "25\n"
          ]
        }
      ],
      "source": [
        "numbers = [1, 2, 3, 4, 5]\n",
        "squared = [i**2 for i in numbers]\n",
        "print(squared)\n",
        "for i in squared:\n",
        "    print(i)"
      ]
    }
  ],
  "metadata": {
    "colab": {
      "provenance": []
    },
    "kernelspec": {
      "display_name": "Python 3",
      "name": "python3"
    },
    "language_info": {
      "codemirror_mode": {
        "name": "ipython",
        "version": 3
      },
      "file_extension": ".py",
      "mimetype": "text/x-python",
      "name": "python",
      "nbconvert_exporter": "python",
      "pygments_lexer": "ipython3",
      "version": "3.9.12"
    }
  },
  "nbformat": 4,
  "nbformat_minor": 0
}
