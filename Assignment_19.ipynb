{
 "cells": [
  {
   "cell_type": "markdown",
   "metadata": {
    "id": "jd2Gs0lKLmSW"
   },
   "source": [
    "1. Make a class called Thing with no contents and print it. Then, create an object called example from this class and also print it. Are the printed values the same or different?"
   ]
  },
  {
   "cell_type": "code",
   "execution_count": 6,
   "metadata": {
    "id": "yOxENyt2LqtC"
   },
   "outputs": [
    {
     "name": "stdout",
     "output_type": "stream",
     "text": [
      "<class '__main__.Thing'>\n",
      "<__main__.Thing object at 0x000001DABBEA9CC0>\n"
     ]
    }
   ],
   "source": [
    "## Answer\n",
    "class Thing:\n",
    "    pass\n",
    "\n",
    "print(Thing)\n",
    "example=Thing()\n",
    "print(example)\n"
   ]
  },
  {
   "cell_type": "markdown",
   "metadata": {
    "id": "iCTMMFTWLqwA"
   },
   "source": [
    "2. Create a new class called Thing2 and add the value 'abc' to the letters class attribute. Letters should be printed."
   ]
  },
  {
   "cell_type": "code",
   "execution_count": 3,
   "metadata": {
    "id": "8e8z7bJqLqzE"
   },
   "outputs": [
    {
     "name": "stdout",
     "output_type": "stream",
     "text": [
      "abc\n"
     ]
    }
   ],
   "source": [
    "## Answer\n",
    "class Thing2:\n",
    "    def __init__(self):\n",
    "        self.letters='abc'\n",
    "        \n",
    "obj=Thing2()        \n",
    "print(obj.letters)"
   ]
  },
  {
   "cell_type": "markdown",
   "metadata": {
    "id": "nRAefeLDLq2K"
   },
   "source": [
    "3. Make yet another class called, of course, Thing3. This time, assign the value 'xyz' to an instance (object) attribute called letters. Print letters. Do you need to make an object from the class to do this?"
   ]
  },
  {
   "cell_type": "code",
   "execution_count": 4,
   "metadata": {
    "id": "0njfVL57Lq46"
   },
   "outputs": [
    {
     "name": "stdout",
     "output_type": "stream",
     "text": [
      "xyz\n"
     ]
    }
   ],
   "source": [
    "## Answer\n",
    "class Thing3:\n",
    "    def __init__(self):\n",
    "        self.letters='xyz'\n",
    "\n",
    "obj=Thing3()        \n",
    "print(obj.letters)"
   ]
  },
  {
   "cell_type": "markdown",
   "metadata": {
    "id": "ccwNWEWrLq8J"
   },
   "source": [
    "4. Create an Element class with the instance attributes name, symbol, and number. Create a class object with the values 'Hydrogen,' 'H,' and 1."
   ]
  },
  {
   "cell_type": "code",
   "execution_count": 7,
   "metadata": {
    "id": "YWf5iTLcLq_J"
   },
   "outputs": [
    {
     "name": "stdout",
     "output_type": "stream",
     "text": [
      "Hydrogen\n",
      "H\n",
      "1\n"
     ]
    }
   ],
   "source": [
    "## Answer\n",
    "class element:\n",
    "    def __init__(self,name,symbol,number):\n",
    "        self.name=name\n",
    "        self.symbol=symbol\n",
    "        self.number=number\n",
    "\n",
    "obj=element('Hydrogen' ,'H', 1)\n",
    "print(obj.name)\n",
    "print(obj.symbol)\n",
    "print(obj.number)"
   ]
  },
  {
   "cell_type": "markdown",
   "metadata": {
    "id": "1B6xOMykLrCA"
   },
   "source": [
    "5. Make a dictionary with these keys and values: 'name': 'Hydrogen', 'symbol': 'H', 'number': 1. Then, create an object called hydrogen from class Element using this dictionary."
   ]
  },
  {
   "cell_type": "code",
   "execution_count": 8,
   "metadata": {
    "id": "Ol5mwrr8L4SE"
   },
   "outputs": [
    {
     "name": "stdout",
     "output_type": "stream",
     "text": [
      "Hydrogen\n",
      "H\n",
      "1\n"
     ]
    }
   ],
   "source": [
    "## Answer\n",
    "element_dict= {'name': 'Hydrogen', 'symbol': 'H', 'number': 1}\n",
    "\n",
    "class element:\n",
    "    def __init__(self,name,symbol,number):\n",
    "        self.name=name\n",
    "        self.symbol=symbol\n",
    "        self.number=number\n",
    "\n",
    "hydrogen=element(element_dict['name'],element_dict['symbol'],element_dict['number'])\n",
    "print(hydrogen.name)\n",
    "print(hydrogen.symbol)\n",
    "print(hydrogen.number)"
   ]
  },
  {
   "cell_type": "markdown",
   "metadata": {
    "id": "9RgTg00dL4VD"
   },
   "source": [
    "6. For the Element class, define a method called dump() that prints the values of the object’s attributes (name, symbol, and number). Create the hydrogen object from this new definition and use dump() to print its attributes."
   ]
  },
  {
   "cell_type": "code",
   "execution_count": 12,
   "metadata": {
    "id": "HNQOzeN4L4YX"
   },
   "outputs": [
    {
     "name": "stdout",
     "output_type": "stream",
     "text": [
      "Hydrogen\n",
      "H\n",
      "1\n"
     ]
    }
   ],
   "source": [
    "## Answer\n",
    "element_dict= {'name': 'Hydrogen', 'symbol': 'H', 'number': 1}\n",
    "\n",
    "class element:\n",
    "    def __init__(self,name,symbol,number):\n",
    "        self.name=name\n",
    "        self.symbol=symbol\n",
    "        self.number=number\n",
    "    \n",
    "    def dump(self):\n",
    "        print(self.name)\n",
    "        print(self.symbol)\n",
    "        print(self.number)\n",
    "\n",
    "hydrogen=element(element_dict['name'],element_dict['symbol'],element_dict['number'])\n",
    "\n",
    "hydrogen.dump()"
   ]
  },
  {
   "cell_type": "markdown",
   "metadata": {
    "id": "LcHfkeI9L4bV"
   },
   "source": [
    "7. Call print(hydrogen). In the definition of Element, change the name of method dump to __str__, create a new hydrogen object, and call print(hydrogen) again."
   ]
  },
  {
   "cell_type": "code",
   "execution_count": 16,
   "metadata": {
    "id": "msb9iZZ_L4eX"
   },
   "outputs": [
    {
     "name": "stdout",
     "output_type": "stream",
     "text": [
      "Hydrogen\n",
      "H\n",
      "1\n",
      "<__main__.element object at 0x0000024DF4B587F0>\n",
      "<__main__.element object at 0x0000024DF62284F0>\n"
     ]
    }
   ],
   "source": [
    "## Answer\n",
    "element_dict= {'name': 'Hydrogen', 'symbol': 'H', 'number': 1}\n",
    "\n",
    "class element:\n",
    "    def __init__(self,name,symbol,number):\n",
    "        self.name=name\n",
    "        self.symbol=symbol\n",
    "        self.number=number\n",
    "    \n",
    "    def dump(self):\n",
    "        print(self.name)\n",
    "        print(self.symbol)\n",
    "        print(self.number)\n",
    "\n",
    "hydrogen=element(element_dict['name'],element_dict['symbol'],element_dict['number'])\n",
    "\n",
    "hydrogen.dump()\n",
    "print(hydrogen)\n",
    "\n",
    "\n",
    "element_dict= {'name': 'Hydrogen', 'symbol': 'H', 'number': 1}\n",
    "\n",
    "class element:\n",
    "    def __init__(self,name,symbol,number):\n",
    "        self.name=name\n",
    "        self.symbol=symbol\n",
    "        self.number=number\n",
    "    \n",
    "    def str(self):\n",
    "        print(self.name)\n",
    "        print(self.symbol)\n",
    "        print(self.number)\n",
    "\n",
    "hydrogen=element(element_dict['name'],element_dict['symbol'],element_dict['number'])\n",
    "\n",
    "print(hydrogen)"
   ]
  },
  {
   "cell_type": "markdown",
   "metadata": {
    "id": "BiRgu2F1L4he"
   },
   "source": [
    "8. Modify Element to make the attributes name, symbol, and number private. Define a getter property for each to return its value."
   ]
  },
  {
   "cell_type": "code",
   "execution_count": null,
   "metadata": {
    "id": "l67db0XhL4kW"
   },
   "outputs": [],
   "source": [
    "## Answer\n"
   ]
  },
  {
   "cell_type": "markdown",
   "metadata": {
    "id": "cQC0AIY2LrE2"
   },
   "source": [
    "9. Define three classes: Bear, Rabbit, and Octothorpe. For each, define only one method: eats(). This should return 'berries' (Bear), 'clover' (Rabbit), or 'campers' (Octothorpe). Create one object from each and print what it eats."
   ]
  },
  {
   "cell_type": "code",
   "execution_count": null,
   "metadata": {
    "id": "-TSkl92BL_fC"
   },
   "outputs": [],
   "source": [
    "## Answer\n"
   ]
  },
  {
   "cell_type": "markdown",
   "metadata": {
    "id": "NyKXFIbxL_iB"
   },
   "source": [
    "10. Define these classes: Laser, Claw, and SmartPhone. Each has only one method: does(). This returns 'disintegrate' (Laser), 'crush' (Claw), or 'ring' (SmartPhone). Then, define the class Robot that has one instance (object) of each of these. Define a does() method for the Robot that prints what its component objects do."
   ]
  },
  {
   "cell_type": "code",
   "execution_count": null,
   "metadata": {
    "id": "6DwV6OZZL_lP"
   },
   "outputs": [],
   "source": [
    "## Answer\n"
   ]
  }
 ],
 "metadata": {
  "colab": {
   "provenance": []
  },
  "kernelspec": {
   "display_name": "Python 3 (ipykernel)",
   "language": "python",
   "name": "python3"
  },
  "language_info": {
   "codemirror_mode": {
    "name": "ipython",
    "version": 3
   },
   "file_extension": ".py",
   "mimetype": "text/x-python",
   "name": "python",
   "nbconvert_exporter": "python",
   "pygments_lexer": "ipython3",
   "version": "3.10.9"
  }
 },
 "nbformat": 4,
 "nbformat_minor": 1
}
