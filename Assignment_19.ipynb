{
 "cells": [
  {
   "cell_type": "markdown",
   "metadata": {
    "id": "jd2Gs0lKLmSW"
   },
   "source": [
    "1. Make a class called Thing with no contents and print it. Then, create an object called example from this class and also print it. Are the printed values the same or different?"
   ]
  },
  {
   "cell_type": "code",
   "execution_count": 13,
   "metadata": {
    "id": "yOxENyt2LqtC"
   },
   "outputs": [
    {
     "name": "stdout",
     "output_type": "stream",
     "text": [
      "<class '__main__.Thing'>\n",
      "<__main__.Thing object at 0x000002D7486E9960>\n"
     ]
    }
   ],
   "source": [
    "## Answer\n",
    "class Thing:\n",
    "    pass\n",
    "\n",
    "print(Thing)\n",
    "example=Thing()\n",
    "print(example)\n"
   ]
  },
  {
   "cell_type": "markdown",
   "metadata": {
    "id": "iCTMMFTWLqwA"
   },
   "source": [
    "2. Create a new class called Thing2 and add the value 'abc' to the letters class attribute. Letters should be printed."
   ]
  },
  {
   "cell_type": "code",
   "execution_count": 14,
   "metadata": {
    "id": "8e8z7bJqLqzE"
   },
   "outputs": [
    {
     "name": "stdout",
     "output_type": "stream",
     "text": [
      "abc\n"
     ]
    }
   ],
   "source": [
    "## Answer\n",
    "class Thing2:\n",
    "    def __init__(self):\n",
    "        self.letters='abc'\n",
    "        \n",
    "obj=Thing2()        \n",
    "print(obj.letters)"
   ]
  },
  {
   "cell_type": "markdown",
   "metadata": {
    "id": "nRAefeLDLq2K"
   },
   "source": [
    "3. Make yet another class called, of course, Thing3. This time, assign the value 'xyz' to an instance (object) attribute called letters. Print letters. Do you need to make an object from the class to do this?"
   ]
  },
  {
   "cell_type": "code",
   "execution_count": 15,
   "metadata": {
    "id": "0njfVL57Lq46"
   },
   "outputs": [
    {
     "name": "stdout",
     "output_type": "stream",
     "text": [
      "xyz\n"
     ]
    }
   ],
   "source": [
    "## Answer\n",
    "class Thing3:\n",
    "    def __init__(self):\n",
    "        self.letters='xyz'\n",
    "\n",
    "obj=Thing3()        \n",
    "print(obj.letters)"
   ]
  },
  {
   "cell_type": "markdown",
   "metadata": {
    "id": "ccwNWEWrLq8J"
   },
   "source": [
    "4. Create an Element class with the instance attributes name, symbol, and number. Create a class object with the values 'Hydrogen,' 'H,' and 1."
   ]
  },
  {
   "cell_type": "code",
   "execution_count": 16,
   "metadata": {
    "id": "YWf5iTLcLq_J"
   },
   "outputs": [
    {
     "name": "stdout",
     "output_type": "stream",
     "text": [
      "Hydrogen\n",
      "H\n",
      "1\n"
     ]
    }
   ],
   "source": [
    "## Answer\n",
    "class element:\n",
    "    def __init__(self,name,symbol,number):\n",
    "        self.name=name\n",
    "        self.symbol=symbol\n",
    "        self.number=number\n",
    "\n",
    "obj=element('Hydrogen' ,'H', 1)\n",
    "print(obj.name)\n",
    "print(obj.symbol)\n",
    "print(obj.number)"
   ]
  },
  {
   "cell_type": "markdown",
   "metadata": {
    "id": "1B6xOMykLrCA"
   },
   "source": [
    "5. Make a dictionary with these keys and values: 'name': 'Hydrogen', 'symbol': 'H', 'number': 1. Then, create an object called hydrogen from class Element using this dictionary."
   ]
  },
  {
   "cell_type": "code",
   "execution_count": 17,
   "metadata": {
    "id": "Ol5mwrr8L4SE"
   },
   "outputs": [
    {
     "name": "stdout",
     "output_type": "stream",
     "text": [
      "Hydrogen\n",
      "H\n",
      "1\n"
     ]
    }
   ],
   "source": [
    "## Answer\n",
    "element_dict= {'name': 'Hydrogen', 'symbol': 'H', 'number': 1}\n",
    "\n",
    "class element:\n",
    "    def __init__(self,name,symbol,number):\n",
    "        self.name=name\n",
    "        self.symbol=symbol\n",
    "        self.number=number\n",
    "\n",
    "hydrogen=element(element_dict['name'],element_dict['symbol'],element_dict['number'])\n",
    "print(hydrogen.name)\n",
    "print(hydrogen.symbol)\n",
    "print(hydrogen.number)"
   ]
  },
  {
   "cell_type": "markdown",
   "metadata": {
    "id": "9RgTg00dL4VD"
   },
   "source": [
    "6. For the Element class, define a method called dump() that prints the values of the object’s attributes (name, symbol, and number). Create the hydrogen object from this new definition and use dump() to print its attributes."
   ]
  },
  {
   "cell_type": "code",
   "execution_count": 18,
   "metadata": {
    "id": "HNQOzeN4L4YX"
   },
   "outputs": [
    {
     "name": "stdout",
     "output_type": "stream",
     "text": [
      "Hydrogen\n",
      "H\n",
      "1\n"
     ]
    }
   ],
   "source": [
    "## Answer\n",
    "element_dict= {'name': 'Hydrogen', 'symbol': 'H', 'number': 1}\n",
    "\n",
    "class element:\n",
    "    def __init__(self,name,symbol,number):\n",
    "        self.name=name\n",
    "        self.symbol=symbol\n",
    "        self.number=number\n",
    "    \n",
    "    def dump(self):\n",
    "        print(self.name)\n",
    "        print(self.symbol)\n",
    "        print(self.number)\n",
    "\n",
    "hydrogen=element(element_dict['name'],element_dict['symbol'],element_dict['number'])\n",
    "\n",
    "hydrogen.dump()"
   ]
  },
  {
   "cell_type": "markdown",
   "metadata": {
    "id": "LcHfkeI9L4bV"
   },
   "source": [
    "7. Call print(hydrogen). In the definition of Element, change the name of method dump to __str__, create a new hydrogen object, and call print(hydrogen) again."
   ]
  },
  {
   "cell_type": "code",
   "execution_count": 19,
   "metadata": {},
   "outputs": [
    {
     "name": "stdout",
     "output_type": "stream",
     "text": [
      "<__main__.element object at 0x000002D74872AB00>\n"
     ]
    }
   ],
   "source": [
    "## Answer\n",
    "print(hydrogen)"
   ]
  },
  {
   "cell_type": "code",
   "execution_count": 20,
   "metadata": {
    "id": "msb9iZZ_L4eX"
   },
   "outputs": [
    {
     "name": "stdout",
     "output_type": "stream",
     "text": [
      "Element name is Hydrogen, Element symbol is H,Element Number is 1\n"
     ]
    }
   ],
   "source": [
    "class element:\n",
    "    def __init__(self,name,symbol,number):\n",
    "        self.name=name\n",
    "        self.symbol=symbol\n",
    "        self.number=number\n",
    "    \n",
    "    def __str__(self):\n",
    "        return f\"Element name is {self.name}, Element symbol is {self.symbol},Element Number is {self.number}\"\n",
    "\n",
    "hydrogen=element(element_dict['name'],element_dict['symbol'],element_dict['number'])\n",
    "print(hydrogen)"
   ]
  },
  {
   "cell_type": "markdown",
   "metadata": {
    "id": "BiRgu2F1L4he"
   },
   "source": [
    "8. Modify Element to make the attributes name, symbol, and number private. Define a getter property for each to return its value."
   ]
  },
  {
   "cell_type": "code",
   "execution_count": 21,
   "metadata": {
    "id": "l67db0XhL4kW"
   },
   "outputs": [
    {
     "name": "stdout",
     "output_type": "stream",
     "text": [
      "Hydrogen\n",
      "H\n",
      "1\n"
     ]
    }
   ],
   "source": [
    "## Answer\n",
    "class element:\n",
    "    def __init__(self,name,symbol,number):\n",
    "        self.__name=name\n",
    "        self.__symbol=symbol\n",
    "        self.__number=number\n",
    "        \n",
    "    @property\n",
    "    def name(self):\n",
    "        return self.__name\n",
    "\n",
    "    @property\n",
    "    def symbol(self):\n",
    "        return self.__symbol\n",
    "    \n",
    "    @property\n",
    "    def number(self):\n",
    "        return self.__number\n",
    "\n",
    "hydrogen=element('Hydrogen','H',1)\n",
    "print(hydrogen.name)\n",
    "print(hydrogen.symbol)\n",
    "print(hydrogen.number)\n"
   ]
  },
  {
   "cell_type": "markdown",
   "metadata": {
    "id": "cQC0AIY2LrE2"
   },
   "source": [
    "9. Define three classes: Bear, Rabbit, and Octothorpe. For each, define only one method: eats(). This should return 'berries' (Bear), 'clover' (Rabbit), or 'campers' (Octothorpe). Create one object from each and print what it eats."
   ]
  },
  {
   "cell_type": "code",
   "execution_count": 22,
   "metadata": {
    "id": "-TSkl92BL_fC"
   },
   "outputs": [
    {
     "name": "stdout",
     "output_type": "stream",
     "text": [
      "berries\n",
      "clover\n",
      "campers\n"
     ]
    }
   ],
   "source": [
    "## Answer\n",
    "class Bear:\n",
    "    def eats(self):\n",
    "        return 'berries'\n",
    "\n",
    "class Rabbit:\n",
    "    def eats(self):\n",
    "        return 'clover'\n",
    "\n",
    "class Octothorpe:\n",
    "    def eats(self):\n",
    "        return 'campers'\n",
    "\n",
    "obj1=Bear()\n",
    "obj2=Rabbit()\n",
    "obj3=Octothorpe()\n",
    "\n",
    "print(obj1.eats())\n",
    "print(obj2.eats())\n",
    "print(obj3.eats())"
   ]
  },
  {
   "cell_type": "markdown",
   "metadata": {
    "id": "NyKXFIbxL_iB"
   },
   "source": [
    "10. Define these classes: Laser, Claw, and SmartPhone. Each has only one method: does(). This returns 'disintegrate' (Laser), 'crush' (Claw), or 'ring' (SmartPhone). Then, define the class Robot that has one instance (object) of each of these. Define a does() method for the Robot that prints what its component objects do."
   ]
  },
  {
   "cell_type": "code",
   "execution_count": 23,
   "metadata": {
    "id": "6DwV6OZZL_lP"
   },
   "outputs": [
    {
     "name": "stdout",
     "output_type": "stream",
     "text": [
      "My laser, to disintegrate. My claw, to crush.My smartphone, to ring.\n"
     ]
    }
   ],
   "source": [
    "## Answer\n",
    "class Laser:\n",
    "    def does(self):\n",
    "        return 'disintegrate'\n",
    "\n",
    "class Claw:\n",
    "    def does(self):\n",
    "        return 'crush'\n",
    "\n",
    "class SmartIPhone:\n",
    "    def does(self):\n",
    "        return 'ring'\n",
    "\n",
    "class Robot:\n",
    "    def __init__(self):\n",
    "        self.laser=Laser()\n",
    "        self.claw=Claw()\n",
    "        self.smartphone=SmartIPhone()\n",
    "    \n",
    "    def does(self):\n",
    "        return '''My laser, to %s. My claw, to %s.My smartphone, to %s.''' % (self.laser.does(),self.claw.does(),self.smartphone.does())\n",
    "\n",
    "obj1=Robot()\n",
    "print(obj1.does())"
   ]
  }
 ],
 "metadata": {
  "colab": {
   "provenance": []
  },
  "kernelspec": {
   "display_name": "Python 3 (ipykernel)",
   "language": "python",
   "name": "python3"
  },
  "language_info": {
   "codemirror_mode": {
    "name": "ipython",
    "version": 3
   },
   "file_extension": ".py",
   "mimetype": "text/x-python",
   "name": "python",
   "nbconvert_exporter": "python",
   "pygments_lexer": "ipython3",
   "version": "3.10.9"
  }
 },
 "nbformat": 4,
 "nbformat_minor": 1
}
