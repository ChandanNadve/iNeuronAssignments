{
  "cells": [
    {
      "cell_type": "markdown",
      "metadata": {
        "id": "eRPgwv-vrTsf"
      },
      "source": [
        "1. In what modes should the PdfFileReader() and PdfFileWriter() File objects will be opened?"
      ]
    },
    {
      "cell_type": "code",
      "execution_count": null,
      "metadata": {
        "id": "X8SuIpEprVdi"
      },
      "outputs": [],
      "source": [
        "## Answer\n",
        "For the PdfFileReader() we need to open the PDF Files with \"rb\" mode\n",
        "For the PdfFileWriter() we need to open the PDF Files with \"wb\" mode"
      ]
    },
    {
      "cell_type": "markdown",
      "metadata": {
        "id": "AGJ7M6t4rVgm"
      },
      "source": [
        "2. From a PdfFileReader object, how do you get a Page object for page 5?"
      ]
    },
    {
      "cell_type": "code",
      "execution_count": 4,
      "metadata": {
        "colab": {
          "base_uri": "https://localhost:8080/"
        },
        "id": "fucbeU7brVjh",
        "outputId": "3cd08c16-d613-4b0e-adb9-8bc1fb3ad20f"
      },
      "outputs": [
        {
          "name": "stdout",
          "output_type": "stream",
          "text": [
            "<PyPDF2._page._VirtualList object at 0x000001FEE05961A0>\n",
            "Question6-\n",
            "UsingthedatafromQuestion3,writecodetoanalyzethedataandanswerthefollowingquestionsNote1.\n",
            "Drawplotstodemonstratetheanalysisforthefollowingquestionsforbettervisualizations.\n",
            "2.Writecodecommentswhereverrequiredforcodeunderstanding\n",
            "Insightstobedrawn-\n",
            "●GetallPokemonswhosespawnrateislessthan5% \n",
            "●GetallPokemonsthathavelessthan4weaknesses \n",
            "●GetallPokemonsthathavenomultipliersatall \n",
            "●GetallPokemonsthatdonothavemorethan2evolutions \n",
            "●GetallPokemonswhosespawntimeislessthan300seconds.\n",
            "Note-spawntimeformatis\"05:32”,soassume“minute:second”formatandperformtheanalysis.\n",
            "●GetallPokemonwhohavemorethantwotypesofcapabilities\n",
            "Question7-\n",
            "UsingthedatafromQuestion4,writecodetoanalyzethedataandanswerthefollowingquestionsNote-\n",
            "1.Drawplotstodemonstratetheanalysisforthefollowingquestionsforbettervisualizations\n",
            "2.Writecodecommentswhereverrequiredforcodeunderstanding\n",
            "Insightstobedrawn-\n",
            "●GetalltheEarthmeteoritesthatfellbeforetheyear2000 \n",
            "●Getalltheearthmeteoritesco-ordinateswhofellbeforetheyear1970 \n",
            "●Assumingthatthemassoftheearthmeteoriteswasinkg,getallthosewhosemasswasmorethan10000kg\n"
          ]
        }
      ],
      "source": [
        "## Answer\n",
        "## PdfFileReader is currently deprecated so we need to use PdfReader\n",
        "import PyPDF2 as pp\n",
        "pdfdoc=open('Data Science.pdf','rb')\n",
        "pdfreader=pp.PdfReader(pdfdoc)\n",
        "print(pdfreader.pages)\n",
        "pdf_object=pdfreader.pages[4]\n",
        "print(pdf_object.extract_text())\n",
        "pdfdoc.close()"
      ]
    },
    {
      "cell_type": "markdown",
      "metadata": {
        "id": "BOuvMwXBrVmp"
      },
      "source": [
        "3. What PdfFileReader variable stores the number of pages in the PDF document?"
      ]
    },
    {
      "cell_type": "code",
      "execution_count": null,
      "metadata": {
        "id": "SJ6dBQ2erVpj"
      },
      "outputs": [],
      "source": [
        "## Answer\n",
        "# It was storing in \"numPages\" Variable but as PdfFileReader is deprepcated now we cant use it.\n",
        "# Alternatively we need to use for the \"pages\" Variable from PdfReader."
      ]
    },
    {
      "cell_type": "markdown",
      "metadata": {
        "id": "nIxNETPRrVsr"
      },
      "source": [
        "4. If a PdfFileReader object’s PDF is encrypted with the password swordfish, what must you do before you can obtain Page objects from it?"
      ]
    },
    {
      "cell_type": "code",
      "execution_count": 5,
      "metadata": {
        "colab": {
          "base_uri": "https://localhost:8080/"
        },
        "id": "7Wt-NLDdrVv0",
        "outputId": "0fadb87b-7b9b-47b0-881e-9c29badafc53"
      },
      "outputs": [
        {
          "name": "stdout",
          "output_type": "stream",
          "text": [
            " A Simple PDF File \n",
            " This is a small demonstration .pdf file - \n",
            " just for use in the Virtual Mechanics tutorials. More text. And more \n",
            " text. And more text. And more text. And more text. \n",
            " And more text. And more text. And more text. And more text. And more \n",
            " text. And more text. Boring, zzzzz. And more text. And more text. And \n",
            " more text. And more text. And more text. And more text. And more text. \n",
            " And more text. And more text. \n",
            " And more text. And more text. And more text. And more text. And more \n",
            " text. And more text. And more text. Even more. Continued on page 2 ...\n"
          ]
        }
      ],
      "source": [
        "## Answer\n",
        "# We need to decrypt the pages using the decrypt methond\n",
        "import PyPDF2 as pp\n",
        "pdfdoc=open('sample.pdf','rb')\n",
        "pdfreader=pp.PdfReader(pdfdoc)\n",
        "if pdfreader.is_encrypted:\n",
        "  pdfreader.decrypt('swordfish')\n",
        "pdfobj=pdfreader.pages[0]\n",
        "print(pdfobj.extract_text())\n",
        "pdfdoc.close()"
      ]
    },
    {
      "cell_type": "markdown",
      "metadata": {
        "id": "Zq9usQIirVy4"
      },
      "source": [
        "5. What methods do you use to rotate a page?"
      ]
    },
    {
      "cell_type": "code",
      "execution_count": 6,
      "metadata": {
        "colab": {
          "base_uri": "https://localhost:8080/"
        },
        "id": "EL5spr2jrV1z",
        "outputId": "d88f7836-26b6-4385-ef93-714f3bbcec7c"
      },
      "outputs": [
        {
          "name": "stdout",
          "output_type": "stream",
          "text": [
            "<PyPDF2._page._VirtualList object at 0x000001FEE05EE200>\n"
          ]
        }
      ],
      "source": [
        "## Answer\n",
        "## PdfFileReader is currently deprecated so we need to use PdfReader\n",
        "# We are using  rotate(90) for rotating the page\n",
        "\n",
        "import PyPDF2 as pp\n",
        "pdfdoc = open('Data Science.pdf', 'rb')\n",
        "pdfreader = pp.PdfReader(pdfdoc)\n",
        "print(pdfreader.pages)\n",
        "pdf_object = pdfreader.pages[0]\n",
        "pdf_rotated = pdf_object.rotate(90)\n",
        "pdfnewdoc = pp.PdfWriter()\n",
        "pdfnewdoc.add_page(pdf_rotated)\n",
        "with open('New Data Science.pdf', 'wb') as output_file:\n",
        "    pdfnewdoc.write(output_file)\n",
        "pdfdoc.close()"
      ]
    },
    {
      "cell_type": "markdown",
      "metadata": {
        "id": "8ZqmJYoMrV4m"
      },
      "source": [
        "6. What is the difference between a Run object and a Paragraph object?"
      ]
    },
    {
      "cell_type": "code",
      "execution_count": null,
      "metadata": {
        "id": "cgztQMYlrV7o"
      },
      "outputs": [],
      "source": [
        "## Answer\n",
        "# Run Object is a series of text which having same font style and size from begining to end.\n",
        "# A Paragraph object is complete paragraph. One Paragraph object can contain multiple run object."
      ]
    },
    {
      "cell_type": "markdown",
      "metadata": {
        "id": "GCB8lY6Mrksn"
      },
      "source": [
        "7. How do you obtain a list of Paragraph objects for a Document object that’s stored in a variable named doc?"
      ]
    },
    {
      "cell_type": "code",
      "execution_count": 26,
      "metadata": {
        "id": "p32m6sJSrkwh"
      },
      "outputs": [
        {
          "name": "stdout",
          "output_type": "stream",
          "text": [
            "['Data science', 'Data science is an interdisciplinary academic field [1] that uses statistics, scientific computing, scientific methods, processes, algorithms and systems to extract or extrapolate knowledge and insights from noisy, structured, and unstructured data.[2]', '', 'Data science also integrates domain knowledge from the underlying application domain (e.g., natural sciences, information technology, and medicine).[3] Data science is multifaceted and can be described as a science, a research paradigm, a research method, a discipline, a workflow, and a profession.[4]', '', 'Data science is a \"concept to unify statistics, data analysis, informatics, and their related methods\" to \"understand and analyze actual phenomena\" with data.[5] It uses techniques and theories drawn from many fields within the context of mathematics, statistics, computer science, information science, and domain knowledge.[6] However, data science is different from computer science and information science. Turing Award winner Jim Gray imagined data science as a \"fourth paradigm\" of science (empirical, theoretical, computational, and now data-driven) and asserted that \"everything about science is changing because of the impact of information technology\" and the data deluge.[7][8]', '', 'A data scientist is a professional who creates programming code and combines it with statistical knowledge to create insights from data.[9]', '', 'Foundations', 'Data science is an interdisciplinary field[10] focused on extracting knowledge from typically large data sets and applying the knowledge and insights from that data to solve problems in a wide range of application domains.[11] The field encompasses preparing data for analysis, formulating data science problems, analyzing data, developing data-driven solutions, and presenting findings to inform high-level decisions in a broad range of application domains. As such, it incorporates skills from computer science, statistics, information science, mathematics, data visualization, information visualization, data sonification, data integration, graphic design, complex systems, communication and business.[12][13] Statistician Nathan Yau, drawing on Ben Fry, also links data science to human–computer interaction: users should be able to intuitively control and explore data.[14][15] In 2015, the American Statistical Association identified database management, statistics and machine learning, and distributed and parallel systems as the three emerging foundational professional communities.[16]', '', 'Relationship to statistics', 'Many statisticians, including Nate Silver, have argued that data science is not a new field, but rather another name for statistics.[17] Others argue that data science is distinct from statistics because it focuses on problems and techniques unique to digital data.[18] Vasant Dhar writes that statistics emphasizes quantitative data and description. In contrast, data science deals with quantitative and qualitative data (e.g., from images, text, sensors, transactions, customer information, etc.) and emphasizes prediction and action.[19] Andrew Gelman of Columbia University has described statistics as a non-essential part of data science.[20]', '', 'Stanford professor David Donoho writes that data science is not distinguished from statistics by the size of datasets or use of computing and that many graduate programs misleadingly advertise their analytics and statistics training as the essence of a data-science program. He describes data science as an applied field growing out of traditional statistics.[21]', '', 'Etymology', 'Early usage', 'In 1962, John Tukey described a field he called \"data analysis\", which resembles modern data science.[21] In 1985, in a lecture given to the Chinese Academy of Sciences in Beijing, C. F. Jeff Wu used the term \"data science\" for the first time as an alternative name for statistics.[22] Later, attendees at a 1992 statistics symposium at the University of Montpellier  II acknowledged the emergence of a new discipline focused on data of various origins and forms, combining established concepts and principles of statistics and data analysis with computing.[23][24]', '', 'The term \"data science\" has been traced back to 1974, when Peter Naur proposed it as an alternative name to computer science.[6] In 1996, the International Federation of Classification Societies became the first conference to specifically feature data science as a topic.[6] However, the definition was still in flux. After the 1985 lecture at the Chinese Academy of Sciences in Beijing, in 1997 C. F. Jeff Wu again suggested that statistics should be renamed data science. He reasoned that a new name would help statistics shed inaccurate stereotypes, such as being synonymous with accounting or limited to describing data.[25] In 1998, Hayashi Chikio argued for data science as a new, interdisciplinary concept, with three aspects: data design, collection, and analysis.[24]', '', 'During the 1990s, popular terms for the process of finding patterns in datasets (which were increasingly large) included \"knowledge discovery\" and \"data mining\".[6][26]', '', 'Modern usage', 'In 2012, technologists Thomas H. Davenport and DJ Patil declared \"Data Scientist: The Sexiest Job of the 21st Century\",[27] a catchphrase that was picked up even by major-city newspapers like the New York Times[28] and the Boston Globe.[29] A decade later, they reaffirmed it, stating that \"the job is more in demand than ever with employers\".[30]', '', 'The modern conception of data science as an independent discipline is sometimes attributed to William S. Cleveland.[31] In a 2001 paper, he advocated an expansion of statistics beyond theory into technical areas; because this would significantly change the field, it warranted a new name.[26] \"Data science\" became more widely used in the next few years: in 2002, the Committee on Data for Science and Technology launched the Data Science Journal. In 2003, Columbia University launched The Journal of Data Science.[26] In 2014, the American Statistical Association\\'s Section on Statistical Learning and Data Mining changed its name to the Section on Statistical Learning and Data Science, reflecting the ascendant popularity of data science.[32]', '', 'The professional title of \"data scientist\" has been attributed to DJ Patil and Jeff Hammerbacher in 2008.[33] Though it was used by the National Science Board in their 2005 report \"Long-Lived Digital Data Collections: Enabling Research and Education in the 21st Century\", it referred broadly to any key role in managing a digital data collection.[34]', '', 'There is still no consensus on the definition of data science, and it is considered by some to be a buzzword.[35] Big data is a related marketing term.[36] Data scientists are responsible for breaking down big data into usable information and creating software and algorithms that help companies and organizations determine optimal operations.[37]', '', 'Data Science And Data Analysis', 'Data science and data analysis are both important disciplines in the field of data management and analysis, but they differ in several key ways. While both fields involve working with data, data science is more of an interdisciplinary field that involves the application of statistical, computational, and machine learning methods to extract insights from data and make predictions, while data analysis is more focused on the examination and interpretation of data to identify patterns and trends.[38][39]', '', 'Data analysis typically involves working with smaller, structured datasets to answer specific questions or solve specific problems. This can involve tasks such as data cleaning, data visualization, and exploratory data analysis to gain insights into the data and develop hypotheses about relationships between variables. Data analysts typically use statistical methods to test these hypotheses and draw conclusions from the data. For example, a data analyst might analyze sales data to identify trends in customer behavior and make recommendations for marketing strategies.[38]', '', 'Data science, on the other hand, is a more complex and iterative process that involves working with larger, more complex datasets that often require advanced computational and statistical methods to analyze. Data scientists often work with unstructured data such as text or images and use machine learning algorithms to build predictive models and make data-driven decisions. In addition to statistical analysis, data science often involves tasks such as data preprocessing, feature engineering, and model selection. For instance, a data scientist might develop a recommendation system for an e-commerce platform by analyzing user behavior patterns and using machine learning algorithms to predict user preferences.[39][40]', '', 'While data analysis focuses on extracting insights from existing data, data science goes beyond that by incorporating the development and implementation of predictive models to make informed decisions. Data scientists are often responsible for collecting and cleaning data, selecting appropriate analytical techniques, and deploying models in real-world scenarios. They work at the intersection of mathematics, computer science, and domain expertise to solve complex problems and uncover hidden patterns in large datasets.[39]', '', 'Despite these differences, data science and data analysis are closely related fields and often require similar skill sets. Both fields require a solid foundation in statistics, programming, and data visualization, as well as the ability to communicate findings effectively to both technical and non-technical audiences. Moreover, both fields benefit from critical thinking and domain knowledge, as understanding the context and nuances of the data is essential for accurate analysis and modeling.[38][39]', '', 'In summary, data analysis and data science are distinct yet interconnected disciplines within the broader field of data management and analysis. Data analysis focuses on extracting insights and drawing conclusions from structured data, while data science involves a more comprehensive approach that combines statistical analysis, computational methods, and machine learning to extract insights, build predictive models, and drive data-driven decision-making. Both fields play vital roles in leveraging the power of data to understand patterns, make informed decisions, and solve complex problems across various domains.']\n"
          ]
        }
      ],
      "source": [
        "## Answer\n",
        "from docx import Document\n",
        "doc= Document(r\"sample.docx\")\n",
        "para_list=[]\n",
        "for i in range(0,len(doc.paragraphs)):\n",
        "    para_list.append(doc.paragraphs[i].text)\n",
        "print(para_list)"
      ]
    },
    {
      "cell_type": "markdown",
      "metadata": {
        "id": "u0-UFVMcrkzj"
      },
      "source": [
        "8. What type of object has bold, underline, italic, strike, and outline variables?"
      ]
    },
    {
      "cell_type": "code",
      "execution_count": null,
      "metadata": {
        "id": "vYHwXkcxrojw"
      },
      "outputs": [],
      "source": [
        "## Answer\n",
        "# \"Run\" object is having these text attributes like bold,underlink,italic,strike and outline"
      ]
    },
    {
      "cell_type": "markdown",
      "metadata": {
        "id": "_wbrERExrom9"
      },
      "source": [
        "9. What is the difference between False, True, and None for the bold variable?"
      ]
    },
    {
      "cell_type": "code",
      "execution_count": 41,
      "metadata": {
        "id": "0WRJhz8yrop0"
      },
      "outputs": [],
      "source": [
        "## Answer\n",
        "# 1. None  - will reset the fomating to the default font\n",
        "# 2. False - will explictly removes the bold\n",
        "# 3. True - will make the bold"
      ]
    },
    {
      "cell_type": "markdown",
      "metadata": {
        "id": "XdXFwVF3rotO"
      },
      "source": [
        "10. How do you create a Document object for a new Word document?"
      ]
    },
    {
      "cell_type": "code",
      "execution_count": 42,
      "metadata": {
        "id": "jmLdn2norsUx"
      },
      "outputs": [],
      "source": [
        "## Answer\n",
        "# Following way we can create new document object for the new word document\n",
        "from docx import Document\n",
        "doc=Document()"
      ]
    },
    {
      "cell_type": "markdown",
      "metadata": {
        "id": "4qssP0ClrsZj"
      },
      "source": [
        "11. How do you add a paragraph with the text 'Hello, there!' to a Document object stored in a variable named doc?"
      ]
    },
    {
      "cell_type": "code",
      "execution_count": 43,
      "metadata": {
        "id": "uZ5K9qGnrk2p"
      },
      "outputs": [
        {
          "name": "stdout",
          "output_type": "stream",
          "text": [
            "Hello,There!\n"
          ]
        }
      ],
      "source": [
        "## Answer\n",
        "# using add_paragraphs\n",
        "from docx import Document\n",
        "doc=Document()\n",
        "doc.add_paragraph('Hello,There!')\n",
        "print(doc.paragraphs[0].text)"
      ]
    },
    {
      "cell_type": "markdown",
      "metadata": {
        "id": "fKKWuJ8lrzTu"
      },
      "source": [
        "12. What integers represent the levels of headings available in Word documents?"
      ]
    },
    {
      "cell_type": "code",
      "execution_count": null,
      "metadata": {
        "id": "0Iuqhm6Yr0E_"
      },
      "outputs": [],
      "source": [
        "## Answer\n",
        "'''\n",
        "0 to 4 integers represent the levels of heading in word Document\n",
        "0 - Header 0\n",
        "1 - Header 1\n",
        "2 - Header 2\n",
        "3 - Header 3\n",
        "4 - Header 4\n",
        "'''"
      ]
    }
  ],
  "metadata": {
    "colab": {
      "provenance": []
    },
    "kernelspec": {
      "display_name": "Python 3",
      "name": "python3"
    },
    "language_info": {
      "codemirror_mode": {
        "name": "ipython",
        "version": 3
      },
      "file_extension": ".py",
      "mimetype": "text/x-python",
      "name": "python",
      "nbconvert_exporter": "python",
      "pygments_lexer": "ipython3",
      "version": "3.10.9"
    }
  },
  "nbformat": 4,
  "nbformat_minor": 0
}
